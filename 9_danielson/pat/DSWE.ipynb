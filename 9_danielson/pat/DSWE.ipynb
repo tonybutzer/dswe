{
 "cells": [
  {
   "cell_type": "code",
   "execution_count": 60,
   "id": "b1384a5a-99c5-49ae-9991-7f3669eb1a7a",
   "metadata": {},
   "outputs": [],
   "source": [
    "import rasterio as rio\n",
    "import numpy as np"
   ]
  },
  {
   "cell_type": "code",
   "execution_count": 61,
   "id": "47d7b493-6211-4988-bc56-6af89a0b9feb",
   "metadata": {},
   "outputs": [],
   "source": [
    "data = r'W:\\NLCDFS1\\lcnext\\Assessment_2023\\data\\landsat_level_3_products\\DSWE\\h16v04\\2021\\LC08_CU_016004_20210927_20211004_02_DIAG.tif'"
   ]
  },
  {
   "cell_type": "code",
   "execution_count": 62,
   "id": "440a9ca1-cbf8-4967-86f6-3a33fe3041b3",
   "metadata": {},
   "outputs": [
    {
     "name": "stdout",
     "output_type": "stream",
     "text": [
      "1\n"
     ]
    }
   ],
   "source": [
    "with rio.open(data) as dswe:\n",
    "    dswe_data = dswe.read(1)\n",
    "    dswe.profile\n",
    "    print(dswe.count)"
   ]
  },
  {
   "cell_type": "code",
   "execution_count": 63,
   "id": "3c489b39-b12a-44d6-8b98-6fb860b15252",
   "metadata": {},
   "outputs": [],
   "source": [
    "values = np.unique(dswe_data)"
   ]
  },
  {
   "cell_type": "code",
   "execution_count": 6,
   "id": "944821a7-cbd8-410a-bd55-165c531a43fa",
   "metadata": {},
   "outputs": [],
   "source": [
    "out_data = {}"
   ]
  },
  {
   "cell_type": "code",
   "execution_count": 9,
   "id": "35103a50-41b5-4cdd-a210-ded4c343b29f",
   "metadata": {},
   "outputs": [],
   "source": [
    "out_data = np.zeros_like(values, dtype=np.uint8)"
   ]
  },
  {
   "cell_type": "code",
   "execution_count": 10,
   "id": "4a59ea89-7c22-426d-8381-cf5e0986f49a",
   "metadata": {},
   "outputs": [],
   "source": [
    "# confident water\n",
    "out_data[np.where((values == 1111) | (values == 10111) | (values == 11011) | (values == 11101) | (values == 11110) | (values == 11111))] = 1\n",
    "\n",
    "out_data[np.where((values == 111) | (values == 1011) | (values == 1101) | (values == 1110) | (values == 10011) | (values == 10101) | (values == 10110) | (values == 11001) | (values == 11010) | (values == 11100))] = 2\n",
    "\n",
    "out_data[np.where(values == 11000)] = 3\n",
    "\n",
    "out_data[np.where((values == 11) | (values == 101) | (values == 101) | (values == 110) | (values == 1001) | (values == 1010) | (values == 1100) | (values == 10000) | (values == 10001) | (values == 10010) | (values == 10100))] = 4\n",
    "\n"
   ]
  },
  {
   "cell_type": "code",
   "execution_count": 11,
   "id": "45dae12f-dde0-48ad-9692-3439c0b0ec85",
   "metadata": {},
   "outputs": [
    {
     "data": {
      "text/plain": [
       "array([0, 0, 0, 0, 0, 4, 4, 2, 0, 1, 4, 4, 4, 2, 4, 2, 2, 1, 3, 2, 2, 1,\n",
       "       2, 1, 1, 1], dtype=uint8)"
      ]
     },
     "execution_count": 11,
     "metadata": {},
     "output_type": "execute_result"
    }
   ],
   "source": [
    "out_data"
   ]
  },
  {
   "cell_type": "code",
   "execution_count": 12,
   "id": "84ad7700-98ac-422d-aba5-0eb8fa931ffd",
   "metadata": {},
   "outputs": [],
   "source": [
    "check = np.unique(out_data)"
   ]
  },
  {
   "cell_type": "code",
   "execution_count": 54,
   "id": "d9ac0039-211f-4070-98e8-6ced614bab49",
   "metadata": {},
   "outputs": [
    {
     "data": {
      "text/plain": [
       "(5,)"
      ]
     },
     "execution_count": 54,
     "metadata": {},
     "output_type": "execute_result"
    }
   ],
   "source": [
    "check.shape"
   ]
  },
  {
   "cell_type": "code",
   "execution_count": 19,
   "id": "219aa0a5-712d-48f4-b735-bf20beff4a36",
   "metadata": {},
   "outputs": [],
   "source": [
    "out_data = np.where(check == -9999, 0, check)"
   ]
  },
  {
   "cell_type": "code",
   "execution_count": 58,
   "id": "777d4b33-4d4d-475d-992f-71e32b1c8543",
   "metadata": {},
   "outputs": [],
   "source": [
    "# shape array with 1 rows and5 columns\n",
    "array2 = check.reshape(1, 5)"
   ]
  },
  {
   "cell_type": "code",
   "execution_count": 68,
   "id": "1c582fb3-a411-4363-a2fe-ef7dee207410",
   "metadata": {
    "tags": []
   },
   "outputs": [],
   "source": [
    "# Register GDAL format drivers and configuration options with a\n",
    "# context manager.\n",
    "with rio.Env():\n",
    "\n",
    "    # Write an array as a raster band to a new 8-bit file. For\n",
    "    # the new file's profile, we start with the profile of the source\n",
    "    profile = dswe.profile\n",
    "    \n",
    "\n",
    "    # And then change the band count to 1, set the\n",
    "    # dtype to uint8, and specify LZW compression.\n",
    "    profile.update(\n",
    "        dtype=rio.uint8,\n",
    "        count=1,\n",
    "        nodata=0,\n",
    "        compress='lzw')\n",
    "\n",
    "    with rio.open('example.tif', 'w', **profile) as dst:\n",
    "        dst.write(array2.astype(rio.uint8), 1)\n",
    "\n",
    "# At the end of the ``with rasterio.Env()`` block, context\n",
    "# manager exits and all drivers are de-registered."
   ]
  },
  {
   "cell_type": "code",
   "execution_count": null,
   "id": "516025ac-b328-4bb7-be13-3b8a811223ce",
   "metadata": {},
   "outputs": [],
   "source": []
  }
 ],
 "metadata": {
  "kernelspec": {
   "display_name": "Python 3 (ipykernel)",
   "language": "python",
   "name": "python3"
  },
  "language_info": {
   "codemirror_mode": {
    "name": "ipython",
    "version": 3
   },
   "file_extension": ".py",
   "mimetype": "text/x-python",
   "name": "python",
   "nbconvert_exporter": "python",
   "pygments_lexer": "ipython3",
   "version": "3.11.6"
  }
 },
 "nbformat": 4,
 "nbformat_minor": 5
}
