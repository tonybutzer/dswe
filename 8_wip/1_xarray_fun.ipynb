{
 "cells": [
  {
   "cell_type": "code",
   "execution_count": 1,
   "id": "c40e642c-60df-417c-8c97-f166a507d42f",
   "metadata": {},
   "outputs": [
    {
     "name": "stdout",
     "output_type": "stream",
     "text": [
      "env: AWS_REQUEST_PAYER=requester\n"
     ]
    }
   ],
   "source": [
    "%env AWS_REQUEST_PAYER=requester"
   ]
  },
  {
   "cell_type": "code",
   "execution_count": 2,
   "id": "d03beb5d-6055-41af-92d6-b7302b5a4f60",
   "metadata": {},
   "outputs": [],
   "source": [
    "import numpy as np\n",
    "from pystac_client import Client\n",
    "import rasterio as rio\n",
    "from rasterio.windows import Window\n",
    "import boto3\n",
    "from tqdm import tqdm\n",
    "import tqdm.notebook as tq"
   ]
  },
  {
   "cell_type": "code",
   "execution_count": 3,
   "id": "da2cd625-fb2c-4da9-baca-2109ca876f43",
   "metadata": {},
   "outputs": [],
   "source": [
    "import rasterio as rio\n",
    "import xarray as xr\n",
    "import rioxarray\n",
    "\n",
    "def xarray_from_list(file_list, time_list, observation):\n",
    "    datasets=[]\n",
    "\n",
    "    p_bar=tq.tqdm(range(len(file_list)), position=0, leave=True)\n",
    "    for i in range(0, len(file_list)):\n",
    "        url = file_list[i]\n",
    "        time_name = time_list[i]\n",
    "        da = rioxarray.open_rasterio (url)\n",
    "        da = da.squeeze().drop(labels='band')\n",
    "        # Window the dataset using the coordinates (0, 0, 256, 256)\n",
    "        windowed_da = da.isel(x=slice(2560, 2560+256), y=slice(2560, 2560+256))\n",
    "        coords = windowed_da.coords\n",
    "        coords['time'] = time_name\n",
    "        windowed_da.assign_coords(coords)\n",
    "        ds = windowed_da.to_dataset(name=observation)\n",
    "        datasets.append(ds)\n",
    "        p_bar.update(1)\n",
    "        p_bar.refresh()\n",
    "    DS = xr.concat(datasets, join='override', dim='time')\n",
    "    return DS"
   ]
  },
  {
   "cell_type": "code",
   "execution_count": 4,
   "id": "29426d60-69fc-4af3-a62a-5903e0fbd175",
   "metadata": {},
   "outputs": [
    {
     "name": "stdout",
     "output_type": "stream",
     "text": [
      "688\n"
     ]
    }
   ],
   "source": [
    "h = 16\n",
    "v = 5\n",
    "region = 'CU'\n",
    "#bands = ['blue', 'green', 'red', 'nir08', 'swir16', 'swir22', 'qa_pixel']\n",
    "#bands = ['diag', 'intr', 'intsm', 'inwam', 'mask', 'shade']\n",
    "#bands = ['diag']\n",
    "bands = ['intsm']\n",
    "\n",
    "#cp = configparser.ConfigParser()\n",
    "#cp.read(os.path.join(os.environ['HOME'],'.aws','credentials'))\n",
    "#key = cp['default']['aws_access_key_id']\n",
    "#secret = cp['default']['aws_secret_access_key']\n",
    "\n",
    "stac = Client.open('https://landsatlook.usgs.gov/stac-server')\n",
    "\n",
    "# datetime='1980-01-01/2024-01-01',\n",
    "\n",
    "my_date_range ='2020-01-01/2024-01-01'\n",
    "query = stac.search(collections=['landsat-c2l3-dswe'],\n",
    "                    datetime=my_date_range,\n",
    "                    query={'landsat:grid_horizontal': {'eq': f'{h:02}'},\n",
    "                           'landsat:grid_vertical': {'eq': f'{v:02}'},\n",
    "                           'landsat:grid_region': {'eq': region},\n",
    "                           #'',\n",
    "                           #'platform': {'eq': 'LANDSAT_8'},\n",
    "                          }\n",
    "                   )\n",
    "\n",
    "stuff = query.get_all_items_as_dict()['features']\n",
    "# dates = [pd.to_datetime(r['properties']['datetime'], utc=True) for r in stuff]\n",
    "\n",
    "\n",
    "print(len(stuff))"
   ]
  },
  {
   "cell_type": "code",
   "execution_count": 5,
   "id": "1bf830c4-80e7-4d43-b845-491174f6e411",
   "metadata": {},
   "outputs": [
    {
     "data": {
      "text/plain": [
       "dict_keys(['start_datetime', 'end_datetime', 'datetime', 'platform', 'instruments', 'landsat:grid_horizontal', 'landsat:grid_vertical', 'landsat:grid_region', 'landsat:scene_count', 'eo:cloud_cover', 'landsat:cloud_shadow_cover', 'landsat:snow_ice_cover', 'landsat:fill', 'proj:epsg', 'proj:shape', 'proj:transform', 'created', 'updated'])"
      ]
     },
     "execution_count": 5,
     "metadata": {},
     "output_type": "execute_result"
    }
   ],
   "source": [
    "stuff[0]['properties'].keys()"
   ]
  },
  {
   "cell_type": "code",
   "execution_count": 6,
   "id": "e30ec12d-e46f-4a4b-b649-bd9c078cff95",
   "metadata": {},
   "outputs": [],
   "source": [
    "file_list = []\n",
    "time_list = []\n",
    "for item in stuff:\n",
    "    in_path = item['assets']['intsm']['alternate']['s3']['href']\n",
    "    file_list.append(in_path)\n",
    "    dt = item['properties']['datetime']\n",
    "    time_list.append(dt)"
   ]
  },
  {
   "cell_type": "code",
   "execution_count": 7,
   "id": "fa7933cd-a39c-4930-ad1f-6a5089442a49",
   "metadata": {},
   "outputs": [
    {
     "data": {
      "application/vnd.jupyter.widget-view+json": {
       "model_id": "fe03f4077d3142ac85983e0b1c60bf51",
       "version_major": 2,
       "version_minor": 0
      },
      "text/plain": [
       "  0%|          | 0/688 [00:00<?, ?it/s]"
      ]
     },
     "metadata": {},
     "output_type": "display_data"
    },
    {
     "ename": "KeyboardInterrupt",
     "evalue": "",
     "output_type": "error",
     "traceback": [
      "\u001b[0;31m---------------------------------------------------------------------------\u001b[0m",
      "\u001b[0;31mKeyError\u001b[0m                                  Traceback (most recent call last)",
      "File \u001b[0;32m/data/mambaforge/envs/libTest7/lib/python3.11/site-packages/xarray/backends/file_manager.py:211\u001b[0m, in \u001b[0;36mCachingFileManager._acquire_with_cache_info\u001b[0;34m(self, needs_lock)\u001b[0m\n\u001b[1;32m    210\u001b[0m \u001b[38;5;28;01mtry\u001b[39;00m:\n\u001b[0;32m--> 211\u001b[0m     file \u001b[38;5;241m=\u001b[39m \u001b[38;5;28;43mself\u001b[39;49m\u001b[38;5;241;43m.\u001b[39;49m\u001b[43m_cache\u001b[49m\u001b[43m[\u001b[49m\u001b[38;5;28;43mself\u001b[39;49m\u001b[38;5;241;43m.\u001b[39;49m\u001b[43m_key\u001b[49m\u001b[43m]\u001b[49m\n\u001b[1;32m    212\u001b[0m \u001b[38;5;28;01mexcept\u001b[39;00m \u001b[38;5;167;01mKeyError\u001b[39;00m:\n",
      "File \u001b[0;32m/data/mambaforge/envs/libTest7/lib/python3.11/site-packages/xarray/backends/lru_cache.py:56\u001b[0m, in \u001b[0;36mLRUCache.__getitem__\u001b[0;34m(self, key)\u001b[0m\n\u001b[1;32m     55\u001b[0m \u001b[38;5;28;01mwith\u001b[39;00m \u001b[38;5;28mself\u001b[39m\u001b[38;5;241m.\u001b[39m_lock:\n\u001b[0;32m---> 56\u001b[0m     value \u001b[38;5;241m=\u001b[39m \u001b[38;5;28;43mself\u001b[39;49m\u001b[38;5;241;43m.\u001b[39;49m\u001b[43m_cache\u001b[49m\u001b[43m[\u001b[49m\u001b[43mkey\u001b[49m\u001b[43m]\u001b[49m\n\u001b[1;32m     57\u001b[0m     \u001b[38;5;28mself\u001b[39m\u001b[38;5;241m.\u001b[39m_cache\u001b[38;5;241m.\u001b[39mmove_to_end(key)\n",
      "\u001b[0;31mKeyError\u001b[0m: [<function open at 0x7f89eda8bb00>, ('s3://usgs-landsat-level-3/collection02/DSWE/2023/CU/016/005/LC08_CU_016005_20230106_20230114_02_DSWE/LC08_CU_016005_20230106_20230114_02_INTSM.TIF',), 'r', (('sharing', False),), '6ad6baf3-94b0-4307-801f-db9eea041cba']",
      "\nDuring handling of the above exception, another exception occurred:\n",
      "\u001b[0;31mKeyboardInterrupt\u001b[0m                         Traceback (most recent call last)",
      "Cell \u001b[0;32mIn[7], line 2\u001b[0m\n\u001b[1;32m      1\u001b[0m observation \u001b[38;5;241m=\u001b[39m \u001b[38;5;124m'\u001b[39m\u001b[38;5;124mdswe_intsm\u001b[39m\u001b[38;5;124m'\u001b[39m\n\u001b[0;32m----> 2\u001b[0m my_ds \u001b[38;5;241m=\u001b[39m \u001b[43mxarray_from_list\u001b[49m\u001b[43m(\u001b[49m\u001b[43mfile_list\u001b[49m\u001b[43m,\u001b[49m\u001b[43m \u001b[49m\u001b[43mtime_list\u001b[49m\u001b[43m,\u001b[49m\u001b[43m \u001b[49m\u001b[43mobservation\u001b[49m\u001b[43m)\u001b[49m\n",
      "Cell \u001b[0;32mIn[3], line 12\u001b[0m, in \u001b[0;36mxarray_from_list\u001b[0;34m(file_list, time_list, observation)\u001b[0m\n\u001b[1;32m     10\u001b[0m url \u001b[38;5;241m=\u001b[39m file_list[i]\n\u001b[1;32m     11\u001b[0m time_name \u001b[38;5;241m=\u001b[39m time_list[i]\n\u001b[0;32m---> 12\u001b[0m da \u001b[38;5;241m=\u001b[39m \u001b[43mrioxarray\u001b[49m\u001b[38;5;241;43m.\u001b[39;49m\u001b[43mopen_rasterio\u001b[49m\u001b[43m \u001b[49m\u001b[43m(\u001b[49m\u001b[43murl\u001b[49m\u001b[43m)\u001b[49m\n\u001b[1;32m     13\u001b[0m da \u001b[38;5;241m=\u001b[39m da\u001b[38;5;241m.\u001b[39msqueeze()\u001b[38;5;241m.\u001b[39mdrop(labels\u001b[38;5;241m=\u001b[39m\u001b[38;5;124m'\u001b[39m\u001b[38;5;124mband\u001b[39m\u001b[38;5;124m'\u001b[39m)\n\u001b[1;32m     14\u001b[0m \u001b[38;5;66;03m# Window the dataset using the coordinates (0, 0, 256, 256)\u001b[39;00m\n",
      "File \u001b[0;32m/data/mambaforge/envs/libTest7/lib/python3.11/site-packages/rioxarray/_io.py:1124\u001b[0m, in \u001b[0;36mopen_rasterio\u001b[0;34m(filename, parse_coordinates, chunks, cache, lock, masked, mask_and_scale, variable, group, default_name, decode_times, decode_timedelta, band_as_variable, **open_kwargs)\u001b[0m\n\u001b[1;32m   1122\u001b[0m     \u001b[38;5;28;01melse\u001b[39;00m:\n\u001b[1;32m   1123\u001b[0m         manager \u001b[38;5;241m=\u001b[39m URIManager(file_opener, filename, mode\u001b[38;5;241m=\u001b[39m\u001b[38;5;124m\"\u001b[39m\u001b[38;5;124mr\u001b[39m\u001b[38;5;124m\"\u001b[39m, kwargs\u001b[38;5;241m=\u001b[39mopen_kwargs)\n\u001b[0;32m-> 1124\u001b[0m     riods \u001b[38;5;241m=\u001b[39m \u001b[43mmanager\u001b[49m\u001b[38;5;241;43m.\u001b[39;49m\u001b[43macquire\u001b[49m\u001b[43m(\u001b[49m\u001b[43m)\u001b[49m\n\u001b[1;32m   1125\u001b[0m     captured_warnings \u001b[38;5;241m=\u001b[39m rio_warnings\u001b[38;5;241m.\u001b[39mcopy()\n\u001b[1;32m   1127\u001b[0m \u001b[38;5;66;03m# raise the NotGeoreferencedWarning if applicable\u001b[39;00m\n",
      "File \u001b[0;32m/data/mambaforge/envs/libTest7/lib/python3.11/site-packages/xarray/backends/file_manager.py:193\u001b[0m, in \u001b[0;36mCachingFileManager.acquire\u001b[0;34m(self, needs_lock)\u001b[0m\n\u001b[1;32m    178\u001b[0m \u001b[38;5;28;01mdef\u001b[39;00m \u001b[38;5;21macquire\u001b[39m(\u001b[38;5;28mself\u001b[39m, needs_lock\u001b[38;5;241m=\u001b[39m\u001b[38;5;28;01mTrue\u001b[39;00m):\n\u001b[1;32m    179\u001b[0m \u001b[38;5;250m    \u001b[39m\u001b[38;5;124;03m\"\"\"Acquire a file object from the manager.\u001b[39;00m\n\u001b[1;32m    180\u001b[0m \n\u001b[1;32m    181\u001b[0m \u001b[38;5;124;03m    A new file is only opened if it has expired from the\u001b[39;00m\n\u001b[0;32m   (...)\u001b[0m\n\u001b[1;32m    191\u001b[0m \u001b[38;5;124;03m        An open file object, as returned by ``opener(*args, **kwargs)``.\u001b[39;00m\n\u001b[1;32m    192\u001b[0m \u001b[38;5;124;03m    \"\"\"\u001b[39;00m\n\u001b[0;32m--> 193\u001b[0m     file, _ \u001b[38;5;241m=\u001b[39m \u001b[38;5;28;43mself\u001b[39;49m\u001b[38;5;241;43m.\u001b[39;49m\u001b[43m_acquire_with_cache_info\u001b[49m\u001b[43m(\u001b[49m\u001b[43mneeds_lock\u001b[49m\u001b[43m)\u001b[49m\n\u001b[1;32m    194\u001b[0m     \u001b[38;5;28;01mreturn\u001b[39;00m file\n",
      "File \u001b[0;32m/data/mambaforge/envs/libTest7/lib/python3.11/site-packages/xarray/backends/file_manager.py:217\u001b[0m, in \u001b[0;36mCachingFileManager._acquire_with_cache_info\u001b[0;34m(self, needs_lock)\u001b[0m\n\u001b[1;32m    215\u001b[0m     kwargs \u001b[38;5;241m=\u001b[39m kwargs\u001b[38;5;241m.\u001b[39mcopy()\n\u001b[1;32m    216\u001b[0m     kwargs[\u001b[38;5;124m\"\u001b[39m\u001b[38;5;124mmode\u001b[39m\u001b[38;5;124m\"\u001b[39m] \u001b[38;5;241m=\u001b[39m \u001b[38;5;28mself\u001b[39m\u001b[38;5;241m.\u001b[39m_mode\n\u001b[0;32m--> 217\u001b[0m file \u001b[38;5;241m=\u001b[39m \u001b[38;5;28;43mself\u001b[39;49m\u001b[38;5;241;43m.\u001b[39;49m\u001b[43m_opener\u001b[49m\u001b[43m(\u001b[49m\u001b[38;5;241;43m*\u001b[39;49m\u001b[38;5;28;43mself\u001b[39;49m\u001b[38;5;241;43m.\u001b[39;49m\u001b[43m_args\u001b[49m\u001b[43m,\u001b[49m\u001b[43m \u001b[49m\u001b[38;5;241;43m*\u001b[39;49m\u001b[38;5;241;43m*\u001b[39;49m\u001b[43mkwargs\u001b[49m\u001b[43m)\u001b[49m\n\u001b[1;32m    218\u001b[0m \u001b[38;5;28;01mif\u001b[39;00m \u001b[38;5;28mself\u001b[39m\u001b[38;5;241m.\u001b[39m_mode \u001b[38;5;241m==\u001b[39m \u001b[38;5;124m\"\u001b[39m\u001b[38;5;124mw\u001b[39m\u001b[38;5;124m\"\u001b[39m:\n\u001b[1;32m    219\u001b[0m     \u001b[38;5;66;03m# ensure file doesn't get overridden when opened again\u001b[39;00m\n\u001b[1;32m    220\u001b[0m     \u001b[38;5;28mself\u001b[39m\u001b[38;5;241m.\u001b[39m_mode \u001b[38;5;241m=\u001b[39m \u001b[38;5;124m\"\u001b[39m\u001b[38;5;124ma\u001b[39m\u001b[38;5;124m\"\u001b[39m\n",
      "File \u001b[0;32m/data/mambaforge/envs/libTest7/lib/python3.11/site-packages/rasterio/env.py:444\u001b[0m, in \u001b[0;36mensure_env_with_credentials.<locals>.wrapper\u001b[0;34m(*args, **kwds)\u001b[0m\n\u001b[1;32m    441\u001b[0m     session \u001b[38;5;241m=\u001b[39m DummySession()\n\u001b[1;32m    443\u001b[0m \u001b[38;5;28;01mwith\u001b[39;00m env_ctor(session\u001b[38;5;241m=\u001b[39msession):\n\u001b[0;32m--> 444\u001b[0m     \u001b[38;5;28;01mreturn\u001b[39;00m \u001b[43mf\u001b[49m\u001b[43m(\u001b[49m\u001b[38;5;241;43m*\u001b[39;49m\u001b[43margs\u001b[49m\u001b[43m,\u001b[49m\u001b[43m \u001b[49m\u001b[38;5;241;43m*\u001b[39;49m\u001b[38;5;241;43m*\u001b[39;49m\u001b[43mkwds\u001b[49m\u001b[43m)\u001b[49m\n",
      "File \u001b[0;32m/data/mambaforge/envs/libTest7/lib/python3.11/site-packages/rasterio/__init__.py:304\u001b[0m, in \u001b[0;36mopen\u001b[0;34m(fp, mode, driver, width, height, count, crs, transform, dtype, nodata, sharing, **kwargs)\u001b[0m\n\u001b[1;32m    301\u001b[0m path \u001b[38;5;241m=\u001b[39m _parse_path(raw_dataset_path)\n\u001b[1;32m    303\u001b[0m \u001b[38;5;28;01mif\u001b[39;00m mode \u001b[38;5;241m==\u001b[39m \u001b[38;5;124m\"\u001b[39m\u001b[38;5;124mr\u001b[39m\u001b[38;5;124m\"\u001b[39m:\n\u001b[0;32m--> 304\u001b[0m     dataset \u001b[38;5;241m=\u001b[39m \u001b[43mDatasetReader\u001b[49m\u001b[43m(\u001b[49m\u001b[43mpath\u001b[49m\u001b[43m,\u001b[49m\u001b[43m \u001b[49m\u001b[43mdriver\u001b[49m\u001b[38;5;241;43m=\u001b[39;49m\u001b[43mdriver\u001b[49m\u001b[43m,\u001b[49m\u001b[43m \u001b[49m\u001b[43msharing\u001b[49m\u001b[38;5;241;43m=\u001b[39;49m\u001b[43msharing\u001b[49m\u001b[43m,\u001b[49m\u001b[43m \u001b[49m\u001b[38;5;241;43m*\u001b[39;49m\u001b[38;5;241;43m*\u001b[39;49m\u001b[43mkwargs\u001b[49m\u001b[43m)\u001b[49m\n\u001b[1;32m    305\u001b[0m \u001b[38;5;28;01melif\u001b[39;00m mode \u001b[38;5;241m==\u001b[39m \u001b[38;5;124m\"\u001b[39m\u001b[38;5;124mr+\u001b[39m\u001b[38;5;124m\"\u001b[39m:\n\u001b[1;32m    306\u001b[0m     dataset \u001b[38;5;241m=\u001b[39m get_writer_for_path(path, driver\u001b[38;5;241m=\u001b[39mdriver)(\n\u001b[1;32m    307\u001b[0m         path, mode, driver\u001b[38;5;241m=\u001b[39mdriver, sharing\u001b[38;5;241m=\u001b[39msharing, \u001b[38;5;241m*\u001b[39m\u001b[38;5;241m*\u001b[39mkwargs\n\u001b[1;32m    308\u001b[0m     )\n",
      "File \u001b[0;32mrasterio/_base.pyx:311\u001b[0m, in \u001b[0;36mrasterio._base.DatasetBase.__init__\u001b[0;34m()\u001b[0m\n",
      "File \u001b[0;32m/data/mambaforge/envs/libTest7/lib/python3.11/site-packages/rasterio/_path.py:81\u001b[0m, in \u001b[0;36m_ParsedPath.name\u001b[0;34m(self)\u001b[0m\n\u001b[1;32m     78\u001b[0m     archive \u001b[38;5;241m=\u001b[39m parts\u001b[38;5;241m.\u001b[39mpop() \u001b[38;5;28;01mif\u001b[39;00m parts \u001b[38;5;28;01melse\u001b[39;00m \u001b[38;5;28;01mNone\u001b[39;00m\n\u001b[1;32m     79\u001b[0m     \u001b[38;5;28;01mreturn\u001b[39;00m _ParsedPath(path, archive, scheme)\n\u001b[0;32m---> 81\u001b[0m \u001b[38;5;129m@property\u001b[39m\n\u001b[1;32m     82\u001b[0m \u001b[38;5;28;01mdef\u001b[39;00m \u001b[38;5;21mname\u001b[39m(\u001b[38;5;28mself\u001b[39m):\n\u001b[1;32m     83\u001b[0m \u001b[38;5;250m    \u001b[39m\u001b[38;5;124;03m\"\"\"The parsed path's original URI\"\"\"\u001b[39;00m\n\u001b[1;32m     84\u001b[0m     \u001b[38;5;28;01mif\u001b[39;00m \u001b[38;5;129;01mnot\u001b[39;00m \u001b[38;5;28mself\u001b[39m\u001b[38;5;241m.\u001b[39mscheme:\n",
      "\u001b[0;31mKeyboardInterrupt\u001b[0m: "
     ]
    }
   ],
   "source": [
    "observation = 'dswe_intsm'\n",
    "my_ds = xarray_from_list(file_list, time_list, observation)"
   ]
  },
  {
   "cell_type": "code",
   "execution_count": null,
   "id": "bae4f7f5-0f0b-4521-8721-3b88f1416c44",
   "metadata": {},
   "outputs": [],
   "source": [
    "my_ds"
   ]
  },
  {
   "cell_type": "code",
   "execution_count": null,
   "id": "4d6b01f7-f339-494f-97f4-827e6e4b7580",
   "metadata": {},
   "outputs": [],
   "source": [
    "my_ds['dswe_intsm']"
   ]
  },
  {
   "cell_type": "code",
   "execution_count": null,
   "id": "90df3268-fe13-4d65-94cb-e5fd33eecde1",
   "metadata": {},
   "outputs": [],
   "source": [
    "my_ds['dswe_intsm'][0]"
   ]
  },
  {
   "cell_type": "code",
   "execution_count": null,
   "id": "73939bb8-e99c-45dd-991e-af99f317f761",
   "metadata": {},
   "outputs": [],
   "source": [
    "my_ds['dswe_intsm'][0].values.min()"
   ]
  },
  {
   "cell_type": "code",
   "execution_count": null,
   "id": "2c00145d-736a-4459-b766-8d7cd4a9257e",
   "metadata": {},
   "outputs": [],
   "source": [
    "my_ds['dswe_intsm'][0].values.max()"
   ]
  },
  {
   "cell_type": "code",
   "execution_count": null,
   "id": "836427ed-bf29-4dcc-b084-101acba5fbd0",
   "metadata": {},
   "outputs": [],
   "source": [
    "my_ds['dswe_intsm'][0].values.mean()"
   ]
  },
  {
   "cell_type": "code",
   "execution_count": null,
   "id": "5f0d399f-17a1-48c3-a10f-e385e5784d8e",
   "metadata": {},
   "outputs": [],
   "source": [
    "ary = my_ds['dswe_intsm'][0].values"
   ]
  },
  {
   "cell_type": "code",
   "execution_count": null,
   "id": "19c24683-5ec0-4815-83e1-0d929600af10",
   "metadata": {},
   "outputs": [],
   "source": [
    "type(ary)"
   ]
  },
  {
   "cell_type": "code",
   "execution_count": null,
   "id": "3faa34b0-5ed5-483a-a700-19c2882c43ee",
   "metadata": {},
   "outputs": [],
   "source": [
    "import matplotlib.pyplot as plt"
   ]
  },
  {
   "cell_type": "code",
   "execution_count": null,
   "id": "eaf9d6a7-8dba-4f54-ba77-078089d51f2a",
   "metadata": {},
   "outputs": [],
   "source": [
    "plt.imshow(ary, cmap='prism')"
   ]
  },
  {
   "cell_type": "code",
   "execution_count": null,
   "id": "e4526da1-1e78-4244-8537-ed3d49392ff4",
   "metadata": {},
   "outputs": [],
   "source": [
    "import numpy.ma as ma"
   ]
  },
  {
   "cell_type": "code",
   "execution_count": null,
   "id": "78d35f38-9a17-40e8-826d-a99fed981bc4",
   "metadata": {},
   "outputs": [],
   "source": [
    "# Specify the condition for nodata values\n",
    "nodata_condition = (ary == 255)\n",
    "\n",
    "# Create a masked array\n",
    "masked_array = ma.masked_array(ary, nodata_condition)"
   ]
  },
  {
   "cell_type": "code",
   "execution_count": null,
   "id": "df7792a8-6bda-4489-9e88-2313549767c7",
   "metadata": {},
   "outputs": [],
   "source": [
    "plt.imshow(masked_array, cmap='prism')"
   ]
  },
  {
   "cell_type": "code",
   "execution_count": null,
   "id": "548339fc-6b97-4bc7-ad2e-838657f89b21",
   "metadata": {},
   "outputs": [],
   "source": [
    "# Plot histograms\n",
    "plt.hist(ary, bins=50, alpha=0.5, label='Original Array')\n",
    "plt.hist(masked_array, bins=50, alpha=0.5, label='Masked Array')\n",
    "\n",
    "plt.title('Histogram of Original and Masked Arrays')\n",
    "plt.xlabel('Pixel Value')\n",
    "plt.ylabel('Frequency')\n",
    "plt.legend()\n",
    "plt.show()"
   ]
  },
  {
   "cell_type": "code",
   "execution_count": null,
   "id": "e7c8c7d6-c04b-445d-b1ab-984eb1805871",
   "metadata": {},
   "outputs": [],
   "source": [
    "plt.hist(ary, bins=4, alpha=0.5, label='Original Array')"
   ]
  },
  {
   "cell_type": "code",
   "execution_count": null,
   "id": "a53912d8-f289-4837-9ffc-e5d36f122aa4",
   "metadata": {},
   "outputs": [],
   "source": [
    "plt.show()"
   ]
  },
  {
   "cell_type": "code",
   "execution_count": null,
   "id": "45796e69-c4bd-4e21-aeb9-610c121afbde",
   "metadata": {},
   "outputs": [],
   "source": [
    "ary.shape"
   ]
  },
  {
   "cell_type": "code",
   "execution_count": null,
   "id": "22c8c0be-cec5-4102-8c6d-74775d8064c4",
   "metadata": {},
   "outputs": [],
   "source": [
    "plt.hist(masked_array, bins=40, alpha=0.5, label='Original Array')"
   ]
  },
  {
   "cell_type": "code",
   "execution_count": null,
   "id": "07d52322-4f9d-405f-986d-ccda2426ee72",
   "metadata": {},
   "outputs": [],
   "source": [
    "from rasterio.plot import show_hist"
   ]
  },
  {
   "cell_type": "code",
   "execution_count": null,
   "id": "2bb270d0-3cf2-4f61-b6ac-634f25e29f30",
   "metadata": {},
   "outputs": [],
   "source": [
    "show_hist(masked_array, bins=4, lw=0.0, stacked=False, alpha=0.3, histtype='stepfilled', title=\"Histogram\")"
   ]
  },
  {
   "cell_type": "code",
   "execution_count": null,
   "id": "4f4302fb-a51d-4771-8735-64e4f9500589",
   "metadata": {},
   "outputs": [],
   "source": [
    "256 * 256"
   ]
  },
  {
   "cell_type": "code",
   "execution_count": null,
   "id": "6f65da9a-8d97-495f-bb2f-40185b72d099",
   "metadata": {},
   "outputs": [],
   "source": []
  }
 ],
 "metadata": {
  "kernelspec": {
   "display_name": "Python 3 (ipykernel)",
   "language": "python",
   "name": "python3"
  },
  "language_info": {
   "codemirror_mode": {
    "name": "ipython",
    "version": 3
   },
   "file_extension": ".py",
   "mimetype": "text/x-python",
   "name": "python",
   "nbconvert_exporter": "python",
   "pygments_lexer": "ipython3",
   "version": "3.11.6"
  }
 },
 "nbformat": 4,
 "nbformat_minor": 5
}
