{
 "cells": [
  {
   "cell_type": "code",
   "execution_count": 1,
   "id": "83e7e320-599f-43c7-a4f6-1c6686367cb0",
   "metadata": {},
   "outputs": [
    {
     "ename": "ModuleNotFoundError",
     "evalue": "No module named 'zarr'",
     "output_type": "error",
     "traceback": [
      "\u001b[0;31m---------------------------------------------------------------------------\u001b[0m",
      "\u001b[0;31mModuleNotFoundError\u001b[0m                       Traceback (most recent call last)",
      "Cell \u001b[0;32mIn[1], line 12\u001b[0m\n\u001b[1;32m     10\u001b[0m \u001b[38;5;28;01mfrom\u001b[39;00m \u001b[38;5;21;01mrasterio\u001b[39;00m\u001b[38;5;21;01m.\u001b[39;00m\u001b[38;5;21;01mwindows\u001b[39;00m \u001b[38;5;28;01mimport\u001b[39;00m Window\n\u001b[1;32m     11\u001b[0m \u001b[38;5;28;01mfrom\u001b[39;00m \u001b[38;5;21;01mpystac_client\u001b[39;00m \u001b[38;5;28;01mimport\u001b[39;00m Client\n\u001b[0;32m---> 12\u001b[0m \u001b[38;5;28;01mimport\u001b[39;00m \u001b[38;5;21;01mzarr\u001b[39;00m\n\u001b[1;32m     14\u001b[0m \u001b[38;5;28;01mfrom\u001b[39;00m \u001b[38;5;21;01mtyping\u001b[39;00m \u001b[38;5;28;01mimport\u001b[39;00m List, TypedDict, Tuple\n",
      "\u001b[0;31mModuleNotFoundError\u001b[0m: No module named 'zarr'"
     ]
    }
   ],
   "source": [
    "import os\n",
    "import configparser\n",
    "import json\n",
    "from functools import partial\n",
    "\n",
    "import boto3\n",
    "import numpy as np\n",
    "import pandas as pd\n",
    "import rasterio as rio\n",
    "from rasterio.windows import Window\n",
    "from pystac_client import Client\n",
    "import zarr\n",
    "\n",
    "from typing import List, TypedDict, Tuple"
   ]
  },
  {
   "cell_type": "code",
   "execution_count": null,
   "id": "4cf5528f-3e13-4bbe-95ce-eeaa40e01591",
   "metadata": {},
   "outputs": [],
   "source": [
    "!which python"
   ]
  },
  {
   "cell_type": "code",
   "execution_count": 45,
   "id": "b1083095-e22a-46f5-88b8-1db0e7959b5e",
   "metadata": {},
   "outputs": [],
   "source": [
    "os.environ['AWS_DEFAULT_REGION'] = 'us-west-2'\n",
    "os.environ['AWS_REQUEST_PAYER'] = 'requester'"
   ]
  },
  {
   "cell_type": "code",
   "execution_count": 46,
   "id": "0c83d162-c4b6-4bc3-8f34-796ff8096130",
   "metadata": {},
   "outputs": [],
   "source": [
    "def session() -> rio.session.AWSSession:\n",
    "    \"\"\"\n",
    "    Generate a rasterio AWS Session for reading data\n",
    "    \"\"\"\n",
    "    return rio.session.AWSSession(boto3.Session(), requester_pays=True)\n",
    "\n",
    "def open_tif(path: str):\n",
    "    \"\"\"\n",
    "    Open a tif file\n",
    "    \"\"\"\n",
    "    with rio.Env(session(), GDAL_DISABLE_READDIR_ON_OPEN='EMPTY_DIR'):\n",
    "        return rio.open(path)\n",
    "\n",
    "def read_tif(path: str, band: int = 1, window: Window = None):\n",
    "    return open_tif(path).read(band, window=window)\n",
    "\n",
    "def read_ls_data(item, band, window):\n",
    "    return read_tif(item['assets'][band]['alternate']['s3']['href'], window=window)\n",
    "\n",
    "def read_obs_chip(item, window, bands):\n",
    "    return {b: read_ls_data(item, b, window) for b in bands}"
   ]
  },
  {
   "cell_type": "code",
   "execution_count": 47,
   "id": "f738f353-629e-442a-82ea-1c901e7b49ca",
   "metadata": {},
   "outputs": [],
   "source": [
    "class DataStack(TypedDict):\n",
    "    \"\"\"\n",
    "    Container for storing chip data\n",
    "    \"\"\"\n",
    "    h: int\n",
    "    v: int\n",
    "    window: Window\n",
    "    acquired: List[str]\n",
    "    data: np.ndarray\n",
    "\n",
    "def sum_squares(arrs: List[np.ndarray]) -> np.ndarray:\n",
    "    \"\"\"\n",
    "    Square and then sum all the values (element wise) in the given arrays\n",
    "    \"\"\"\n",
    "    return np.ma.sum([np.ma.power(a, 2) for a in arrs], axis=0)\n",
    "\n",
    "def difference(arr1: np.ndarray, arr2: np.ndarray) -> np.ndarray:\n",
    "    \"\"\"\n",
    "    Difference the two given arrays\n",
    "    \"\"\"\n",
    "    return arr1 - arr2\n",
    "\n",
    "def difference_absolute(arr1: np.ndarray, arr2: np.ndarray) -> np.ndarray:\n",
    "    \"\"\"\n",
    "    Calculate the absolute distance between the values in the two different arrays\n",
    "    \"\"\"\n",
    "    return np.abs(difference(arr1, arr2))\n",
    "\n",
    "def difference_median(arr: np.ndarray) -> np.ndarray:\n",
    "    \"\"\"\n",
    "    Calculate the absolute difference each value is from the median\n",
    "    \"\"\"\n",
    "    return difference_absolute(arr,\n",
    "                               np.ma.median(arr, axis=0))\n",
    "def dstack_idx(idxs: np.ndarray) -> Tuple[np.ndarray, np.ndarray, np.ndarray]:\n",
    "    \"\"\"\n",
    "    Takes 2-d index returns from numpy.argmin or numpy.argmax on a stack where axis=0 and turns it into\n",
    "    a tuple of tuples for indexing back into the 3-d array\n",
    "    \"\"\"\n",
    "    return (idxs,\n",
    "            np.repeat(np.arange(256).reshape(-1, 1), repeats=256, axis=1),\n",
    "            np.array(list(range(256)) * 256).reshape(256, 256))\n",
    "\n",
    "def distance_overall(spectral_stacks: dict) -> Tuple[np.ndarray, np.ndarray, np.ndarray]:\n",
    "    \"\"\"\n",
    "    Return the per-pixel index location for observations that come closest to the overall median value\n",
    "    \"\"\"\n",
    "    #euc_dist = np.ma.sqrt(sum_squares([difference_median(spectral_stacks[k]) for k in spectral_stacks]))\n",
    "    euc_dist = ((spectral_stacks[k]) for k in spectral_stacks)\n",
    "\n",
    "    return dstack_idx(np.ma.argmin(euc_dist, axis=0))\n",
    "\n",
    "def value_mask(arr: np.ndarray, value: int):\n",
    "    \"\"\"\n",
    "    Create a mask where the specified value exists in the given array\n",
    "    \"\"\"\n",
    "    return arr == value\n",
    "\n",
    "def bitmask(arr: np.ndarray, bit: int) -> np.ndarray:\n",
    "    \"\"\"\n",
    "    Create a boolean mask for where the bit is set in the given array\n",
    "    \"\"\"\n",
    "    bit_val = 1 << bit\n",
    "    return value_mask(arr & bit_val, bit_val)\n",
    "\n",
    "def landsat_collection2(qa_arr: np.ndarray) -> np.ndarray:\n",
    "    \"\"\"\n",
    "    Provide a default interpretation of the Landsat Collection 2 pixel quality\n",
    "    layer for masking\n",
    "\n",
    "    Reference:\n",
    "    https://www.usgs.gov/media/files/landsat-8-9-olitirs-collection-2-level-2-data-format-control-book\n",
    "    \"\"\"\n",
    "    return (bitmask(qa_arr, 0) |\n",
    "             bitmask(qa_arr, 2) |\n",
    "             bitmask(qa_arr, 3) |\n",
    "             bitmask(qa_arr, 4) |\n",
    "             bitmask(qa_arr, 5) |\n",
    "             bitmask(qa_arr, 7))\n",
    "\n",
    "def assemble_stacks(items, bands, window):\n",
    "    out = {b: np.zeros(shape=(len(items), 256, 256), dtype=np.uint16) for b in bands}\n",
    "\n",
    "    for idx, item in enumerate(items):\n",
    "        for b in bands:\n",
    "            lsd = read_ls_data(item, b, window)\n",
    "            out[b][idx][:lsd.shape[0], :lsd.shape[1]] = lsd\n",
    "    \n",
    "\n",
    "   # mask = landsat_collection2(out.pop('qa_pixel'))\n",
    "    #return {k: np.ma.masked_array(val, dtype=val.dtype, mask=mask)\n",
    "      #      for k, val in out.items()}\n",
    "    return out\n",
    "\n",
    "def median_distance(items, bands, window):\n",
    "    data = assemble_stacks(items, bands, window)\n",
    "    \n",
    "    indxs = distance_overall(data)\n",
    "    return {k: val[indxs] for k, val in data.items()}\n",
    "    #return dstack_idx(np.ma.argmin(data, axis=0))\n",
    "    #return data\n",
    "\n",
    "def dask_worker(window, items, bands, z_path, key, secret):\n",
    "    data = median_distance(items, bands, window)\n",
    "    \n",
    "    z1 = zarr.open(z_path, 'a', storage_options={'key': key, 'secret': secret})\n",
    "    # Window(col_off=4, row_off=4, width=2, height=2)\n",
    "    start_row = window.row_off\n",
    "    end_row = window.row_off + window.height\n",
    "    start_col = window.col_off\n",
    "    end_col = window.col_off + window.width\n",
    "    \n",
    "    end_sub_row = 256\n",
    "    end_sub_col = 256\n",
    "    \n",
    "    if end_row > 5000:\n",
    "        end_row = 5000\n",
    "        end_sub_row = 5000 - start_row\n",
    "    if end_col > 5000:\n",
    "        end_col = 5000\n",
    "        end_sub_col = 5000 - start_col\n",
    "    \n",
    "    z1[:, start_row:end_row, start_col:end_col] = np.stack(list(data.values()))[:, :end_sub_row, :end_sub_col]"
   ]
  },
  {
   "cell_type": "code",
   "execution_count": 31,
   "id": "7a5b3661-0dff-45c1-b9d1-02937ea6ce32",
   "metadata": {},
   "outputs": [
    {
     "name": "stdout",
     "output_type": "stream",
     "text": [
      "4405\n"
     ]
    }
   ],
   "source": [
    "h = 16\n",
    "v = 5\n",
    "region = 'CU'\n",
    "#bands = ['blue', 'green', 'red', 'nir08', 'swir16', 'swir22', 'qa_pixel']\n",
    "#bands = ['diag', 'intr', 'intsm', 'inwam', 'mask', 'shade']\n",
    "#bands = ['diag']\n",
    "bands = ['intsm']\n",
    "\n",
    "#cp = configparser.ConfigParser()\n",
    "#cp.read(os.path.join(os.environ['HOME'],'.aws','credentials'))\n",
    "#key = cp['default']['aws_access_key_id']\n",
    "#secret = cp['default']['aws_secret_access_key']\n",
    "\n",
    "stac = Client.open('https://landsatlook.usgs.gov/stac-server')\n",
    "\n",
    "query = stac.search(collections=['landsat-c2l3-dswe'],\n",
    "                    datetime='1980-01-01/2024-01-01',\n",
    "                    query={'landsat:grid_horizontal': {'eq': f'{h:02}'},\n",
    "                           'landsat:grid_vertical': {'eq': f'{v:02}'},\n",
    "                           'landsat:grid_region': {'eq': region},\n",
    "                           #'',\n",
    "                           #'platform': {'eq': 'LANDSAT_8'},\n",
    "                          }\n",
    "                   )\n",
    "\n",
    "stuff = query.get_all_items_as_dict()['features']\n",
    "# dates = [pd.to_datetime(r['properties']['datetime'], utc=True) for r in stuff]\n",
    "\n",
    "\n",
    "print(len(stuff))"
   ]
  },
  {
   "cell_type": "code",
   "execution_count": 48,
   "id": "d2305692-23a1-4bae-9816-caa5e23f0ea2",
   "metadata": {},
   "outputs": [
    {
     "name": "stdout",
     "output_type": "stream",
     "text": [
      "{'type': 'Feature', 'stac_version': '1.0.0', 'stac_extensions': ['https://landsat.usgs.gov/stac/landsat-ard-extension/v1.0.0/schema.json', 'https://stac-extensions.github.io/projection/v1.0.0/schema.json', 'https://stac-extensions.github.io/eo/v1.0.0/schema.json', 'https://stac-extensions.github.io/alternate-assets/v1.1.0/schema.json', 'https://stac-extensions.github.io/storage/v1.0.0/schema.json'], 'id': 'LT04_CU_016005_19821118_20210421_02_DSWE', 'description': 'Landsat Collection 2 Level-3 Dynamic Surface Water Extent Product', 'bbox': [-98.13649364738521, 45.58567137749687, -97.9356570419568, 46.05781825562636], 'geometry': {'type': 'Polygon', 'coordinates': [[[-98.13649364738521, 46.05481255042304], [-98.12148664400478, 45.58567137749687], [-98.12110240954793, 45.58567740351473], [-97.9356570419568, 46.05781825562636], [-98.13649364738521, 46.05481255042304]]]}, 'properties': {'datetime': '1982-11-18T16:51:35.3450250Z', 'platform': 'LANDSAT_4', 'instruments': ['TM'], 'landsat:grid_horizontal': '16', 'landsat:grid_vertical': '05', 'landsat:grid_region': 'CU', 'landsat:scene_count': 1, 'eo:cloud_cover': 9.3482, 'landsat:cloud_shadow_cover': 3.7794, 'landsat:snow_ice_cover': 73.2685, 'landsat:fill': 98.1878, 'proj:epsg': None, 'proj:shape': [5000, 5000], 'proj:transform': [30, 0, -165585, 0, -30, 2564805], 'created': '2022-06-30T12:52:37.356Z', 'updated': '2022-06-30T12:52:37.356Z'}, 'assets': {'index': {'title': 'HTML index page', 'type': 'text/html', 'roles': ['metadata'], 'href': 'https://landsatlook.usgs.gov/stac-browser/collection02/DSWE/1982/CU/016/005/LT04_CU_016005_19821118_20210421_02_DSWE/LT04_CU_016005_19821118_20210421_02'}, 'diag': {'title': 'Diagnostic Layer Band', 'description': 'Collection 2 Level-3 Albers Diagnostic Layer Band Dynamic Surface Water Extent', 'type': 'image/vnd.stac.geotiff; cloud-optimized=true', 'roles': ['data'], 'href': 'https://landsatlook.usgs.gov/level-3/collection02/DSWE/1982/CU/016/005/LT04_CU_016005_19821118_20210421_02_DSWE/LT04_CU_016005_19821118_20210421_02_DIAG.TIF', 'alternate': {'s3': {'storage:platform': 'AWS', 'storage:requester_pays': True, 'href': 's3://usgs-landsat-level-3/collection02/DSWE/1982/CU/016/005/LT04_CU_016005_19821118_20210421_02_DSWE/LT04_CU_016005_19821118_20210421_02_DIAG.TIF'}}}, 'intr': {'title': 'Interpreted Layer Band', 'description': 'Collection 2 Level-3 Albers Interpreted Layer Band Dynamic Surface Water Extent', 'type': 'image/vnd.stac.geotiff; cloud-optimized=true', 'roles': ['data'], 'href': 'https://landsatlook.usgs.gov/level-3/collection02/DSWE/1982/CU/016/005/LT04_CU_016005_19821118_20210421_02_DSWE/LT04_CU_016005_19821118_20210421_02_INTR.TIF', 'alternate': {'s3': {'storage:platform': 'AWS', 'storage:requester_pays': True, 'href': 's3://usgs-landsat-level-3/collection02/DSWE/1982/CU/016/005/LT04_CU_016005_19821118_20210421_02_DSWE/LT04_CU_016005_19821118_20210421_02_INTR.TIF'}}}, 'intsm': {'title': 'Interpreted Layer With Some Masks Applied', 'description': 'Collection 2 Level-3 Albers Interpreted Layer With Some Masks Applied Dynamic Surface Water Extent', 'type': 'image/vnd.stac.geotiff; cloud-optimized=true', 'roles': ['data'], 'href': 'https://landsatlook.usgs.gov/level-3/collection02/DSWE/1982/CU/016/005/LT04_CU_016005_19821118_20210421_02_DSWE/LT04_CU_016005_19821118_20210421_02_INTSM.TIF', 'alternate': {'s3': {'storage:platform': 'AWS', 'storage:requester_pays': True, 'href': 's3://usgs-landsat-level-3/collection02/DSWE/1982/CU/016/005/LT04_CU_016005_19821118_20210421_02_DSWE/LT04_CU_016005_19821118_20210421_02_INTSM.TIF'}}}, 'inwam': {'title': 'Interpreted Layer With All Masks Applied', 'description': 'Collection 2 Level-3 Albers Interpreted Layer With All Masks Applied Dynamic Surface Water Extent', 'type': 'image/vnd.stac.geotiff; cloud-optimized=true', 'roles': ['data'], 'href': 'https://landsatlook.usgs.gov/level-3/collection02/DSWE/1982/CU/016/005/LT04_CU_016005_19821118_20210421_02_DSWE/LT04_CU_016005_19821118_20210421_02_INWAM.TIF', 'alternate': {'s3': {'storage:platform': 'AWS', 'storage:requester_pays': True, 'href': 's3://usgs-landsat-level-3/collection02/DSWE/1982/CU/016/005/LT04_CU_016005_19821118_20210421_02_DSWE/LT04_CU_016005_19821118_20210421_02_INWAM.TIF'}}}, 'mask': {'title': 'Mask Band', 'description': 'Collection 2 Level-3 Albers Mask Band Dynamic Surface Water Extent', 'type': 'image/vnd.stac.geotiff; cloud-optimized=true', 'roles': ['data'], 'href': 'https://landsatlook.usgs.gov/level-3/collection02/DSWE/1982/CU/016/005/LT04_CU_016005_19821118_20210421_02_DSWE/LT04_CU_016005_19821118_20210421_02_MASK.TIF', 'alternate': {'s3': {'storage:platform': 'AWS', 'storage:requester_pays': True, 'href': 's3://usgs-landsat-level-3/collection02/DSWE/1982/CU/016/005/LT04_CU_016005_19821118_20210421_02_DSWE/LT04_CU_016005_19821118_20210421_02_MASK.TIF'}}}, 'shade': {'title': 'Hillshade Band', 'description': 'Collection 2 Level-3 Albers Hillshade Band Dynamic Surface Water Extent', 'type': 'image/vnd.stac.geotiff; cloud-optimized=true', 'roles': ['data'], 'href': 'https://landsatlook.usgs.gov/level-3/collection02/DSWE/1982/CU/016/005/LT04_CU_016005_19821118_20210421_02_DSWE/LT04_CU_016005_19821118_20210421_02_SHADE.TIF', 'alternate': {'s3': {'storage:platform': 'AWS', 'storage:requester_pays': True, 'href': 's3://usgs-landsat-level-3/collection02/DSWE/1982/CU/016/005/LT04_CU_016005_19821118_20210421_02_DSWE/LT04_CU_016005_19821118_20210421_02_SHADE.TIF'}}}, 'xml': {'title': 'Extensible Metadata File', 'description': 'Collection 2 Level-3 Albers Extensible Metadata File Dynamic Surface Water Extent', 'type': 'application/xml', 'roles': ['metadata'], 'href': 'https://landsatlook.usgs.gov/level-3/collection02/DSWE/1982/CU/016/005/LT04_CU_016005_19821118_20210421_02_DSWE/LT04_CU_016005_19821118_20210421_02.xml', 'alternate': {'s3': {'storage:platform': 'AWS', 'storage:requester_pays': True, 'href': 's3://usgs-landsat-level-3/collection02/DSWE/1982/CU/016/005/LT04_CU_016005_19821118_20210421_02_DSWE/LT04_CU_016005_19821118_20210421_02.xml'}}}, 'json': {'title': 'Extensible Metadata File (json)', 'description': 'Collection 2 Level-3 Albers Extensible Metadata File (json) Dynamic Surface Water Extent', 'type': 'application/json', 'roles': ['metadata'], 'href': 'https://landsatlook.usgs.gov/level-3/collection02/DSWE/1982/CU/016/005/LT04_CU_016005_19821118_20210421_02_DSWE/LT04_CU_016005_19821118_20210421_02.json', 'alternate': {'s3': {'storage:platform': 'AWS', 'storage:requester_pays': True, 'href': 's3://usgs-landsat-level-3/collection02/DSWE/1982/CU/016/005/LT04_CU_016005_19821118_20210421_02_DSWE/LT04_CU_016005_19821118_20210421_02.json'}}}}, 'links': [{'rel': 'self', 'href': 'https://landsatlook.usgs.gov/stac-server/collections/landsat-c2l3-dswe/items/LT04_CU_016005_19821118_20210421_02_DSWE'}, {'rel': 'derived_from', 'href': 'https://landsatlook.usgs.gov/stac-server/collections/landsat-c2ard-sr/items/LT04_CU_016005_19821118_20210421_02_SR'}, {'rel': 'derived_from', 'href': 'https://landsatlook.usgs.gov/stac-server/collections/landsat-c2ard-st/items/LT04_CU_016005_19821118_20210421_02_ST'}, {'rel': 'derived_from', 'href': 'https://landsatlook.usgs.gov/stac-server/collections/landsat-c2ard-ta/items/LT04_CU_016005_19821118_20210421_02_TOA'}, {'rel': 'derived_from', 'href': 'https://landsatlook.usgs.gov/stac-server/collections/landsat-c2ard-bt/items/LT04_CU_016005_19821118_20210421_02_BT'}, {'rel': 'parent', 'href': 'https://landsatlook.usgs.gov/stac-server/collections/landsat-c2l3-dswe'}, {'rel': 'collection', 'href': 'https://landsatlook.usgs.gov/stac-server/collections/landsat-c2l3-dswe'}, {'rel': 'root', 'href': 'https://landsatlook.usgs.gov/stac-server/'}], 'collection': 'landsat-c2l3-dswe'}\n"
     ]
    }
   ],
   "source": [
    "print(stuff[-1])"
   ]
  },
  {
   "cell_type": "code",
   "execution_count": 49,
   "id": "26c701c3-ab3e-422f-bcc7-a0a6cd742981",
   "metadata": {},
   "outputs": [
    {
     "data": {
      "text/plain": [
       "dict_keys(['type', 'stac_version', 'stac_extensions', 'id', 'description', 'bbox', 'geometry', 'properties', 'assets', 'links', 'collection'])"
      ]
     },
     "execution_count": 49,
     "metadata": {},
     "output_type": "execute_result"
    }
   ],
   "source": [
    "stuff[0].keys()"
   ]
  },
  {
   "cell_type": "code",
   "execution_count": 50,
   "id": "663d618f-5001-4049-bc20-316e64a685f3",
   "metadata": {},
   "outputs": [],
   "source": [
    "in_path = stuff[0]['assets']['intsm']['alternate']['s3']['href']"
   ]
  },
  {
   "cell_type": "code",
   "execution_count": 51,
   "id": "5b24b40f-80f0-49ea-9450-81e310d57ebe",
   "metadata": {},
   "outputs": [
    {
     "data": {
      "text/plain": [
       "'s3://usgs-landsat-level-3/collection02/DSWE/2023/CU/016/005/LC09_CU_016005_20231105_20231109_02_DSWE/LC09_CU_016005_20231105_20231109_02_INTSM.TIF'"
      ]
     },
     "execution_count": 51,
     "metadata": {},
     "output_type": "execute_result"
    }
   ],
   "source": [
    "in_path"
   ]
  },
  {
   "cell_type": "code",
   "execution_count": 38,
   "id": "41dee8b3-178f-4157-a629-4d4ffe738dd4",
   "metadata": {},
   "outputs": [
    {
     "data": {
      "text/plain": [
       "'/vsis3/usgs-landsat-level-3/collection02/DSWE/2023/CU/016/005/LC09_CU_016005_20231105_20231109_02_DSWE/LC09_CU_016005_20231105_20231109_02_INTSM.TIF'"
      ]
     },
     "execution_count": 38,
     "metadata": {},
     "output_type": "execute_result"
    }
   ],
   "source": [
    "#in_path.replace('s3:/','/vsis3')"
   ]
  },
  {
   "cell_type": "code",
   "execution_count": 52,
   "id": "1e2c3cb5-389e-4db8-bdc0-2caa277e6759",
   "metadata": {},
   "outputs": [
    {
     "ename": "RasterioIOError",
     "evalue": "'/vsis3/usgs-landsat-level-3/collection02/DSWE/2023/CU/016/005/LC09_CU_016005_20231105_20231109_02_DSWE/LC09_CU_016005_20231105_20231109_02_INTSM.TIF' does not exist in the file system, and is not recognized as a supported dataset name.",
     "output_type": "error",
     "traceback": [
      "\u001b[0;31m---------------------------------------------------------------------------\u001b[0m",
      "\u001b[0;31mCPLE_OpenFailedError\u001b[0m                      Traceback (most recent call last)",
      "File \u001b[0;32mrasterio/_base.pyx:310\u001b[0m, in \u001b[0;36mrasterio._base.DatasetBase.__init__\u001b[0;34m()\u001b[0m\n",
      "File \u001b[0;32mrasterio/_base.pyx:221\u001b[0m, in \u001b[0;36mrasterio._base.open_dataset\u001b[0;34m()\u001b[0m\n",
      "File \u001b[0;32mrasterio/_err.pyx:221\u001b[0m, in \u001b[0;36mrasterio._err.exc_wrap_pointer\u001b[0;34m()\u001b[0m\n",
      "\u001b[0;31mCPLE_OpenFailedError\u001b[0m: '/vsis3/usgs-landsat-level-3/collection02/DSWE/2023/CU/016/005/LC09_CU_016005_20231105_20231109_02_DSWE/LC09_CU_016005_20231105_20231109_02_INTSM.TIF' does not exist in the file system, and is not recognized as a supported dataset name.",
      "\nDuring handling of the above exception, another exception occurred:\n",
      "\u001b[0;31mRasterioIOError\u001b[0m                           Traceback (most recent call last)",
      "Cell \u001b[0;32mIn[52], line 1\u001b[0m\n\u001b[0;32m----> 1\u001b[0m \u001b[43mopen_tif\u001b[49m\u001b[43m(\u001b[49m\u001b[43min_path\u001b[49m\u001b[43m)\u001b[49m\n",
      "Cell \u001b[0;32mIn[46], line 12\u001b[0m, in \u001b[0;36mopen_tif\u001b[0;34m(path)\u001b[0m\n\u001b[1;32m      8\u001b[0m \u001b[38;5;250m\u001b[39m\u001b[38;5;124;03m\"\"\"\u001b[39;00m\n\u001b[1;32m      9\u001b[0m \u001b[38;5;124;03mOpen a tif file\u001b[39;00m\n\u001b[1;32m     10\u001b[0m \u001b[38;5;124;03m\"\"\"\u001b[39;00m\n\u001b[1;32m     11\u001b[0m \u001b[38;5;28;01mwith\u001b[39;00m rio\u001b[38;5;241m.\u001b[39mEnv(session(), GDAL_DISABLE_READDIR_ON_OPEN\u001b[38;5;241m=\u001b[39m\u001b[38;5;124m'\u001b[39m\u001b[38;5;124mEMPTY_DIR\u001b[39m\u001b[38;5;124m'\u001b[39m):\n\u001b[0;32m---> 12\u001b[0m     \u001b[38;5;28;01mreturn\u001b[39;00m \u001b[43mrio\u001b[49m\u001b[38;5;241;43m.\u001b[39;49m\u001b[43mopen\u001b[49m\u001b[43m(\u001b[49m\u001b[43mpath\u001b[49m\u001b[43m)\u001b[49m\n",
      "File \u001b[0;32m/efs/mambaforge/envs/water/lib/python3.11/site-packages/rasterio/env.py:451\u001b[0m, in \u001b[0;36mensure_env_with_credentials.<locals>.wrapper\u001b[0;34m(*args, **kwds)\u001b[0m\n\u001b[1;32m    448\u001b[0m     session \u001b[38;5;241m=\u001b[39m DummySession()\n\u001b[1;32m    450\u001b[0m \u001b[38;5;28;01mwith\u001b[39;00m env_ctor(session\u001b[38;5;241m=\u001b[39msession):\n\u001b[0;32m--> 451\u001b[0m     \u001b[38;5;28;01mreturn\u001b[39;00m \u001b[43mf\u001b[49m\u001b[43m(\u001b[49m\u001b[38;5;241;43m*\u001b[39;49m\u001b[43margs\u001b[49m\u001b[43m,\u001b[49m\u001b[43m \u001b[49m\u001b[38;5;241;43m*\u001b[39;49m\u001b[38;5;241;43m*\u001b[39;49m\u001b[43mkwds\u001b[49m\u001b[43m)\u001b[49m\n",
      "File \u001b[0;32m/efs/mambaforge/envs/water/lib/python3.11/site-packages/rasterio/__init__.py:304\u001b[0m, in \u001b[0;36mopen\u001b[0;34m(fp, mode, driver, width, height, count, crs, transform, dtype, nodata, sharing, **kwargs)\u001b[0m\n\u001b[1;32m    301\u001b[0m path \u001b[38;5;241m=\u001b[39m _parse_path(raw_dataset_path)\n\u001b[1;32m    303\u001b[0m \u001b[38;5;28;01mif\u001b[39;00m mode \u001b[38;5;241m==\u001b[39m \u001b[38;5;124m\"\u001b[39m\u001b[38;5;124mr\u001b[39m\u001b[38;5;124m\"\u001b[39m:\n\u001b[0;32m--> 304\u001b[0m     dataset \u001b[38;5;241m=\u001b[39m \u001b[43mDatasetReader\u001b[49m\u001b[43m(\u001b[49m\u001b[43mpath\u001b[49m\u001b[43m,\u001b[49m\u001b[43m \u001b[49m\u001b[43mdriver\u001b[49m\u001b[38;5;241;43m=\u001b[39;49m\u001b[43mdriver\u001b[49m\u001b[43m,\u001b[49m\u001b[43m \u001b[49m\u001b[43msharing\u001b[49m\u001b[38;5;241;43m=\u001b[39;49m\u001b[43msharing\u001b[49m\u001b[43m,\u001b[49m\u001b[43m \u001b[49m\u001b[38;5;241;43m*\u001b[39;49m\u001b[38;5;241;43m*\u001b[39;49m\u001b[43mkwargs\u001b[49m\u001b[43m)\u001b[49m\n\u001b[1;32m    305\u001b[0m \u001b[38;5;28;01melif\u001b[39;00m mode \u001b[38;5;241m==\u001b[39m \u001b[38;5;124m\"\u001b[39m\u001b[38;5;124mr+\u001b[39m\u001b[38;5;124m\"\u001b[39m:\n\u001b[1;32m    306\u001b[0m     dataset \u001b[38;5;241m=\u001b[39m get_writer_for_path(path, driver\u001b[38;5;241m=\u001b[39mdriver)(\n\u001b[1;32m    307\u001b[0m         path, mode, driver\u001b[38;5;241m=\u001b[39mdriver, sharing\u001b[38;5;241m=\u001b[39msharing, \u001b[38;5;241m*\u001b[39m\u001b[38;5;241m*\u001b[39mkwargs\n\u001b[1;32m    308\u001b[0m     )\n",
      "File \u001b[0;32mrasterio/_base.pyx:312\u001b[0m, in \u001b[0;36mrasterio._base.DatasetBase.__init__\u001b[0;34m()\u001b[0m\n",
      "\u001b[0;31mRasterioIOError\u001b[0m: '/vsis3/usgs-landsat-level-3/collection02/DSWE/2023/CU/016/005/LC09_CU_016005_20231105_20231109_02_DSWE/LC09_CU_016005_20231105_20231109_02_INTSM.TIF' does not exist in the file system, and is not recognized as a supported dataset name."
     ]
    }
   ],
   "source": [
    "open_tif(in_path)"
   ]
  },
  {
   "cell_type": "code",
   "execution_count": 43,
   "id": "a463f26e-bd11-46fa-a1f4-3d5ea4213f7a",
   "metadata": {},
   "outputs": [],
   "source": [
    "in_path = 's3://usgs-landsat-level-3/collection02/DSWE/2022/CU/016/005/LC08_CU_016005_20220101_20220109_02_DSWE/LC08_CU_016005_20220101_20220109_02_INTSM.TIF'"
   ]
  },
  {
   "cell_type": "code",
   "execution_count": 44,
   "id": "c8f5f277-158e-4199-9cdf-f91f395166dd",
   "metadata": {},
   "outputs": [
    {
     "ename": "RasterioIOError",
     "evalue": "'/vsis3/usgs-landsat-level-3/collection02/DSWE/2022/CU/016/005/LC08_CU_016005_20220101_20220109_02_DSWE/LC08_CU_016005_20220101_20220109_02_INTSM.TIF' does not exist in the file system, and is not recognized as a supported dataset name.",
     "output_type": "error",
     "traceback": [
      "\u001b[0;31m---------------------------------------------------------------------------\u001b[0m",
      "\u001b[0;31mCPLE_OpenFailedError\u001b[0m                      Traceback (most recent call last)",
      "File \u001b[0;32mrasterio/_base.pyx:310\u001b[0m, in \u001b[0;36mrasterio._base.DatasetBase.__init__\u001b[0;34m()\u001b[0m\n",
      "File \u001b[0;32mrasterio/_base.pyx:221\u001b[0m, in \u001b[0;36mrasterio._base.open_dataset\u001b[0;34m()\u001b[0m\n",
      "File \u001b[0;32mrasterio/_err.pyx:221\u001b[0m, in \u001b[0;36mrasterio._err.exc_wrap_pointer\u001b[0;34m()\u001b[0m\n",
      "\u001b[0;31mCPLE_OpenFailedError\u001b[0m: '/vsis3/usgs-landsat-level-3/collection02/DSWE/2022/CU/016/005/LC08_CU_016005_20220101_20220109_02_DSWE/LC08_CU_016005_20220101_20220109_02_INTSM.TIF' does not exist in the file system, and is not recognized as a supported dataset name.",
      "\nDuring handling of the above exception, another exception occurred:\n",
      "\u001b[0;31mRasterioIOError\u001b[0m                           Traceback (most recent call last)",
      "Cell \u001b[0;32mIn[44], line 1\u001b[0m\n\u001b[0;32m----> 1\u001b[0m \u001b[43mopen_tif\u001b[49m\u001b[43m(\u001b[49m\u001b[43min_path\u001b[49m\u001b[43m)\u001b[49m\n",
      "Cell \u001b[0;32mIn[3], line 12\u001b[0m, in \u001b[0;36mopen_tif\u001b[0;34m(path)\u001b[0m\n\u001b[1;32m      8\u001b[0m \u001b[38;5;250m\u001b[39m\u001b[38;5;124;03m\"\"\"\u001b[39;00m\n\u001b[1;32m      9\u001b[0m \u001b[38;5;124;03mOpen a tif file\u001b[39;00m\n\u001b[1;32m     10\u001b[0m \u001b[38;5;124;03m\"\"\"\u001b[39;00m\n\u001b[1;32m     11\u001b[0m \u001b[38;5;28;01mwith\u001b[39;00m rio\u001b[38;5;241m.\u001b[39mEnv(session(), GDAL_DISABLE_READDIR_ON_OPEN\u001b[38;5;241m=\u001b[39m\u001b[38;5;124m'\u001b[39m\u001b[38;5;124mEMPTY_DIR\u001b[39m\u001b[38;5;124m'\u001b[39m):\n\u001b[0;32m---> 12\u001b[0m     \u001b[38;5;28;01mreturn\u001b[39;00m \u001b[43mrio\u001b[49m\u001b[38;5;241;43m.\u001b[39;49m\u001b[43mopen\u001b[49m\u001b[43m(\u001b[49m\u001b[43mpath\u001b[49m\u001b[43m)\u001b[49m\n",
      "File \u001b[0;32m/efs/mambaforge/envs/water/lib/python3.11/site-packages/rasterio/env.py:451\u001b[0m, in \u001b[0;36mensure_env_with_credentials.<locals>.wrapper\u001b[0;34m(*args, **kwds)\u001b[0m\n\u001b[1;32m    448\u001b[0m     session \u001b[38;5;241m=\u001b[39m DummySession()\n\u001b[1;32m    450\u001b[0m \u001b[38;5;28;01mwith\u001b[39;00m env_ctor(session\u001b[38;5;241m=\u001b[39msession):\n\u001b[0;32m--> 451\u001b[0m     \u001b[38;5;28;01mreturn\u001b[39;00m \u001b[43mf\u001b[49m\u001b[43m(\u001b[49m\u001b[38;5;241;43m*\u001b[39;49m\u001b[43margs\u001b[49m\u001b[43m,\u001b[49m\u001b[43m \u001b[49m\u001b[38;5;241;43m*\u001b[39;49m\u001b[38;5;241;43m*\u001b[39;49m\u001b[43mkwds\u001b[49m\u001b[43m)\u001b[49m\n",
      "File \u001b[0;32m/efs/mambaforge/envs/water/lib/python3.11/site-packages/rasterio/__init__.py:304\u001b[0m, in \u001b[0;36mopen\u001b[0;34m(fp, mode, driver, width, height, count, crs, transform, dtype, nodata, sharing, **kwargs)\u001b[0m\n\u001b[1;32m    301\u001b[0m path \u001b[38;5;241m=\u001b[39m _parse_path(raw_dataset_path)\n\u001b[1;32m    303\u001b[0m \u001b[38;5;28;01mif\u001b[39;00m mode \u001b[38;5;241m==\u001b[39m \u001b[38;5;124m\"\u001b[39m\u001b[38;5;124mr\u001b[39m\u001b[38;5;124m\"\u001b[39m:\n\u001b[0;32m--> 304\u001b[0m     dataset \u001b[38;5;241m=\u001b[39m \u001b[43mDatasetReader\u001b[49m\u001b[43m(\u001b[49m\u001b[43mpath\u001b[49m\u001b[43m,\u001b[49m\u001b[43m \u001b[49m\u001b[43mdriver\u001b[49m\u001b[38;5;241;43m=\u001b[39;49m\u001b[43mdriver\u001b[49m\u001b[43m,\u001b[49m\u001b[43m \u001b[49m\u001b[43msharing\u001b[49m\u001b[38;5;241;43m=\u001b[39;49m\u001b[43msharing\u001b[49m\u001b[43m,\u001b[49m\u001b[43m \u001b[49m\u001b[38;5;241;43m*\u001b[39;49m\u001b[38;5;241;43m*\u001b[39;49m\u001b[43mkwargs\u001b[49m\u001b[43m)\u001b[49m\n\u001b[1;32m    305\u001b[0m \u001b[38;5;28;01melif\u001b[39;00m mode \u001b[38;5;241m==\u001b[39m \u001b[38;5;124m\"\u001b[39m\u001b[38;5;124mr+\u001b[39m\u001b[38;5;124m\"\u001b[39m:\n\u001b[1;32m    306\u001b[0m     dataset \u001b[38;5;241m=\u001b[39m get_writer_for_path(path, driver\u001b[38;5;241m=\u001b[39mdriver)(\n\u001b[1;32m    307\u001b[0m         path, mode, driver\u001b[38;5;241m=\u001b[39mdriver, sharing\u001b[38;5;241m=\u001b[39msharing, \u001b[38;5;241m*\u001b[39m\u001b[38;5;241m*\u001b[39mkwargs\n\u001b[1;32m    308\u001b[0m     )\n",
      "File \u001b[0;32mrasterio/_base.pyx:312\u001b[0m, in \u001b[0;36mrasterio._base.DatasetBase.__init__\u001b[0;34m()\u001b[0m\n",
      "\u001b[0;31mRasterioIOError\u001b[0m: '/vsis3/usgs-landsat-level-3/collection02/DSWE/2022/CU/016/005/LC08_CU_016005_20220101_20220109_02_DSWE/LC08_CU_016005_20220101_20220109_02_INTSM.TIF' does not exist in the file system, and is not recognized as a supported dataset name."
     ]
    }
   ],
   "source": [
    "open_tif(in_path)"
   ]
  },
  {
   "cell_type": "code",
   "execution_count": 20,
   "id": "5333ab2e-4632-4c81-a0ea-5626c3bfee61",
   "metadata": {},
   "outputs": [],
   "source": [
    "from osgeo import gdal"
   ]
  },
  {
   "cell_type": "code",
   "execution_count": 35,
   "id": "80c176e0-8352-48a5-984d-470d37cf6f81",
   "metadata": {},
   "outputs": [
    {
     "name": "stderr",
     "output_type": "stream",
     "text": [
      "Warning 1: HTTP response code on https://usgs-landsat-level-3.s3.amazonaws.com/collection02/DSWE/2022/CU/016/005/LC08_CU_016005_20220101_20220109_02_DSWE/LC08_CU_016005_20220101_20220109_02_INTSM.TIF: 403\n",
      "ERROR 4: `/vsis3/usgs-landsat-level-3/collection02/DSWE/2022/CU/016/005/LC08_CU_016005_20220101_20220109_02_DSWE/LC08_CU_016005_20220101_20220109_02_INTSM.TIF' does not exist in the file system, and is not recognized as a supported dataset name.\n"
     ]
    }
   ],
   "source": [
    "#gdal.Open(stuff[0]['assets']['intsm']['alternate']['s3']['href'])\n",
    "gdal.Open(in_path.replace('s3:/','/vsis3'))"
   ]
  },
  {
   "cell_type": "code",
   "execution_count": 6,
   "id": "06cbbdba-d9da-4f7e-a68d-71f2bbfb3fb5",
   "metadata": {},
   "outputs": [],
   "source": [
    "z_path = f's3://chs-pangeo-data-bucket/pdanielson//level3/data/{region}.zarr'\n",
    "\n",
    "z1 = zarr.open(z_path,\n",
    "               mode='w',\n",
    "               shape=(1, 5000, 5000),\n",
    "               chunks=(1, 256, 256),\n",
    "               dtype='uint16',\n",
    "               write_empty_chunks=False,\n",
    "               fill_value=0,\n",
    "               storage_options={'key': key, 'secret': secret})\n",
    "\n",
    "func = partial(dask_worker,\n",
    "               items=stuff,\n",
    "               bands=bands,\n",
    "               z_path=z_path,\n",
    "               key=key,\n",
    "               secret=secret)\n",
    "\n",
    "windows = [Window(col_off=col, row_off=row, width=256, height=256) for col in range(0, 5000, 256) for row in range(0, 5000, 256)]"
   ]
  },
  {
   "cell_type": "code",
   "execution_count": 7,
   "id": "05e014cc-4f07-4686-8704-212c83a8762e",
   "metadata": {},
   "outputs": [
    {
     "data": {
      "text/html": [
       "<div>\n",
       "    <div style=\"width: 24px; height: 24px; background-color: #e1e1e1; border: 3px solid #9D9D9D; border-radius: 5px; position: absolute;\"> </div>\n",
       "    <div style=\"margin-left: 48px;\">\n",
       "        <h3 style=\"margin-bottom: 0px;\">Client</h3>\n",
       "        <p style=\"color: #9D9D9D; margin-bottom: 0px;\">Client-adb5c977-e388-11ed-815c-b6a9c3a13bcb</p>\n",
       "        <table style=\"width: 100%; text-align: left;\">\n",
       "\n",
       "        <tr>\n",
       "        \n",
       "            <td style=\"text-align: left;\"><strong>Connection method:</strong> Direct</td>\n",
       "            <td style=\"text-align: left;\"></td>\n",
       "        \n",
       "        </tr>\n",
       "\n",
       "        \n",
       "            <tr>\n",
       "                <td style=\"text-align: left;\">\n",
       "                    <strong>Dashboard: </strong> <a href=\"/user/pdanielson@contractor.usgs.gov/proxy/8787/status\" target=\"_blank\">/user/pdanielson@contractor.usgs.gov/proxy/8787/status</a>\n",
       "                </td>\n",
       "                <td style=\"text-align: left;\"></td>\n",
       "            </tr>\n",
       "        \n",
       "\n",
       "        </table>\n",
       "\n",
       "        \n",
       "            <button style=\"margin-bottom: 12px;\" data-commandlinker-command=\"dask:populate-and-launch-layout\" data-commandlinker-args='{\"url\": \"/user/pdanielson@contractor.usgs.gov/proxy/8787/status\" }'>\n",
       "                Launch dashboard in JupyterLab\n",
       "            </button>\n",
       "        \n",
       "\n",
       "        \n",
       "            <details>\n",
       "            <summary style=\"margin-bottom: 20px;\"><h3 style=\"display: inline;\">Scheduler Info</h3></summary>\n",
       "            <div style=\"\">\n",
       "    <div>\n",
       "        <div style=\"width: 24px; height: 24px; background-color: #FFF7E5; border: 3px solid #FF6132; border-radius: 5px; position: absolute;\"> </div>\n",
       "        <div style=\"margin-left: 48px;\">\n",
       "            <h3 style=\"margin-bottom: 0px;\">Scheduler</h3>\n",
       "            <p style=\"color: #9D9D9D; margin-bottom: 0px;\">Scheduler-ef64941d-be23-43c9-a0d7-b1c570805713</p>\n",
       "            <table style=\"width: 100%; text-align: left;\">\n",
       "                <tr>\n",
       "                    <td style=\"text-align: left;\">\n",
       "                        <strong>Comm:</strong> tcp://10.12.76.172:37011\n",
       "                    </td>\n",
       "                    <td style=\"text-align: left;\">\n",
       "                        <strong>Workers:</strong> 0\n",
       "                    </td>\n",
       "                </tr>\n",
       "                <tr>\n",
       "                    <td style=\"text-align: left;\">\n",
       "                        <strong>Dashboard:</strong> <a href=\"/user/pdanielson@contractor.usgs.gov/proxy/8787/status\" target=\"_blank\">/user/pdanielson@contractor.usgs.gov/proxy/8787/status</a>\n",
       "                    </td>\n",
       "                    <td style=\"text-align: left;\">\n",
       "                        <strong>Total threads:</strong> 0\n",
       "                    </td>\n",
       "                </tr>\n",
       "                <tr>\n",
       "                    <td style=\"text-align: left;\">\n",
       "                        <strong>Started:</strong> Just now\n",
       "                    </td>\n",
       "                    <td style=\"text-align: left;\">\n",
       "                        <strong>Total memory:</strong> 0 B\n",
       "                    </td>\n",
       "                </tr>\n",
       "            </table>\n",
       "        </div>\n",
       "    </div>\n",
       "\n",
       "    <details style=\"margin-left: 48px;\">\n",
       "        <summary style=\"margin-bottom: 20px;\">\n",
       "            <h3 style=\"display: inline;\">Workers</h3>\n",
       "        </summary>\n",
       "\n",
       "        \n",
       "\n",
       "    </details>\n",
       "</div>\n",
       "            </details>\n",
       "        \n",
       "\n",
       "    </div>\n",
       "</div>"
      ],
      "text/plain": [
       "<Client: 'tcp://10.12.76.172:37011' processes=0 threads=0, memory=0 B>"
      ]
     },
     "execution_count": 7,
     "metadata": {},
     "output_type": "execute_result"
    }
   ],
   "source": [
    "from dask.distributed import Client\n",
    "\n",
    "client = Client(\"tcp://10.12.76.172:37011\")\n",
    "client"
   ]
  },
  {
   "cell_type": "code",
   "execution_count": 8,
   "id": "d8807dff-1827-48f0-8cb0-dbb0fb550c34",
   "metadata": {},
   "outputs": [],
   "source": [
    "res = client.map(func, windows)\n",
    "yes = client.gather(res)"
   ]
  },
  {
   "cell_type": "code",
   "execution_count": 9,
   "id": "665e52b2-d09d-44ce-9662-d3ffbb721b7b",
   "metadata": {},
   "outputs": [
    {
     "data": {
      "text/plain": [
       "{'datetime': '2015-04-01T18:28:07.9233150Z',\n",
       " 'platform': 'LANDSAT_8',\n",
       " 'instruments': ['OLI', 'TIRS'],\n",
       " 'landsat:grid_horizontal': '03',\n",
       " 'landsat:grid_vertical': '13',\n",
       " 'landsat:grid_region': 'CU',\n",
       " 'landsat:scene_count': 1,\n",
       " 'eo:cloud_cover': 5.9727,\n",
       " 'landsat:cloud_shadow_cover': 4.307,\n",
       " 'landsat:snow_ice_cover': 0,\n",
       " 'landsat:fill': 52.0756,\n",
       " 'proj:epsg': None,\n",
       " 'proj:shape': [5000, 5000],\n",
       " 'proj:transform': [30, 0, -2115585, 0, -30, 1364805],\n",
       " 'created': '2022-06-30T14:02:12.501Z',\n",
       " 'updated': '2022-06-30T14:02:12.501Z'}"
      ]
     },
     "execution_count": 9,
     "metadata": {},
     "output_type": "execute_result"
    }
   ],
   "source": [
    "stuff[0]['properties']"
   ]
  },
  {
   "cell_type": "code",
   "execution_count": 10,
   "id": "93c8ee76-c26a-4075-b0d9-9d8dff7c06c6",
   "metadata": {},
   "outputs": [
    {
     "ename": "NameError",
     "evalue": "name 'plt' is not defined",
     "output_type": "error",
     "traceback": [
      "\u001b[0;31m---------------------------------------------------------------------------\u001b[0m",
      "\u001b[0;31mNameError\u001b[0m                                 Traceback (most recent call last)",
      "Cell \u001b[0;32mIn[10], line 1\u001b[0m\n\u001b[0;32m----> 1\u001b[0m \u001b[43mplt\u001b[49m\u001b[38;5;241m.\u001b[39mimshow(z1[\u001b[38;5;241m0\u001b[39m])\n",
      "\u001b[0;31mNameError\u001b[0m: name 'plt' is not defined"
     ]
    }
   ],
   "source": [
    "plt.imshow(z1[0])"
   ]
  },
  {
   "cell_type": "code",
   "execution_count": 12,
   "id": "b9946c88-dec1-496b-9445-dc3f634240c1",
   "metadata": {},
   "outputs": [
    {
     "name": "stdout",
     "output_type": "stream",
     "text": [
      "0\n",
      "1\n"
     ]
    },
    {
     "ename": "BoundsCheckError",
     "evalue": "index out of bounds for dimension with length 1",
     "output_type": "error",
     "traceback": [
      "\u001b[0;31m---------------------------------------------------------------------------\u001b[0m",
      "\u001b[0;31mBoundsCheckError\u001b[0m                          Traceback (most recent call last)",
      "Cell \u001b[0;32mIn[12], line 22\u001b[0m\n\u001b[1;32m     20\u001b[0m \u001b[38;5;28;01mfor\u001b[39;00m b \u001b[38;5;129;01min\u001b[39;00m \u001b[38;5;28mrange\u001b[39m(\u001b[38;5;241m6\u001b[39m):\n\u001b[1;32m     21\u001b[0m     \u001b[38;5;28mprint\u001b[39m(b)\n\u001b[0;32m---> 22\u001b[0m     dst\u001b[38;5;241m.\u001b[39mwrite(\u001b[43mz1\u001b[49m\u001b[43m[\u001b[49m\u001b[43mb\u001b[49m\u001b[43m]\u001b[49m, b \u001b[38;5;241m+\u001b[39m \u001b[38;5;241m1\u001b[39m)\n",
      "File \u001b[0;32m/srv/conda/envs/pangeo/lib/python3.9/site-packages/zarr/core.py:807\u001b[0m, in \u001b[0;36mArray.__getitem__\u001b[0;34m(self, selection)\u001b[0m\n\u001b[1;32m    805\u001b[0m     result \u001b[38;5;241m=\u001b[39m \u001b[38;5;28mself\u001b[39m\u001b[38;5;241m.\u001b[39mvindex[selection]\n\u001b[1;32m    806\u001b[0m \u001b[38;5;28;01melse\u001b[39;00m:\n\u001b[0;32m--> 807\u001b[0m     result \u001b[38;5;241m=\u001b[39m \u001b[38;5;28;43mself\u001b[39;49m\u001b[38;5;241;43m.\u001b[39;49m\u001b[43mget_basic_selection\u001b[49m\u001b[43m(\u001b[49m\u001b[43mpure_selection\u001b[49m\u001b[43m,\u001b[49m\u001b[43m \u001b[49m\u001b[43mfields\u001b[49m\u001b[38;5;241;43m=\u001b[39;49m\u001b[43mfields\u001b[49m\u001b[43m)\u001b[49m\n\u001b[1;32m    808\u001b[0m \u001b[38;5;28;01mreturn\u001b[39;00m result\n",
      "File \u001b[0;32m/srv/conda/envs/pangeo/lib/python3.9/site-packages/zarr/core.py:933\u001b[0m, in \u001b[0;36mArray.get_basic_selection\u001b[0;34m(self, selection, out, fields)\u001b[0m\n\u001b[1;32m    930\u001b[0m     \u001b[38;5;28;01mreturn\u001b[39;00m \u001b[38;5;28mself\u001b[39m\u001b[38;5;241m.\u001b[39m_get_basic_selection_zd(selection\u001b[38;5;241m=\u001b[39mselection, out\u001b[38;5;241m=\u001b[39mout,\n\u001b[1;32m    931\u001b[0m                                         fields\u001b[38;5;241m=\u001b[39mfields)\n\u001b[1;32m    932\u001b[0m \u001b[38;5;28;01melse\u001b[39;00m:\n\u001b[0;32m--> 933\u001b[0m     \u001b[38;5;28;01mreturn\u001b[39;00m \u001b[38;5;28;43mself\u001b[39;49m\u001b[38;5;241;43m.\u001b[39;49m\u001b[43m_get_basic_selection_nd\u001b[49m\u001b[43m(\u001b[49m\u001b[43mselection\u001b[49m\u001b[38;5;241;43m=\u001b[39;49m\u001b[43mselection\u001b[49m\u001b[43m,\u001b[49m\u001b[43m \u001b[49m\u001b[43mout\u001b[49m\u001b[38;5;241;43m=\u001b[39;49m\u001b[43mout\u001b[49m\u001b[43m,\u001b[49m\n\u001b[1;32m    934\u001b[0m \u001b[43m                                        \u001b[49m\u001b[43mfields\u001b[49m\u001b[38;5;241;43m=\u001b[39;49m\u001b[43mfields\u001b[49m\u001b[43m)\u001b[49m\n",
      "File \u001b[0;32m/srv/conda/envs/pangeo/lib/python3.9/site-packages/zarr/core.py:974\u001b[0m, in \u001b[0;36mArray._get_basic_selection_nd\u001b[0;34m(self, selection, out, fields)\u001b[0m\n\u001b[1;32m    970\u001b[0m \u001b[38;5;28;01mdef\u001b[39;00m \u001b[38;5;21m_get_basic_selection_nd\u001b[39m(\u001b[38;5;28mself\u001b[39m, selection, out\u001b[38;5;241m=\u001b[39m\u001b[38;5;28;01mNone\u001b[39;00m, fields\u001b[38;5;241m=\u001b[39m\u001b[38;5;28;01mNone\u001b[39;00m):\n\u001b[1;32m    971\u001b[0m     \u001b[38;5;66;03m# implementation of basic selection for array with at least one dimension\u001b[39;00m\n\u001b[1;32m    972\u001b[0m \n\u001b[1;32m    973\u001b[0m     \u001b[38;5;66;03m# setup indexer\u001b[39;00m\n\u001b[0;32m--> 974\u001b[0m     indexer \u001b[38;5;241m=\u001b[39m \u001b[43mBasicIndexer\u001b[49m\u001b[43m(\u001b[49m\u001b[43mselection\u001b[49m\u001b[43m,\u001b[49m\u001b[43m \u001b[49m\u001b[38;5;28;43mself\u001b[39;49m\u001b[43m)\u001b[49m\n\u001b[1;32m    976\u001b[0m     \u001b[38;5;28;01mreturn\u001b[39;00m \u001b[38;5;28mself\u001b[39m\u001b[38;5;241m.\u001b[39m_get_selection(indexer\u001b[38;5;241m=\u001b[39mindexer, out\u001b[38;5;241m=\u001b[39mout, fields\u001b[38;5;241m=\u001b[39mfields)\n",
      "File \u001b[0;32m/srv/conda/envs/pangeo/lib/python3.9/site-packages/zarr/indexing.py:344\u001b[0m, in \u001b[0;36mBasicIndexer.__init__\u001b[0;34m(self, selection, array)\u001b[0m\n\u001b[1;32m    340\u001b[0m \u001b[38;5;28;01mfor\u001b[39;00m dim_sel, dim_len, dim_chunk_len \u001b[38;5;129;01min\u001b[39;00m \\\n\u001b[1;32m    341\u001b[0m         \u001b[38;5;28mzip\u001b[39m(selection, array\u001b[38;5;241m.\u001b[39m_shape, array\u001b[38;5;241m.\u001b[39m_chunks):\n\u001b[1;32m    343\u001b[0m     \u001b[38;5;28;01mif\u001b[39;00m is_integer(dim_sel):\n\u001b[0;32m--> 344\u001b[0m         dim_indexer \u001b[38;5;241m=\u001b[39m \u001b[43mIntDimIndexer\u001b[49m\u001b[43m(\u001b[49m\u001b[43mdim_sel\u001b[49m\u001b[43m,\u001b[49m\u001b[43m \u001b[49m\u001b[43mdim_len\u001b[49m\u001b[43m,\u001b[49m\u001b[43m \u001b[49m\u001b[43mdim_chunk_len\u001b[49m\u001b[43m)\u001b[49m\n\u001b[1;32m    346\u001b[0m     \u001b[38;5;28;01melif\u001b[39;00m is_slice(dim_sel):\n\u001b[1;32m    347\u001b[0m         dim_indexer \u001b[38;5;241m=\u001b[39m SliceDimIndexer(dim_sel, dim_len, dim_chunk_len)\n",
      "File \u001b[0;32m/srv/conda/envs/pangeo/lib/python3.9/site-packages/zarr/indexing.py:143\u001b[0m, in \u001b[0;36mIntDimIndexer.__init__\u001b[0;34m(self, dim_sel, dim_len, dim_chunk_len)\u001b[0m\n\u001b[1;32m    140\u001b[0m \u001b[38;5;28;01mdef\u001b[39;00m \u001b[38;5;21m__init__\u001b[39m(\u001b[38;5;28mself\u001b[39m, dim_sel, dim_len, dim_chunk_len):\n\u001b[1;32m    141\u001b[0m \n\u001b[1;32m    142\u001b[0m     \u001b[38;5;66;03m# normalize\u001b[39;00m\n\u001b[0;32m--> 143\u001b[0m     dim_sel \u001b[38;5;241m=\u001b[39m \u001b[43mnormalize_integer_selection\u001b[49m\u001b[43m(\u001b[49m\u001b[43mdim_sel\u001b[49m\u001b[43m,\u001b[49m\u001b[43m \u001b[49m\u001b[43mdim_len\u001b[49m\u001b[43m)\u001b[49m\n\u001b[1;32m    145\u001b[0m     \u001b[38;5;66;03m# store attributes\u001b[39;00m\n\u001b[1;32m    146\u001b[0m     \u001b[38;5;28mself\u001b[39m\u001b[38;5;241m.\u001b[39mdim_sel \u001b[38;5;241m=\u001b[39m dim_sel\n",
      "File \u001b[0;32m/srv/conda/envs/pangeo/lib/python3.9/site-packages/zarr/indexing.py:115\u001b[0m, in \u001b[0;36mnormalize_integer_selection\u001b[0;34m(dim_sel, dim_len)\u001b[0m\n\u001b[1;32m    113\u001b[0m \u001b[38;5;66;03m# handle out of bounds\u001b[39;00m\n\u001b[1;32m    114\u001b[0m \u001b[38;5;28;01mif\u001b[39;00m dim_sel \u001b[38;5;241m>\u001b[39m\u001b[38;5;241m=\u001b[39m dim_len \u001b[38;5;129;01mor\u001b[39;00m dim_sel \u001b[38;5;241m<\u001b[39m \u001b[38;5;241m0\u001b[39m:\n\u001b[0;32m--> 115\u001b[0m     \u001b[38;5;28;01mraise\u001b[39;00m BoundsCheckError(dim_len)\n\u001b[1;32m    117\u001b[0m \u001b[38;5;28;01mreturn\u001b[39;00m dim_sel\n",
      "\u001b[0;31mBoundsCheckError\u001b[0m: index out of bounds for dimension with length 1"
     ]
    }
   ],
   "source": [
    "import rasterio as rio\n",
    "from rasterio import crs\n",
    "\n",
    "int_meta = {'driver': 'GTiff',\n",
    "            'dtype': np.uint16,\n",
    "            'nodata': None,\n",
    "            'width': 5000,\n",
    "            'height': 5000,\n",
    "            'count': 6,\n",
    "            'crs': crs.CRS.from_epsg(5070),\n",
    "            'compress': 'lzw',\n",
    "            'transform': stuff[0]['properties']['proj:transform'],\n",
    "            'tiled': True,\n",
    "            'blockxsize': 256,\n",
    "            'blockysize': 256,\n",
    "            'predictor': 2}\n",
    "\n",
    "with rio.Env():\n",
    "    with rio.open('h03v10-dswe-test4.tif', 'w', **int_meta) as dst:\n",
    "        for b in range(6):\n",
    "            print(b)\n",
    "            dst.write(z1[b], b + 1)"
   ]
  },
  {
   "cell_type": "code",
   "execution_count": 52,
   "id": "f4f84230-8f7c-4c41-9960-8c64db32f308",
   "metadata": {},
   "outputs": [
    {
     "name": "stdout",
     "output_type": "stream",
     "text": [
      "CPU times: user 262 ms, sys: 49.2 ms, total: 311 ms\n",
      "Wall time: 2.28 s\n"
     ]
    }
   ],
   "source": [
    "%%time\n",
    "window = Window(0, 0, 256, 256)\n",
    "\n",
    "data = median_distance(stuff, bands, window)"
   ]
  },
  {
   "cell_type": "code",
   "execution_count": 53,
   "id": "eb6db7d5-616a-4e10-8af3-5fc77f37cae4",
   "metadata": {},
   "outputs": [],
   "source": [
    "import matplotlib.pyplot as plt"
   ]
  },
  {
   "cell_type": "code",
   "execution_count": 67,
   "id": "5c6b146a-876c-4734-81dd-c4b824148360",
   "metadata": {},
   "outputs": [
    {
     "ename": "KeyError",
     "evalue": "0",
     "output_type": "error",
     "traceback": [
      "\u001b[0;31m---------------------------------------------------------------------------\u001b[0m",
      "\u001b[0;31mKeyError\u001b[0m                                  Traceback (most recent call last)",
      "Cell \u001b[0;32mIn[67], line 1\u001b[0m\n\u001b[0;32m----> 1\u001b[0m plt\u001b[38;5;241m.\u001b[39mimshow(\u001b[43mdata\u001b[49m\u001b[43m[\u001b[49m\u001b[38;5;241;43m0\u001b[39;49m\u001b[43m]\u001b[49m[\u001b[38;5;124m'\u001b[39m\u001b[38;5;124mintr\u001b[39m\u001b[38;5;124m'\u001b[39m])\n",
      "\u001b[0;31mKeyError\u001b[0m: 0"
     ]
    }
   ],
   "source": [
    "plt.imshow(dat['intr'])"
   ]
  },
  {
   "cell_type": "code",
   "execution_count": null,
   "id": "1f3ffcdf-832a-4af4-b533-1075c03b2603",
   "metadata": {},
   "outputs": [],
   "source": []
  }
 ],
 "metadata": {
  "kernelspec": {
   "display_name": "Python 3 (ipykernel)",
   "language": "python",
   "name": "python3"
  },
  "language_info": {
   "codemirror_mode": {
    "name": "ipython",
    "version": 3
   },
   "file_extension": ".py",
   "mimetype": "text/x-python",
   "name": "python",
   "nbconvert_exporter": "python",
   "pygments_lexer": "ipython3",
   "version": "3.11.6"
  }
 },
 "nbformat": 4,
 "nbformat_minor": 5
}
