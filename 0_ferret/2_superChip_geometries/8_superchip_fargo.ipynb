{
 "cells": [
  {
   "cell_type": "markdown",
   "id": "3f7b6b1b-bbb1-44cb-aec3-a297ab0d82f5",
   "metadata": {},
   "source": [
    "hello"
   ]
  },
  {
   "cell_type": "code",
   "execution_count": 1,
   "id": "a9b7500e-afc3-4658-9e97-ecde20a57ec5",
   "metadata": {},
   "outputs": [],
   "source": [
    "CSZ=500"
   ]
  },
  {
   "cell_type": "code",
   "execution_count": 2,
   "id": "1b51bde3-40a8-4073-a372-dc190be0b0bc",
   "metadata": {},
   "outputs": [],
   "source": [
    "import geopandas \n"
   ]
  },
  {
   "cell_type": "code",
   "execution_count": 3,
   "id": "f0685e39-a1cb-415b-a1be-fde9c72aaff4",
   "metadata": {},
   "outputs": [],
   "source": [
    "gdfin = geopandas.GeoDataFrame.from_file('AOI/conus_ard_grid.shp')"
   ]
  },
  {
   "cell_type": "code",
   "execution_count": 4,
   "id": "dba81084-360d-4530-bb03-2116a7bbf680",
   "metadata": {},
   "outputs": [
    {
     "data": {
      "text/html": [
       "<div>\n",
       "<style scoped>\n",
       "    .dataframe tbody tr th:only-of-type {\n",
       "        vertical-align: middle;\n",
       "    }\n",
       "\n",
       "    .dataframe tbody tr th {\n",
       "        vertical-align: top;\n",
       "    }\n",
       "\n",
       "    .dataframe thead th {\n",
       "        text-align: right;\n",
       "    }\n",
       "</style>\n",
       "<table border=\"1\" class=\"dataframe\">\n",
       "  <thead>\n",
       "    <tr style=\"text-align: right;\">\n",
       "      <th></th>\n",
       "      <th>FID_1</th>\n",
       "      <th>h</th>\n",
       "      <th>v</th>\n",
       "      <th>geometry</th>\n",
       "    </tr>\n",
       "  </thead>\n",
       "  <tbody>\n",
       "    <tr>\n",
       "      <th>0</th>\n",
       "      <td>0</td>\n",
       "      <td>2</td>\n",
       "      <td>0</td>\n",
       "      <td>POLYGON ((-2265585.000 3314805.000, -2115585.0...</td>\n",
       "    </tr>\n",
       "    <tr>\n",
       "      <th>1</th>\n",
       "      <td>1</td>\n",
       "      <td>2</td>\n",
       "      <td>1</td>\n",
       "      <td>POLYGON ((-2265585.000 3164805.000, -2115585.0...</td>\n",
       "    </tr>\n",
       "    <tr>\n",
       "      <th>2</th>\n",
       "      <td>2</td>\n",
       "      <td>2</td>\n",
       "      <td>2</td>\n",
       "      <td>POLYGON ((-2265585.000 3014805.000, -2115585.0...</td>\n",
       "    </tr>\n",
       "    <tr>\n",
       "      <th>3</th>\n",
       "      <td>3</td>\n",
       "      <td>2</td>\n",
       "      <td>3</td>\n",
       "      <td>POLYGON ((-2265585.000 2864805.000, -2115585.0...</td>\n",
       "    </tr>\n",
       "    <tr>\n",
       "      <th>4</th>\n",
       "      <td>4</td>\n",
       "      <td>2</td>\n",
       "      <td>4</td>\n",
       "      <td>POLYGON ((-2265585.000 2714805.000, -2115585.0...</td>\n",
       "    </tr>\n",
       "  </tbody>\n",
       "</table>\n",
       "</div>"
      ],
      "text/plain": [
       "   FID_1  h  v                                           geometry\n",
       "0      0  2  0  POLYGON ((-2265585.000 3314805.000, -2115585.0...\n",
       "1      1  2  1  POLYGON ((-2265585.000 3164805.000, -2115585.0...\n",
       "2      2  2  2  POLYGON ((-2265585.000 3014805.000, -2115585.0...\n",
       "3      3  2  3  POLYGON ((-2265585.000 2864805.000, -2115585.0...\n",
       "4      4  2  4  POLYGON ((-2265585.000 2714805.000, -2115585.0..."
      ]
     },
     "execution_count": 4,
     "metadata": {},
     "output_type": "execute_result"
    }
   ],
   "source": [
    "gdfin.head()"
   ]
  },
  {
   "cell_type": "code",
   "execution_count": 5,
   "id": "bad1ce0f-2f55-4ff5-83b7-3cae519fb42a",
   "metadata": {},
   "outputs": [
    {
     "data": {
      "text/plain": [
       "<Projected CRS: PROJCS[\"Albers_Conic_Equal_Area\",GEOGCS[\"WGS 84\",D ...>\n",
       "Name: Albers_Conic_Equal_Area\n",
       "Axis Info [cartesian]:\n",
       "- [east]: Easting (metre)\n",
       "- [north]: Northing (metre)\n",
       "Area of Use:\n",
       "- undefined\n",
       "Coordinate Operation:\n",
       "- name: unnamed\n",
       "- method: Albers Equal Area\n",
       "Datum: World Geodetic System 1984\n",
       "- Ellipsoid: WGS 84\n",
       "- Prime Meridian: Greenwich"
      ]
     },
     "execution_count": 5,
     "metadata": {},
     "output_type": "execute_result"
    }
   ],
   "source": [
    "gdfin.crs"
   ]
  },
  {
   "cell_type": "code",
   "execution_count": 6,
   "id": "2695c32e-9edb-434d-ad80-892223e479c5",
   "metadata": {},
   "outputs": [],
   "source": [
    "hvgdf = gdfin.loc[(gdfin['h'] == 16) & (gdfin['v'] == 4)]"
   ]
  },
  {
   "cell_type": "code",
   "execution_count": 7,
   "id": "e5333d59-d24c-4448-ad03-e743dde87b2b",
   "metadata": {},
   "outputs": [],
   "source": [
    "plot_hv = hvgdf.to_crs('EPSG:4326')"
   ]
  },
  {
   "cell_type": "code",
   "execution_count": 8,
   "id": "4441ba96-e98a-4321-83b9-a11ddb4d3b68",
   "metadata": {},
   "outputs": [],
   "source": [
    "#! wget https://raw.githubusercontent.com/tonybutzer/the_handbook/b2c9270dd70b9e713c7fd43b59fca2f9eeb1dec6/teigen-lightning-talks/4_Jan_2022/Panel_Examples/fm_map.py"
   ]
  },
  {
   "cell_type": "code",
   "execution_count": 9,
   "id": "4a7cacc8-39b9-4bb5-a96d-dc87d5ad53d9",
   "metadata": {},
   "outputs": [],
   "source": [
    "my_geo_json = plot_hv.to_json()"
   ]
  },
  {
   "cell_type": "code",
   "execution_count": 10,
   "id": "a4d6fad5-e8c2-4097-860e-5dcc6ac322b5",
   "metadata": {},
   "outputs": [
    {
     "data": {
      "text/plain": [
       "'{\"type\": \"FeatureCollection\", \"features\": [{\"id\": \"298\", \"type\": \"Feature\", \"properties\": {\"FID_1\": 298, \"h\": 16, \"v\": 4}, \"geometry\": {\"type\": \"Polygon\", \"coordinates\": [[[-98.18090130149464, 47.408864991810596], [-96.20530399393319, 47.425907088997924], [-96.20112216963096, 46.071437147713844], [-98.13649364641323, 46.05481254835883], [-98.18090130149464, 47.408864991810596]]]}}]}'"
      ]
     },
     "execution_count": 10,
     "metadata": {},
     "output_type": "execute_result"
    }
   ],
   "source": [
    "my_geo_json"
   ]
  },
  {
   "cell_type": "code",
   "execution_count": 11,
   "id": "9bfe0874-625a-4f1d-bdbf-1c872c2f9cb1",
   "metadata": {},
   "outputs": [],
   "source": [
    "import folium\n",
    "import geopandas as gpd\n",
    "tiles=\" http://mt1.google.com/vt/lyrs=y&z={z}&x={x}&y={y}\"\n",
    "attr=\"Google\"\n"
   ]
  },
  {
   "cell_type": "code",
   "execution_count": 12,
   "id": "1be525a4-1b86-4357-9101-826c88834c5e",
   "metadata": {},
   "outputs": [],
   "source": [
    "def simple_map(my_geo):\n",
    "    center=my_geo.geometry.bounds['miny'].values[0], my_geo.geometry.bounds['minx'].values[0]\n",
    "    sw = center\n",
    "    ne = my_geo.geometry.bounds['maxy'].values[0], my_geo.geometry.bounds['maxx'].values[0]\n",
    "    map3 = folium.Map(location=center, zoom_start=12,center=center)\n",
    "    map3.fit_bounds([sw,ne])\n",
    "    my_geo_json = my_geo.to_json()\n",
    "    style_function= lambda x:{'color':'red'}\n",
    "    folium.GeoJson(my_geo_json,style_function).add_to(map3)\n",
    "    #map3.add_child(folium.features.LatLngPopup())\n",
    "\n",
    "    return(map3)"
   ]
  },
  {
   "cell_type": "code",
   "execution_count": 13,
   "id": "5802a6f3-d8e9-4c8f-85f8-9865df869282",
   "metadata": {},
   "outputs": [],
   "source": [
    "my_geo = plot_hv"
   ]
  },
  {
   "cell_type": "code",
   "execution_count": 14,
   "id": "2e382362-8aab-483a-96c4-9235c2177a79",
   "metadata": {},
   "outputs": [],
   "source": [
    "center=my_geo.geometry.bounds['miny'].values[0], my_geo.geometry.bounds['minx'].values[0]\n",
    "sw = center\n",
    "ne = my_geo.geometry.bounds['maxy'].values[0], my_geo.geometry.bounds['maxx'].values[0]"
   ]
  },
  {
   "cell_type": "code",
   "execution_count": 15,
   "id": "34a7f150-5f15-4f35-a317-f0f920e08c67",
   "metadata": {},
   "outputs": [
    {
     "data": {
      "text/plain": [
       "((46.05481254835883, -98.18090130149464),\n",
       " (46.05481254835883, -98.18090130149464),\n",
       " (47.425907088997924, -96.20112216963096))"
      ]
     },
     "execution_count": 15,
     "metadata": {},
     "output_type": "execute_result"
    }
   ],
   "source": [
    "center, sw, ne"
   ]
  },
  {
   "cell_type": "code",
   "execution_count": 16,
   "id": "20e01b10-c5dd-4d94-8aa4-e92c926c8378",
   "metadata": {},
   "outputs": [
    {
     "data": {
      "text/html": [
       "<div>\n",
       "<style scoped>\n",
       "    .dataframe tbody tr th:only-of-type {\n",
       "        vertical-align: middle;\n",
       "    }\n",
       "\n",
       "    .dataframe tbody tr th {\n",
       "        vertical-align: top;\n",
       "    }\n",
       "\n",
       "    .dataframe thead th {\n",
       "        text-align: right;\n",
       "    }\n",
       "</style>\n",
       "<table border=\"1\" class=\"dataframe\">\n",
       "  <thead>\n",
       "    <tr style=\"text-align: right;\">\n",
       "      <th></th>\n",
       "      <th>minx</th>\n",
       "      <th>miny</th>\n",
       "      <th>maxx</th>\n",
       "      <th>maxy</th>\n",
       "    </tr>\n",
       "  </thead>\n",
       "  <tbody>\n",
       "    <tr>\n",
       "      <th>298</th>\n",
       "      <td>-98.180901</td>\n",
       "      <td>46.054813</td>\n",
       "      <td>-96.201122</td>\n",
       "      <td>47.425907</td>\n",
       "    </tr>\n",
       "  </tbody>\n",
       "</table>\n",
       "</div>"
      ],
      "text/plain": [
       "          minx       miny       maxx       maxy\n",
       "298 -98.180901  46.054813 -96.201122  47.425907"
      ]
     },
     "execution_count": 16,
     "metadata": {},
     "output_type": "execute_result"
    }
   ],
   "source": [
    "plot_hv.geometry.bounds"
   ]
  },
  {
   "cell_type": "code",
   "execution_count": 17,
   "id": "010471a3-dc70-4718-98e9-6a44e5b19d93",
   "metadata": {},
   "outputs": [],
   "source": [
    "m = simple_map(plot_hv)"
   ]
  },
  {
   "cell_type": "code",
   "execution_count": 18,
   "id": "aefccecb-3307-49fe-8540-b440cecba41f",
   "metadata": {},
   "outputs": [
    {
     "data": {
      "text/html": [
       "<div style=\"width:100%;\"><div style=\"position:relative;width:100%;height:0;padding-bottom:60%;\"><span style=\"color:#565656\">Make this Notebook Trusted to load map: File -> Trust Notebook</span><iframe srcdoc=\"&lt;!DOCTYPE html&gt;\n",
       "&lt;html&gt;\n",
       "&lt;head&gt;\n",
       "    \n",
       "    &lt;meta http-equiv=&quot;content-type&quot; content=&quot;text/html; charset=UTF-8&quot; /&gt;\n",
       "    \n",
       "        &lt;script&gt;\n",
       "            L_NO_TOUCH = false;\n",
       "            L_DISABLE_3D = false;\n",
       "        &lt;/script&gt;\n",
       "    \n",
       "    &lt;style&gt;html, body {width: 100%;height: 100%;margin: 0;padding: 0;}&lt;/style&gt;\n",
       "    &lt;style&gt;#map {position:absolute;top:0;bottom:0;right:0;left:0;}&lt;/style&gt;\n",
       "    &lt;script src=&quot;https://cdn.jsdelivr.net/npm/leaflet@1.9.3/dist/leaflet.js&quot;&gt;&lt;/script&gt;\n",
       "    &lt;script src=&quot;https://code.jquery.com/jquery-3.7.1.min.js&quot;&gt;&lt;/script&gt;\n",
       "    &lt;script src=&quot;https://cdn.jsdelivr.net/npm/bootstrap@5.2.2/dist/js/bootstrap.bundle.min.js&quot;&gt;&lt;/script&gt;\n",
       "    &lt;script src=&quot;https://cdnjs.cloudflare.com/ajax/libs/Leaflet.awesome-markers/2.0.2/leaflet.awesome-markers.js&quot;&gt;&lt;/script&gt;\n",
       "    &lt;link rel=&quot;stylesheet&quot; href=&quot;https://cdn.jsdelivr.net/npm/leaflet@1.9.3/dist/leaflet.css&quot;/&gt;\n",
       "    &lt;link rel=&quot;stylesheet&quot; href=&quot;https://cdn.jsdelivr.net/npm/bootstrap@5.2.2/dist/css/bootstrap.min.css&quot;/&gt;\n",
       "    &lt;link rel=&quot;stylesheet&quot; href=&quot;https://netdna.bootstrapcdn.com/bootstrap/3.0.0/css/bootstrap.min.css&quot;/&gt;\n",
       "    &lt;link rel=&quot;stylesheet&quot; href=&quot;https://cdn.jsdelivr.net/npm/@fortawesome/fontawesome-free@6.2.0/css/all.min.css&quot;/&gt;\n",
       "    &lt;link rel=&quot;stylesheet&quot; href=&quot;https://cdnjs.cloudflare.com/ajax/libs/Leaflet.awesome-markers/2.0.2/leaflet.awesome-markers.css&quot;/&gt;\n",
       "    &lt;link rel=&quot;stylesheet&quot; href=&quot;https://cdn.jsdelivr.net/gh/python-visualization/folium/folium/templates/leaflet.awesome.rotate.min.css&quot;/&gt;\n",
       "    \n",
       "            &lt;meta name=&quot;viewport&quot; content=&quot;width=device-width,\n",
       "                initial-scale=1.0, maximum-scale=1.0, user-scalable=no&quot; /&gt;\n",
       "            &lt;style&gt;\n",
       "                #map_fadf54b832ecc3dd47987565858d2123 {\n",
       "                    position: relative;\n",
       "                    width: 100.0%;\n",
       "                    height: 100.0%;\n",
       "                    left: 0.0%;\n",
       "                    top: 0.0%;\n",
       "                }\n",
       "                .leaflet-container { font-size: 1rem; }\n",
       "            &lt;/style&gt;\n",
       "        \n",
       "&lt;/head&gt;\n",
       "&lt;body&gt;\n",
       "    \n",
       "    \n",
       "            &lt;div class=&quot;folium-map&quot; id=&quot;map_fadf54b832ecc3dd47987565858d2123&quot; &gt;&lt;/div&gt;\n",
       "        \n",
       "&lt;/body&gt;\n",
       "&lt;script&gt;\n",
       "    \n",
       "    \n",
       "            var map_fadf54b832ecc3dd47987565858d2123 = L.map(\n",
       "                &quot;map_fadf54b832ecc3dd47987565858d2123&quot;,\n",
       "                {\n",
       "                    center: [46.05481254835883, -98.18090130149464],\n",
       "                    crs: L.CRS.EPSG3857,\n",
       "                    zoom: 12,\n",
       "                    zoomControl: true,\n",
       "                    preferCanvas: false,\n",
       "                    center: [46.05481254835883, -98.18090130149464],\n",
       "                }\n",
       "            );\n",
       "\n",
       "            \n",
       "\n",
       "        \n",
       "    \n",
       "            var tile_layer_b8962989d758deacfad1be34b99daa77 = L.tileLayer(\n",
       "                &quot;https://{s}.tile.openstreetmap.org/{z}/{x}/{y}.png&quot;,\n",
       "                {&quot;attribution&quot;: &quot;Data by \\u0026copy; \\u003ca target=\\&quot;_blank\\&quot; href=\\&quot;http://openstreetmap.org\\&quot;\\u003eOpenStreetMap\\u003c/a\\u003e, under \\u003ca target=\\&quot;_blank\\&quot; href=\\&quot;http://www.openstreetmap.org/copyright\\&quot;\\u003eODbL\\u003c/a\\u003e.&quot;, &quot;detectRetina&quot;: false, &quot;maxNativeZoom&quot;: 18, &quot;maxZoom&quot;: 18, &quot;minZoom&quot;: 0, &quot;noWrap&quot;: false, &quot;opacity&quot;: 1, &quot;subdomains&quot;: &quot;abc&quot;, &quot;tms&quot;: false}\n",
       "            );\n",
       "        \n",
       "    \n",
       "                tile_layer_b8962989d758deacfad1be34b99daa77.addTo(map_fadf54b832ecc3dd47987565858d2123);\n",
       "    \n",
       "            map_fadf54b832ecc3dd47987565858d2123.fitBounds(\n",
       "                [[46.05481254835883, -98.18090130149464], [47.425907088997924, -96.20112216963096]],\n",
       "                {}\n",
       "            );\n",
       "        \n",
       "    \n",
       "        function geo_json_e786eb850607078190d3901a86bb1a83_styler(feature) {\n",
       "            switch(feature.id) {\n",
       "                default:\n",
       "                    return {&quot;color&quot;: &quot;red&quot;};\n",
       "            }\n",
       "        }\n",
       "\n",
       "        function geo_json_e786eb850607078190d3901a86bb1a83_onEachFeature(feature, layer) {\n",
       "            layer.on({\n",
       "            });\n",
       "        };\n",
       "        var geo_json_e786eb850607078190d3901a86bb1a83 = L.geoJson(null, {\n",
       "                onEachFeature: geo_json_e786eb850607078190d3901a86bb1a83_onEachFeature,\n",
       "            \n",
       "                style: geo_json_e786eb850607078190d3901a86bb1a83_styler,\n",
       "        });\n",
       "\n",
       "        function geo_json_e786eb850607078190d3901a86bb1a83_add (data) {\n",
       "            geo_json_e786eb850607078190d3901a86bb1a83\n",
       "                .addData(data);\n",
       "        }\n",
       "            geo_json_e786eb850607078190d3901a86bb1a83_add({&quot;features&quot;: [{&quot;geometry&quot;: {&quot;coordinates&quot;: [[[-98.18090130149464, 47.408864991810596], [-96.20530399393319, 47.425907088997924], [-96.20112216963096, 46.071437147713844], [-98.13649364641323, 46.05481254835883], [-98.18090130149464, 47.408864991810596]]], &quot;type&quot;: &quot;Polygon&quot;}, &quot;id&quot;: &quot;298&quot;, &quot;properties&quot;: {&quot;FID_1&quot;: 298, &quot;h&quot;: 16, &quot;v&quot;: 4}, &quot;type&quot;: &quot;Feature&quot;}], &quot;type&quot;: &quot;FeatureCollection&quot;});\n",
       "\n",
       "        \n",
       "    \n",
       "                geo_json_e786eb850607078190d3901a86bb1a83.addTo(map_fadf54b832ecc3dd47987565858d2123);\n",
       "&lt;/script&gt;\n",
       "&lt;/html&gt;\" style=\"position:absolute;width:100%;height:100%;left:0;top:0;border:none !important;\" allowfullscreen webkitallowfullscreen mozallowfullscreen></iframe></div></div>"
      ],
      "text/plain": [
       "<folium.folium.Map at 0x7f76640ebed0>"
      ]
     },
     "execution_count": 18,
     "metadata": {},
     "output_type": "execute_result"
    }
   ],
   "source": [
    "m"
   ]
  },
  {
   "cell_type": "code",
   "execution_count": 19,
   "id": "e47ad64f-e195-4d59-ba2b-289e8a8437e4",
   "metadata": {},
   "outputs": [],
   "source": [
    "# style_function= lambda x:{'color':'red'}\n",
    "# folium.GeoJson(my_geo_json,style_function).add_to(m)"
   ]
  },
  {
   "cell_type": "code",
   "execution_count": 20,
   "id": "4b289df2-6b52-4fec-a5d7-d5ef843f09ae",
   "metadata": {},
   "outputs": [
    {
     "data": {
      "text/html": [
       "<div>\n",
       "<style scoped>\n",
       "    .dataframe tbody tr th:only-of-type {\n",
       "        vertical-align: middle;\n",
       "    }\n",
       "\n",
       "    .dataframe tbody tr th {\n",
       "        vertical-align: top;\n",
       "    }\n",
       "\n",
       "    .dataframe thead th {\n",
       "        text-align: right;\n",
       "    }\n",
       "</style>\n",
       "<table border=\"1\" class=\"dataframe\">\n",
       "  <thead>\n",
       "    <tr style=\"text-align: right;\">\n",
       "      <th></th>\n",
       "      <th>FID_1</th>\n",
       "      <th>h</th>\n",
       "      <th>v</th>\n",
       "      <th>geometry</th>\n",
       "    </tr>\n",
       "  </thead>\n",
       "  <tbody>\n",
       "    <tr>\n",
       "      <th>298</th>\n",
       "      <td>298</td>\n",
       "      <td>16</td>\n",
       "      <td>4</td>\n",
       "      <td>POLYGON ((-165585.000 2714805.000, -15585.000 ...</td>\n",
       "    </tr>\n",
       "  </tbody>\n",
       "</table>\n",
       "</div>"
      ],
      "text/plain": [
       "     FID_1   h  v                                           geometry\n",
       "298    298  16  4  POLYGON ((-165585.000 2714805.000, -15585.000 ..."
      ]
     },
     "execution_count": 20,
     "metadata": {},
     "output_type": "execute_result"
    }
   ],
   "source": [
    "hvgdf"
   ]
  },
  {
   "cell_type": "code",
   "execution_count": 21,
   "id": "44146c59-18ca-47d3-bc8b-e45f581918e2",
   "metadata": {},
   "outputs": [],
   "source": [
    "geo = hvgdf['geometry'].values[0]"
   ]
  },
  {
   "cell_type": "code",
   "execution_count": 22,
   "id": "98aa3011-e168-4d62-9e7e-4dc269892f9b",
   "metadata": {},
   "outputs": [
    {
     "data": {
      "text/plain": [
       "shapely.geometry.polygon.Polygon"
      ]
     },
     "execution_count": 22,
     "metadata": {},
     "output_type": "execute_result"
    }
   ],
   "source": [
    "type(geo)"
   ]
  },
  {
   "cell_type": "code",
   "execution_count": 23,
   "id": "2ab8ab87-9eb2-4a06-96c1-ece7c69009bc",
   "metadata": {},
   "outputs": [
    {
     "data": {
      "text/plain": [
       "\u001b[0;31mType:\u001b[0m        Polygon\n",
       "\u001b[0;31mString form:\u001b[0m POLYGON ((-165584.99992983043 2714804.9997692876, -15584.999929830432 2714804.9997692876, -15584. <...> 4804.9997692876, -165584.99992983043 2564804.9997692876, -165584.99992983043 2714804.9997692876))\n",
       "\u001b[0;31mFile:\u001b[0m        /efs/mambaforge/envs/water/lib/python3.11/site-packages/shapely/geometry/polygon.py\n",
       "\u001b[0;31mDocstring:\u001b[0m  \n",
       "A geometry type representing an area that is enclosed by a linear ring.\n",
       "\n",
       "A polygon is a two-dimensional feature and has a non-zero area. It may\n",
       "have one or more negative-space \"holes\" which are also bounded by linear\n",
       "rings. If any rings cross each other, the feature is invalid and\n",
       "operations on it may fail.\n",
       "\n",
       "Parameters\n",
       "----------\n",
       "shell : sequence\n",
       "    A sequence of (x, y [,z]) numeric coordinate pairs or triples, or\n",
       "    an array-like with shape (N, 2) or (N, 3).\n",
       "    Also can be a sequence of Point objects.\n",
       "holes : sequence\n",
       "    A sequence of objects which satisfy the same requirements as the\n",
       "    shell parameters above\n",
       "\n",
       "Attributes\n",
       "----------\n",
       "exterior : LinearRing\n",
       "    The ring which bounds the positive space of the polygon.\n",
       "interiors : sequence\n",
       "    A sequence of rings which bound all existing holes.\n",
       "\n",
       "Examples\n",
       "--------\n",
       "Create a square polygon with no holes\n",
       "\n",
       ">>> coords = ((0., 0.), (0., 1.), (1., 1.), (1., 0.), (0., 0.))\n",
       ">>> polygon = Polygon(coords)\n",
       ">>> polygon.area\n",
       "1.0"
      ]
     },
     "metadata": {},
     "output_type": "display_data"
    }
   ],
   "source": [
    "? geo"
   ]
  },
  {
   "cell_type": "code",
   "execution_count": 24,
   "id": "7b18de61-ee06-439c-9656-539db024df5a",
   "metadata": {},
   "outputs": [
    {
     "data": {
      "text/plain": [
       "(-165584.99992983043,\n",
       " 2564804.9997692876,\n",
       " -15584.999929830432,\n",
       " 2714804.9997692876)"
      ]
     },
     "execution_count": 24,
     "metadata": {},
     "output_type": "execute_result"
    }
   ],
   "source": [
    "geo.bounds"
   ]
  },
  {
   "cell_type": "code",
   "execution_count": 25,
   "id": "a9af09f7-7056-4501-9c7a-356e75d9686e",
   "metadata": {},
   "outputs": [
    {
     "data": {
      "text/plain": [
       "\u001b[0;31mType:\u001b[0m        property\n",
       "\u001b[0;31mString form:\u001b[0m <property object at 0x7f766e90c090>\n",
       "\u001b[0;31mDocstring:\u001b[0m   Returns minimum bounding region (minx, miny, maxx, maxy)"
      ]
     },
     "metadata": {},
     "output_type": "display_data"
    }
   ],
   "source": [
    "? geo.bounds"
   ]
  },
  {
   "cell_type": "code",
   "execution_count": 26,
   "id": "38973271-1ab4-463c-bec1-e57d451b9019",
   "metadata": {},
   "outputs": [
    {
     "data": {
      "text/plain": [
       "['__add__',\n",
       " '__class__',\n",
       " '__class_getitem__',\n",
       " '__contains__',\n",
       " '__delattr__',\n",
       " '__dir__',\n",
       " '__doc__',\n",
       " '__eq__',\n",
       " '__format__',\n",
       " '__ge__',\n",
       " '__getattribute__',\n",
       " '__getitem__',\n",
       " '__getnewargs__',\n",
       " '__getstate__',\n",
       " '__gt__',\n",
       " '__hash__',\n",
       " '__init__',\n",
       " '__init_subclass__',\n",
       " '__iter__',\n",
       " '__le__',\n",
       " '__len__',\n",
       " '__lt__',\n",
       " '__mul__',\n",
       " '__ne__',\n",
       " '__new__',\n",
       " '__reduce__',\n",
       " '__reduce_ex__',\n",
       " '__repr__',\n",
       " '__rmul__',\n",
       " '__setattr__',\n",
       " '__sizeof__',\n",
       " '__str__',\n",
       " '__subclasshook__',\n",
       " 'count',\n",
       " 'index']"
      ]
     },
     "execution_count": 26,
     "metadata": {},
     "output_type": "execute_result"
    }
   ],
   "source": [
    "dir (geo.bounds)"
   ]
  },
  {
   "cell_type": "markdown",
   "id": "d06d99c4-70de-474a-8daa-a39111c1fbfc",
   "metadata": {},
   "source": [
    "## Returns minimum bounding region (minx, miny, maxx, maxy)"
   ]
  },
  {
   "cell_type": "code",
   "execution_count": 27,
   "id": "9bf377bd-6e0b-4559-b697-464243f2c6e6",
   "metadata": {},
   "outputs": [],
   "source": [
    "minx=geo.bounds[0]"
   ]
  },
  {
   "cell_type": "code",
   "execution_count": 28,
   "id": "6632fc42-e162-4bba-98ee-c832124675c7",
   "metadata": {},
   "outputs": [
    {
     "data": {
      "text/plain": [
       "-165584.99992983043"
      ]
     },
     "execution_count": 28,
     "metadata": {},
     "output_type": "execute_result"
    }
   ],
   "source": [
    "minx"
   ]
  },
  {
   "cell_type": "code",
   "execution_count": 29,
   "id": "a1d5608c-3d0d-4d63-8873-e151fceb3f37",
   "metadata": {},
   "outputs": [],
   "source": [
    "miny=geo.bounds[1]"
   ]
  },
  {
   "cell_type": "code",
   "execution_count": 30,
   "id": "128bb3ef-39b9-49f3-a2f6-68fec8f81177",
   "metadata": {},
   "outputs": [
    {
     "data": {
      "text/plain": [
       "2564804.9997692876"
      ]
     },
     "execution_count": 30,
     "metadata": {},
     "output_type": "execute_result"
    }
   ],
   "source": [
    "miny"
   ]
  },
  {
   "cell_type": "code",
   "execution_count": 31,
   "id": "28e86a58-4274-4390-91e4-69ab53b1f66e",
   "metadata": {},
   "outputs": [],
   "source": [
    "new_maxx = int(minx+CSZ*30)\n",
    "new_maxy = int(miny+CSZ*30)"
   ]
  },
  {
   "cell_type": "code",
   "execution_count": 32,
   "id": "19e613b2-175f-440c-b278-15709c273144",
   "metadata": {},
   "outputs": [],
   "source": [
    "from shapely.geometry import box\n",
    "my_geometry = box(minx, miny, new_maxx, new_maxy)"
   ]
  },
  {
   "cell_type": "code",
   "execution_count": 33,
   "id": "029fae6b-9c96-4552-9c29-206997e8952a",
   "metadata": {},
   "outputs": [
    {
     "data": {
      "text/plain": [
       "shapely.geometry.polygon.Polygon"
      ]
     },
     "execution_count": 33,
     "metadata": {},
     "output_type": "execute_result"
    }
   ],
   "source": [
    "type(my_geometry)"
   ]
  },
  {
   "cell_type": "code",
   "execution_count": 34,
   "id": "ea11f0e3-7cb4-47cc-a995-cc5753a403b2",
   "metadata": {},
   "outputs": [],
   "source": [
    "my_df_list=[]\n",
    "rec = {\n",
    "    'sY': 0,\n",
    "    'sX': 0,\n",
    "    'geometry': my_geometry\n",
    "}\n",
    "my_df_list.append(rec)\n",
    "\n",
    "gdf = geopandas.GeoDataFrame(my_df_list)"
   ]
  },
  {
   "cell_type": "code",
   "execution_count": 35,
   "id": "d107e10a-53f6-48b1-8071-1a46d9220feb",
   "metadata": {},
   "outputs": [
    {
     "data": {
      "text/html": [
       "<div>\n",
       "<style scoped>\n",
       "    .dataframe tbody tr th:only-of-type {\n",
       "        vertical-align: middle;\n",
       "    }\n",
       "\n",
       "    .dataframe tbody tr th {\n",
       "        vertical-align: top;\n",
       "    }\n",
       "\n",
       "    .dataframe thead th {\n",
       "        text-align: right;\n",
       "    }\n",
       "</style>\n",
       "<table border=\"1\" class=\"dataframe\">\n",
       "  <thead>\n",
       "    <tr style=\"text-align: right;\">\n",
       "      <th></th>\n",
       "      <th>sY</th>\n",
       "      <th>sX</th>\n",
       "      <th>geometry</th>\n",
       "    </tr>\n",
       "  </thead>\n",
       "  <tbody>\n",
       "    <tr>\n",
       "      <th>0</th>\n",
       "      <td>0</td>\n",
       "      <td>0</td>\n",
       "      <td>POLYGON ((-150584.000 2564805.000, -150584.000...</td>\n",
       "    </tr>\n",
       "  </tbody>\n",
       "</table>\n",
       "</div>"
      ],
      "text/plain": [
       "   sY  sX                                           geometry\n",
       "0   0   0  POLYGON ((-150584.000 2564805.000, -150584.000..."
      ]
     },
     "execution_count": 35,
     "metadata": {},
     "output_type": "execute_result"
    }
   ],
   "source": [
    "gdf"
   ]
  },
  {
   "cell_type": "code",
   "execution_count": 36,
   "id": "12b77d63-4a5a-4e96-bb6c-6545162df52c",
   "metadata": {},
   "outputs": [],
   "source": [
    "gdf_c = gdf.set_crs(crs=hvgdf.crs)"
   ]
  },
  {
   "cell_type": "code",
   "execution_count": 37,
   "id": "73086c2b-7576-46ea-a271-0d3b9186ba25",
   "metadata": {},
   "outputs": [],
   "source": [
    "def add_df_map(map3, my_gdf, color='yellow'):\n",
    "    print(my_gdf)\n",
    "    plot_hv = my_gdf.to_crs('EPSG:4326')\n",
    "    my_geo_json = plot_hv.to_json()\n",
    "    style_function= lambda x:{'color':color}\n",
    "    folium.GeoJson(my_geo_json,style_function).add_to(map3)"
   ]
  },
  {
   "cell_type": "code",
   "execution_count": 38,
   "id": "eef7fa46-ccac-4afc-b876-54ee88f7f7d7",
   "metadata": {},
   "outputs": [
    {
     "name": "stdout",
     "output_type": "stream",
     "text": [
      "   sY  sX                                           geometry\n",
      "0   0   0  POLYGON ((-150584.000 2564805.000, -150584.000...\n"
     ]
    }
   ],
   "source": [
    "add_df_map(m, gdf_c)"
   ]
  },
  {
   "cell_type": "code",
   "execution_count": 39,
   "id": "3a78de5f-2106-4ed3-b3a9-c29207703770",
   "metadata": {},
   "outputs": [
    {
     "data": {
      "text/plain": [
       "10.0"
      ]
     },
     "execution_count": 39,
     "metadata": {},
     "output_type": "execute_result"
    }
   ],
   "source": [
    "5000/CSZ"
   ]
  },
  {
   "cell_type": "code",
   "execution_count": 40,
   "id": "c98908cb-6970-431c-b2a8-8878b022c7f7",
   "metadata": {},
   "outputs": [
    {
     "data": {
      "text/html": [
       "<div style=\"width:100%;\"><div style=\"position:relative;width:100%;height:0;padding-bottom:60%;\"><span style=\"color:#565656\">Make this Notebook Trusted to load map: File -> Trust Notebook</span><iframe srcdoc=\"&lt;!DOCTYPE html&gt;\n",
       "&lt;html&gt;\n",
       "&lt;head&gt;\n",
       "    \n",
       "    &lt;meta http-equiv=&quot;content-type&quot; content=&quot;text/html; charset=UTF-8&quot; /&gt;\n",
       "    \n",
       "        &lt;script&gt;\n",
       "            L_NO_TOUCH = false;\n",
       "            L_DISABLE_3D = false;\n",
       "        &lt;/script&gt;\n",
       "    \n",
       "    &lt;style&gt;html, body {width: 100%;height: 100%;margin: 0;padding: 0;}&lt;/style&gt;\n",
       "    &lt;style&gt;#map {position:absolute;top:0;bottom:0;right:0;left:0;}&lt;/style&gt;\n",
       "    &lt;script src=&quot;https://cdn.jsdelivr.net/npm/leaflet@1.9.3/dist/leaflet.js&quot;&gt;&lt;/script&gt;\n",
       "    &lt;script src=&quot;https://code.jquery.com/jquery-3.7.1.min.js&quot;&gt;&lt;/script&gt;\n",
       "    &lt;script src=&quot;https://cdn.jsdelivr.net/npm/bootstrap@5.2.2/dist/js/bootstrap.bundle.min.js&quot;&gt;&lt;/script&gt;\n",
       "    &lt;script src=&quot;https://cdnjs.cloudflare.com/ajax/libs/Leaflet.awesome-markers/2.0.2/leaflet.awesome-markers.js&quot;&gt;&lt;/script&gt;\n",
       "    &lt;link rel=&quot;stylesheet&quot; href=&quot;https://cdn.jsdelivr.net/npm/leaflet@1.9.3/dist/leaflet.css&quot;/&gt;\n",
       "    &lt;link rel=&quot;stylesheet&quot; href=&quot;https://cdn.jsdelivr.net/npm/bootstrap@5.2.2/dist/css/bootstrap.min.css&quot;/&gt;\n",
       "    &lt;link rel=&quot;stylesheet&quot; href=&quot;https://netdna.bootstrapcdn.com/bootstrap/3.0.0/css/bootstrap.min.css&quot;/&gt;\n",
       "    &lt;link rel=&quot;stylesheet&quot; href=&quot;https://cdn.jsdelivr.net/npm/@fortawesome/fontawesome-free@6.2.0/css/all.min.css&quot;/&gt;\n",
       "    &lt;link rel=&quot;stylesheet&quot; href=&quot;https://cdnjs.cloudflare.com/ajax/libs/Leaflet.awesome-markers/2.0.2/leaflet.awesome-markers.css&quot;/&gt;\n",
       "    &lt;link rel=&quot;stylesheet&quot; href=&quot;https://cdn.jsdelivr.net/gh/python-visualization/folium/folium/templates/leaflet.awesome.rotate.min.css&quot;/&gt;\n",
       "    \n",
       "            &lt;meta name=&quot;viewport&quot; content=&quot;width=device-width,\n",
       "                initial-scale=1.0, maximum-scale=1.0, user-scalable=no&quot; /&gt;\n",
       "            &lt;style&gt;\n",
       "                #map_fadf54b832ecc3dd47987565858d2123 {\n",
       "                    position: relative;\n",
       "                    width: 100.0%;\n",
       "                    height: 100.0%;\n",
       "                    left: 0.0%;\n",
       "                    top: 0.0%;\n",
       "                }\n",
       "                .leaflet-container { font-size: 1rem; }\n",
       "            &lt;/style&gt;\n",
       "        \n",
       "&lt;/head&gt;\n",
       "&lt;body&gt;\n",
       "    \n",
       "    \n",
       "            &lt;div class=&quot;folium-map&quot; id=&quot;map_fadf54b832ecc3dd47987565858d2123&quot; &gt;&lt;/div&gt;\n",
       "        \n",
       "&lt;/body&gt;\n",
       "&lt;script&gt;\n",
       "    \n",
       "    \n",
       "            var map_fadf54b832ecc3dd47987565858d2123 = L.map(\n",
       "                &quot;map_fadf54b832ecc3dd47987565858d2123&quot;,\n",
       "                {\n",
       "                    center: [46.05481254835883, -98.18090130149464],\n",
       "                    crs: L.CRS.EPSG3857,\n",
       "                    zoom: 12,\n",
       "                    zoomControl: true,\n",
       "                    preferCanvas: false,\n",
       "                    center: [46.05481254835883, -98.18090130149464],\n",
       "                }\n",
       "            );\n",
       "\n",
       "            \n",
       "\n",
       "        \n",
       "    \n",
       "            var tile_layer_b8962989d758deacfad1be34b99daa77 = L.tileLayer(\n",
       "                &quot;https://{s}.tile.openstreetmap.org/{z}/{x}/{y}.png&quot;,\n",
       "                {&quot;attribution&quot;: &quot;Data by \\u0026copy; \\u003ca target=\\&quot;_blank\\&quot; href=\\&quot;http://openstreetmap.org\\&quot;\\u003eOpenStreetMap\\u003c/a\\u003e, under \\u003ca target=\\&quot;_blank\\&quot; href=\\&quot;http://www.openstreetmap.org/copyright\\&quot;\\u003eODbL\\u003c/a\\u003e.&quot;, &quot;detectRetina&quot;: false, &quot;maxNativeZoom&quot;: 18, &quot;maxZoom&quot;: 18, &quot;minZoom&quot;: 0, &quot;noWrap&quot;: false, &quot;opacity&quot;: 1, &quot;subdomains&quot;: &quot;abc&quot;, &quot;tms&quot;: false}\n",
       "            );\n",
       "        \n",
       "    \n",
       "                tile_layer_b8962989d758deacfad1be34b99daa77.addTo(map_fadf54b832ecc3dd47987565858d2123);\n",
       "    \n",
       "            map_fadf54b832ecc3dd47987565858d2123.fitBounds(\n",
       "                [[46.05481254835883, -98.18090130149464], [47.425907088997924, -96.20112216963096]],\n",
       "                {}\n",
       "            );\n",
       "        \n",
       "    \n",
       "        function geo_json_e786eb850607078190d3901a86bb1a83_styler(feature) {\n",
       "            switch(feature.id) {\n",
       "                default:\n",
       "                    return {&quot;color&quot;: &quot;red&quot;};\n",
       "            }\n",
       "        }\n",
       "\n",
       "        function geo_json_e786eb850607078190d3901a86bb1a83_onEachFeature(feature, layer) {\n",
       "            layer.on({\n",
       "            });\n",
       "        };\n",
       "        var geo_json_e786eb850607078190d3901a86bb1a83 = L.geoJson(null, {\n",
       "                onEachFeature: geo_json_e786eb850607078190d3901a86bb1a83_onEachFeature,\n",
       "            \n",
       "                style: geo_json_e786eb850607078190d3901a86bb1a83_styler,\n",
       "        });\n",
       "\n",
       "        function geo_json_e786eb850607078190d3901a86bb1a83_add (data) {\n",
       "            geo_json_e786eb850607078190d3901a86bb1a83\n",
       "                .addData(data);\n",
       "        }\n",
       "            geo_json_e786eb850607078190d3901a86bb1a83_add({&quot;features&quot;: [{&quot;geometry&quot;: {&quot;coordinates&quot;: [[[-98.18090130149464, 47.408864991810596], [-96.20530399393319, 47.425907088997924], [-96.20112216963096, 46.071437147713844], [-98.13649364641323, 46.05481254835883], [-98.18090130149464, 47.408864991810596]]], &quot;type&quot;: &quot;Polygon&quot;}, &quot;id&quot;: &quot;298&quot;, &quot;properties&quot;: {&quot;FID_1&quot;: 298, &quot;h&quot;: 16, &quot;v&quot;: 4}, &quot;type&quot;: &quot;Feature&quot;}], &quot;type&quot;: &quot;FeatureCollection&quot;});\n",
       "\n",
       "        \n",
       "    \n",
       "                geo_json_e786eb850607078190d3901a86bb1a83.addTo(map_fadf54b832ecc3dd47987565858d2123);\n",
       "    \n",
       "        function geo_json_b13d63527ef6cc339a3a2a8f8c238155_styler(feature) {\n",
       "            switch(feature.id) {\n",
       "                default:\n",
       "                    return {&quot;color&quot;: &quot;yellow&quot;};\n",
       "            }\n",
       "        }\n",
       "\n",
       "        function geo_json_b13d63527ef6cc339a3a2a8f8c238155_onEachFeature(feature, layer) {\n",
       "            layer.on({\n",
       "            });\n",
       "        };\n",
       "        var geo_json_b13d63527ef6cc339a3a2a8f8c238155 = L.geoJson(null, {\n",
       "                onEachFeature: geo_json_b13d63527ef6cc339a3a2a8f8c238155_onEachFeature,\n",
       "            \n",
       "                style: geo_json_b13d63527ef6cc339a3a2a8f8c238155_styler,\n",
       "        });\n",
       "\n",
       "        function geo_json_b13d63527ef6cc339a3a2a8f8c238155_add (data) {\n",
       "            geo_json_b13d63527ef6cc339a3a2a8f8c238155\n",
       "                .addData(data);\n",
       "        }\n",
       "            geo_json_b13d63527ef6cc339a3a2a8f8c238155_add({&quot;features&quot;: [{&quot;geometry&quot;: {&quot;coordinates&quot;: [[[-97.94299685811163, 46.05771362942384], [-97.94696125290601, 46.19286745655367], [-98.14085258768681, 46.189959341859044], [-98.13649364641323, 46.05481254835883], [-97.94299685811163, 46.05771362942384]]], &quot;type&quot;: &quot;Polygon&quot;}, &quot;id&quot;: &quot;0&quot;, &quot;properties&quot;: {&quot;sX&quot;: 0, &quot;sY&quot;: 0}, &quot;type&quot;: &quot;Feature&quot;}], &quot;type&quot;: &quot;FeatureCollection&quot;});\n",
       "\n",
       "        \n",
       "    \n",
       "                geo_json_b13d63527ef6cc339a3a2a8f8c238155.addTo(map_fadf54b832ecc3dd47987565858d2123);\n",
       "&lt;/script&gt;\n",
       "&lt;/html&gt;\" style=\"position:absolute;width:100%;height:100%;left:0;top:0;border:none !important;\" allowfullscreen webkitallowfullscreen mozallowfullscreen></iframe></div></div>"
      ],
      "text/plain": [
       "<folium.folium.Map at 0x7f76640ebed0>"
      ]
     },
     "execution_count": 40,
     "metadata": {},
     "output_type": "execute_result"
    }
   ],
   "source": [
    "m"
   ]
  },
  {
   "cell_type": "code",
   "execution_count": 41,
   "id": "2a2239b6-bf3a-4e7f-a18d-4f474bde3bed",
   "metadata": {},
   "outputs": [],
   "source": [
    "def make_superChip_df(sY, sX, tile_miny, tile_minx, chunksz_pixels, crs):\n",
    "    chunk_sz_meters = chunksz_pixels * 30\n",
    "    yoff = sY * chunk_sz_meters\n",
    "    xoff = sX * chunk_sz_meters\n",
    "\n",
    "    print(yoff, xoff)\n",
    "    \n",
    "    new_minx = int(tile_minx+xoff)\n",
    "    new_miny = int(tile_miny+yoff)\n",
    "\n",
    "    new_maxx = int(new_minx + chunk_sz_meters)\n",
    "    new_maxy = int(new_miny + chunk_sz_meters)\n",
    "\n",
    "    my_geometry = box(new_minx, new_miny, new_maxx, new_maxy)\n",
    "\n",
    "    my_df_list=[]\n",
    "    rec = {\n",
    "        'sY': sY,\n",
    "        'sX': sX,\n",
    "        'geometry': my_geometry\n",
    "    }\n",
    "    my_df_list.append(rec)\n",
    "    \n",
    "    gdf1 = geopandas.GeoDataFrame(my_df_list)\n",
    "    gdf = gdf1.set_crs(crs)\n",
    "    return gdf"
   ]
  },
  {
   "cell_type": "code",
   "execution_count": 42,
   "id": "058dfcb1-e417-44e5-9fbd-938e09e4c5ec",
   "metadata": {},
   "outputs": [
    {
     "name": "stdout",
     "output_type": "stream",
     "text": [
      "15000 15000\n"
     ]
    }
   ],
   "source": [
    "sY = 1\n",
    "sX = 1\n",
    "tile_miny = miny\n",
    "tile_minx = minx\n",
    "chunksz_pixels = CSZ\n",
    "crs = gdfin.crs\n",
    "my_1_1 = make_superChip_df(sY, sX, tile_miny, tile_minx, chunksz_pixels, crs)"
   ]
  },
  {
   "cell_type": "code",
   "execution_count": 43,
   "id": "614d8e1b-348f-40e0-b05f-567ff74444a0",
   "metadata": {},
   "outputs": [
    {
     "data": {
      "text/plain": [
       "<Projected CRS: PROJCS[\"Albers_Conic_Equal_Area\",GEOGCS[\"WGS 84\",D ...>\n",
       "Name: Albers_Conic_Equal_Area\n",
       "Axis Info [cartesian]:\n",
       "- [east]: Easting (metre)\n",
       "- [north]: Northing (metre)\n",
       "Area of Use:\n",
       "- undefined\n",
       "Coordinate Operation:\n",
       "- name: unnamed\n",
       "- method: Albers Equal Area\n",
       "Datum: World Geodetic System 1984\n",
       "- Ellipsoid: WGS 84\n",
       "- Prime Meridian: Greenwich"
      ]
     },
     "execution_count": 43,
     "metadata": {},
     "output_type": "execute_result"
    }
   ],
   "source": [
    "my_1_1.crs"
   ]
  },
  {
   "cell_type": "code",
   "execution_count": 44,
   "id": "d9c5d936-09fb-4d79-adda-5dc2e5e27a50",
   "metadata": {},
   "outputs": [
    {
     "name": "stdout",
     "output_type": "stream",
     "text": [
      "   sY  sX                                           geometry\n",
      "0   1   1  POLYGON ((-135584.000 2579804.000, -135584.000...\n"
     ]
    }
   ],
   "source": [
    "add_df_map(m, my_1_1)"
   ]
  },
  {
   "cell_type": "code",
   "execution_count": 45,
   "id": "19bf4ee4-1e0c-4f3e-9cd9-d3263a7db9cf",
   "metadata": {},
   "outputs": [
    {
     "data": {
      "text/html": [
       "<div style=\"width:100%;\"><div style=\"position:relative;width:100%;height:0;padding-bottom:60%;\"><span style=\"color:#565656\">Make this Notebook Trusted to load map: File -> Trust Notebook</span><iframe srcdoc=\"&lt;!DOCTYPE html&gt;\n",
       "&lt;html&gt;\n",
       "&lt;head&gt;\n",
       "    \n",
       "    &lt;meta http-equiv=&quot;content-type&quot; content=&quot;text/html; charset=UTF-8&quot; /&gt;\n",
       "    \n",
       "        &lt;script&gt;\n",
       "            L_NO_TOUCH = false;\n",
       "            L_DISABLE_3D = false;\n",
       "        &lt;/script&gt;\n",
       "    \n",
       "    &lt;style&gt;html, body {width: 100%;height: 100%;margin: 0;padding: 0;}&lt;/style&gt;\n",
       "    &lt;style&gt;#map {position:absolute;top:0;bottom:0;right:0;left:0;}&lt;/style&gt;\n",
       "    &lt;script src=&quot;https://cdn.jsdelivr.net/npm/leaflet@1.9.3/dist/leaflet.js&quot;&gt;&lt;/script&gt;\n",
       "    &lt;script src=&quot;https://code.jquery.com/jquery-3.7.1.min.js&quot;&gt;&lt;/script&gt;\n",
       "    &lt;script src=&quot;https://cdn.jsdelivr.net/npm/bootstrap@5.2.2/dist/js/bootstrap.bundle.min.js&quot;&gt;&lt;/script&gt;\n",
       "    &lt;script src=&quot;https://cdnjs.cloudflare.com/ajax/libs/Leaflet.awesome-markers/2.0.2/leaflet.awesome-markers.js&quot;&gt;&lt;/script&gt;\n",
       "    &lt;link rel=&quot;stylesheet&quot; href=&quot;https://cdn.jsdelivr.net/npm/leaflet@1.9.3/dist/leaflet.css&quot;/&gt;\n",
       "    &lt;link rel=&quot;stylesheet&quot; href=&quot;https://cdn.jsdelivr.net/npm/bootstrap@5.2.2/dist/css/bootstrap.min.css&quot;/&gt;\n",
       "    &lt;link rel=&quot;stylesheet&quot; href=&quot;https://netdna.bootstrapcdn.com/bootstrap/3.0.0/css/bootstrap.min.css&quot;/&gt;\n",
       "    &lt;link rel=&quot;stylesheet&quot; href=&quot;https://cdn.jsdelivr.net/npm/@fortawesome/fontawesome-free@6.2.0/css/all.min.css&quot;/&gt;\n",
       "    &lt;link rel=&quot;stylesheet&quot; href=&quot;https://cdnjs.cloudflare.com/ajax/libs/Leaflet.awesome-markers/2.0.2/leaflet.awesome-markers.css&quot;/&gt;\n",
       "    &lt;link rel=&quot;stylesheet&quot; href=&quot;https://cdn.jsdelivr.net/gh/python-visualization/folium/folium/templates/leaflet.awesome.rotate.min.css&quot;/&gt;\n",
       "    \n",
       "            &lt;meta name=&quot;viewport&quot; content=&quot;width=device-width,\n",
       "                initial-scale=1.0, maximum-scale=1.0, user-scalable=no&quot; /&gt;\n",
       "            &lt;style&gt;\n",
       "                #map_fadf54b832ecc3dd47987565858d2123 {\n",
       "                    position: relative;\n",
       "                    width: 100.0%;\n",
       "                    height: 100.0%;\n",
       "                    left: 0.0%;\n",
       "                    top: 0.0%;\n",
       "                }\n",
       "                .leaflet-container { font-size: 1rem; }\n",
       "            &lt;/style&gt;\n",
       "        \n",
       "&lt;/head&gt;\n",
       "&lt;body&gt;\n",
       "    \n",
       "    \n",
       "            &lt;div class=&quot;folium-map&quot; id=&quot;map_fadf54b832ecc3dd47987565858d2123&quot; &gt;&lt;/div&gt;\n",
       "        \n",
       "&lt;/body&gt;\n",
       "&lt;script&gt;\n",
       "    \n",
       "    \n",
       "            var map_fadf54b832ecc3dd47987565858d2123 = L.map(\n",
       "                &quot;map_fadf54b832ecc3dd47987565858d2123&quot;,\n",
       "                {\n",
       "                    center: [46.05481254835883, -98.18090130149464],\n",
       "                    crs: L.CRS.EPSG3857,\n",
       "                    zoom: 12,\n",
       "                    zoomControl: true,\n",
       "                    preferCanvas: false,\n",
       "                    center: [46.05481254835883, -98.18090130149464],\n",
       "                }\n",
       "            );\n",
       "\n",
       "            \n",
       "\n",
       "        \n",
       "    \n",
       "            var tile_layer_b8962989d758deacfad1be34b99daa77 = L.tileLayer(\n",
       "                &quot;https://{s}.tile.openstreetmap.org/{z}/{x}/{y}.png&quot;,\n",
       "                {&quot;attribution&quot;: &quot;Data by \\u0026copy; \\u003ca target=\\&quot;_blank\\&quot; href=\\&quot;http://openstreetmap.org\\&quot;\\u003eOpenStreetMap\\u003c/a\\u003e, under \\u003ca target=\\&quot;_blank\\&quot; href=\\&quot;http://www.openstreetmap.org/copyright\\&quot;\\u003eODbL\\u003c/a\\u003e.&quot;, &quot;detectRetina&quot;: false, &quot;maxNativeZoom&quot;: 18, &quot;maxZoom&quot;: 18, &quot;minZoom&quot;: 0, &quot;noWrap&quot;: false, &quot;opacity&quot;: 1, &quot;subdomains&quot;: &quot;abc&quot;, &quot;tms&quot;: false}\n",
       "            );\n",
       "        \n",
       "    \n",
       "                tile_layer_b8962989d758deacfad1be34b99daa77.addTo(map_fadf54b832ecc3dd47987565858d2123);\n",
       "    \n",
       "            map_fadf54b832ecc3dd47987565858d2123.fitBounds(\n",
       "                [[46.05481254835883, -98.18090130149464], [47.425907088997924, -96.20112216963096]],\n",
       "                {}\n",
       "            );\n",
       "        \n",
       "    \n",
       "        function geo_json_e786eb850607078190d3901a86bb1a83_styler(feature) {\n",
       "            switch(feature.id) {\n",
       "                default:\n",
       "                    return {&quot;color&quot;: &quot;red&quot;};\n",
       "            }\n",
       "        }\n",
       "\n",
       "        function geo_json_e786eb850607078190d3901a86bb1a83_onEachFeature(feature, layer) {\n",
       "            layer.on({\n",
       "            });\n",
       "        };\n",
       "        var geo_json_e786eb850607078190d3901a86bb1a83 = L.geoJson(null, {\n",
       "                onEachFeature: geo_json_e786eb850607078190d3901a86bb1a83_onEachFeature,\n",
       "            \n",
       "                style: geo_json_e786eb850607078190d3901a86bb1a83_styler,\n",
       "        });\n",
       "\n",
       "        function geo_json_e786eb850607078190d3901a86bb1a83_add (data) {\n",
       "            geo_json_e786eb850607078190d3901a86bb1a83\n",
       "                .addData(data);\n",
       "        }\n",
       "            geo_json_e786eb850607078190d3901a86bb1a83_add({&quot;features&quot;: [{&quot;geometry&quot;: {&quot;coordinates&quot;: [[[-98.18090130149464, 47.408864991810596], [-96.20530399393319, 47.425907088997924], [-96.20112216963096, 46.071437147713844], [-98.13649364641323, 46.05481254835883], [-98.18090130149464, 47.408864991810596]]], &quot;type&quot;: &quot;Polygon&quot;}, &quot;id&quot;: &quot;298&quot;, &quot;properties&quot;: {&quot;FID_1&quot;: 298, &quot;h&quot;: 16, &quot;v&quot;: 4}, &quot;type&quot;: &quot;Feature&quot;}], &quot;type&quot;: &quot;FeatureCollection&quot;});\n",
       "\n",
       "        \n",
       "    \n",
       "                geo_json_e786eb850607078190d3901a86bb1a83.addTo(map_fadf54b832ecc3dd47987565858d2123);\n",
       "    \n",
       "        function geo_json_b13d63527ef6cc339a3a2a8f8c238155_styler(feature) {\n",
       "            switch(feature.id) {\n",
       "                default:\n",
       "                    return {&quot;color&quot;: &quot;yellow&quot;};\n",
       "            }\n",
       "        }\n",
       "\n",
       "        function geo_json_b13d63527ef6cc339a3a2a8f8c238155_onEachFeature(feature, layer) {\n",
       "            layer.on({\n",
       "            });\n",
       "        };\n",
       "        var geo_json_b13d63527ef6cc339a3a2a8f8c238155 = L.geoJson(null, {\n",
       "                onEachFeature: geo_json_b13d63527ef6cc339a3a2a8f8c238155_onEachFeature,\n",
       "            \n",
       "                style: geo_json_b13d63527ef6cc339a3a2a8f8c238155_styler,\n",
       "        });\n",
       "\n",
       "        function geo_json_b13d63527ef6cc339a3a2a8f8c238155_add (data) {\n",
       "            geo_json_b13d63527ef6cc339a3a2a8f8c238155\n",
       "                .addData(data);\n",
       "        }\n",
       "            geo_json_b13d63527ef6cc339a3a2a8f8c238155_add({&quot;features&quot;: [{&quot;geometry&quot;: {&quot;coordinates&quot;: [[[-97.94299685811163, 46.05771362942384], [-97.94696125290601, 46.19286745655367], [-98.14085258768681, 46.189959341859044], [-98.13649364641323, 46.05481254835883], [-97.94299685811163, 46.05771362942384]]], &quot;type&quot;: &quot;Polygon&quot;}, &quot;id&quot;: &quot;0&quot;, &quot;properties&quot;: {&quot;sX&quot;: 0, &quot;sY&quot;: 0}, &quot;type&quot;: &quot;Feature&quot;}], &quot;type&quot;: &quot;FeatureCollection&quot;});\n",
       "\n",
       "        \n",
       "    \n",
       "                geo_json_b13d63527ef6cc339a3a2a8f8c238155.addTo(map_fadf54b832ecc3dd47987565858d2123);\n",
       "    \n",
       "        function geo_json_178769195019a5e0efedb591d18d04c9_styler(feature) {\n",
       "            switch(feature.id) {\n",
       "                default:\n",
       "                    return {&quot;color&quot;: &quot;yellow&quot;};\n",
       "            }\n",
       "        }\n",
       "\n",
       "        function geo_json_178769195019a5e0efedb591d18d04c9_onEachFeature(feature, layer) {\n",
       "            layer.on({\n",
       "            });\n",
       "        };\n",
       "        var geo_json_178769195019a5e0efedb591d18d04c9 = L.geoJson(null, {\n",
       "                onEachFeature: geo_json_178769195019a5e0efedb591d18d04c9_onEachFeature,\n",
       "            \n",
       "                style: geo_json_178769195019a5e0efedb591d18d04c9_styler,\n",
       "        });\n",
       "\n",
       "        function geo_json_178769195019a5e0efedb591d18d04c9_add (data) {\n",
       "            geo_json_178769195019a5e0efedb591d18d04c9\n",
       "                .addData(data);\n",
       "        }\n",
       "            geo_json_178769195019a5e0efedb591d18d04c9_add({&quot;features&quot;: [{&quot;geometry&quot;: {&quot;coordinates&quot;: [[[-97.75306663153506, 46.1954995782916], [-97.75665124284329, 46.33072116235987], [-97.95094212188133, 46.32808262455873], [-97.94696125290601, 46.19286745655367], [-97.75306663153506, 46.1954995782916]]], &quot;type&quot;: &quot;Polygon&quot;}, &quot;id&quot;: &quot;0&quot;, &quot;properties&quot;: {&quot;sX&quot;: 1, &quot;sY&quot;: 1}, &quot;type&quot;: &quot;Feature&quot;}], &quot;type&quot;: &quot;FeatureCollection&quot;});\n",
       "\n",
       "        \n",
       "    \n",
       "                geo_json_178769195019a5e0efedb591d18d04c9.addTo(map_fadf54b832ecc3dd47987565858d2123);\n",
       "&lt;/script&gt;\n",
       "&lt;/html&gt;\" style=\"position:absolute;width:100%;height:100%;left:0;top:0;border:none !important;\" allowfullscreen webkitallowfullscreen mozallowfullscreen></iframe></div></div>"
      ],
      "text/plain": [
       "<folium.folium.Map at 0x7f76640ebed0>"
      ]
     },
     "execution_count": 45,
     "metadata": {},
     "output_type": "execute_result"
    }
   ],
   "source": [
    "m"
   ]
  },
  {
   "cell_type": "code",
   "execution_count": 46,
   "id": "57f3026c-379b-4099-a3d0-86f581c83167",
   "metadata": {},
   "outputs": [
    {
     "name": "stdout",
     "output_type": "stream",
     "text": [
      "2564804.9997692876 -165584.99992983043\n",
      "15000 0\n"
     ]
    }
   ],
   "source": [
    "\n",
    "sY = 1\n",
    "sX = 0\n",
    "tile_miny = geo.bounds[1]\n",
    "tile_minx = geo.bounds[0]\n",
    "print(tile_miny, tile_minx)\n",
    "chunksz_pixels = CSZ\n",
    "crs = gdfin.crs\n",
    "my_1_0 = make_superChip_df(sY, sX, tile_miny, tile_minx, chunksz_pixels, crs)"
   ]
  },
  {
   "cell_type": "code",
   "execution_count": 47,
   "id": "6f008b68-b08d-4e6e-82e9-16173256adb3",
   "metadata": {},
   "outputs": [
    {
     "name": "stdout",
     "output_type": "stream",
     "text": [
      "   sY  sX                                           geometry\n",
      "0   1   0  POLYGON ((-150584.000 2579804.000, -150584.000...\n"
     ]
    }
   ],
   "source": [
    "add_df_map(m, my_1_0, 'blue')"
   ]
  },
  {
   "cell_type": "code",
   "execution_count": 48,
   "id": "e2bccc61-8264-48c4-8976-4c92f7bb44d3",
   "metadata": {},
   "outputs": [
    {
     "data": {
      "text/html": [
       "<div style=\"width:100%;\"><div style=\"position:relative;width:100%;height:0;padding-bottom:60%;\"><span style=\"color:#565656\">Make this Notebook Trusted to load map: File -> Trust Notebook</span><iframe srcdoc=\"&lt;!DOCTYPE html&gt;\n",
       "&lt;html&gt;\n",
       "&lt;head&gt;\n",
       "    \n",
       "    &lt;meta http-equiv=&quot;content-type&quot; content=&quot;text/html; charset=UTF-8&quot; /&gt;\n",
       "    \n",
       "        &lt;script&gt;\n",
       "            L_NO_TOUCH = false;\n",
       "            L_DISABLE_3D = false;\n",
       "        &lt;/script&gt;\n",
       "    \n",
       "    &lt;style&gt;html, body {width: 100%;height: 100%;margin: 0;padding: 0;}&lt;/style&gt;\n",
       "    &lt;style&gt;#map {position:absolute;top:0;bottom:0;right:0;left:0;}&lt;/style&gt;\n",
       "    &lt;script src=&quot;https://cdn.jsdelivr.net/npm/leaflet@1.9.3/dist/leaflet.js&quot;&gt;&lt;/script&gt;\n",
       "    &lt;script src=&quot;https://code.jquery.com/jquery-3.7.1.min.js&quot;&gt;&lt;/script&gt;\n",
       "    &lt;script src=&quot;https://cdn.jsdelivr.net/npm/bootstrap@5.2.2/dist/js/bootstrap.bundle.min.js&quot;&gt;&lt;/script&gt;\n",
       "    &lt;script src=&quot;https://cdnjs.cloudflare.com/ajax/libs/Leaflet.awesome-markers/2.0.2/leaflet.awesome-markers.js&quot;&gt;&lt;/script&gt;\n",
       "    &lt;link rel=&quot;stylesheet&quot; href=&quot;https://cdn.jsdelivr.net/npm/leaflet@1.9.3/dist/leaflet.css&quot;/&gt;\n",
       "    &lt;link rel=&quot;stylesheet&quot; href=&quot;https://cdn.jsdelivr.net/npm/bootstrap@5.2.2/dist/css/bootstrap.min.css&quot;/&gt;\n",
       "    &lt;link rel=&quot;stylesheet&quot; href=&quot;https://netdna.bootstrapcdn.com/bootstrap/3.0.0/css/bootstrap.min.css&quot;/&gt;\n",
       "    &lt;link rel=&quot;stylesheet&quot; href=&quot;https://cdn.jsdelivr.net/npm/@fortawesome/fontawesome-free@6.2.0/css/all.min.css&quot;/&gt;\n",
       "    &lt;link rel=&quot;stylesheet&quot; href=&quot;https://cdnjs.cloudflare.com/ajax/libs/Leaflet.awesome-markers/2.0.2/leaflet.awesome-markers.css&quot;/&gt;\n",
       "    &lt;link rel=&quot;stylesheet&quot; href=&quot;https://cdn.jsdelivr.net/gh/python-visualization/folium/folium/templates/leaflet.awesome.rotate.min.css&quot;/&gt;\n",
       "    \n",
       "            &lt;meta name=&quot;viewport&quot; content=&quot;width=device-width,\n",
       "                initial-scale=1.0, maximum-scale=1.0, user-scalable=no&quot; /&gt;\n",
       "            &lt;style&gt;\n",
       "                #map_fadf54b832ecc3dd47987565858d2123 {\n",
       "                    position: relative;\n",
       "                    width: 100.0%;\n",
       "                    height: 100.0%;\n",
       "                    left: 0.0%;\n",
       "                    top: 0.0%;\n",
       "                }\n",
       "                .leaflet-container { font-size: 1rem; }\n",
       "            &lt;/style&gt;\n",
       "        \n",
       "&lt;/head&gt;\n",
       "&lt;body&gt;\n",
       "    \n",
       "    \n",
       "            &lt;div class=&quot;folium-map&quot; id=&quot;map_fadf54b832ecc3dd47987565858d2123&quot; &gt;&lt;/div&gt;\n",
       "        \n",
       "&lt;/body&gt;\n",
       "&lt;script&gt;\n",
       "    \n",
       "    \n",
       "            var map_fadf54b832ecc3dd47987565858d2123 = L.map(\n",
       "                &quot;map_fadf54b832ecc3dd47987565858d2123&quot;,\n",
       "                {\n",
       "                    center: [46.05481254835883, -98.18090130149464],\n",
       "                    crs: L.CRS.EPSG3857,\n",
       "                    zoom: 12,\n",
       "                    zoomControl: true,\n",
       "                    preferCanvas: false,\n",
       "                    center: [46.05481254835883, -98.18090130149464],\n",
       "                }\n",
       "            );\n",
       "\n",
       "            \n",
       "\n",
       "        \n",
       "    \n",
       "            var tile_layer_b8962989d758deacfad1be34b99daa77 = L.tileLayer(\n",
       "                &quot;https://{s}.tile.openstreetmap.org/{z}/{x}/{y}.png&quot;,\n",
       "                {&quot;attribution&quot;: &quot;Data by \\u0026copy; \\u003ca target=\\&quot;_blank\\&quot; href=\\&quot;http://openstreetmap.org\\&quot;\\u003eOpenStreetMap\\u003c/a\\u003e, under \\u003ca target=\\&quot;_blank\\&quot; href=\\&quot;http://www.openstreetmap.org/copyright\\&quot;\\u003eODbL\\u003c/a\\u003e.&quot;, &quot;detectRetina&quot;: false, &quot;maxNativeZoom&quot;: 18, &quot;maxZoom&quot;: 18, &quot;minZoom&quot;: 0, &quot;noWrap&quot;: false, &quot;opacity&quot;: 1, &quot;subdomains&quot;: &quot;abc&quot;, &quot;tms&quot;: false}\n",
       "            );\n",
       "        \n",
       "    \n",
       "                tile_layer_b8962989d758deacfad1be34b99daa77.addTo(map_fadf54b832ecc3dd47987565858d2123);\n",
       "    \n",
       "            map_fadf54b832ecc3dd47987565858d2123.fitBounds(\n",
       "                [[46.05481254835883, -98.18090130149464], [47.425907088997924, -96.20112216963096]],\n",
       "                {}\n",
       "            );\n",
       "        \n",
       "    \n",
       "        function geo_json_e786eb850607078190d3901a86bb1a83_styler(feature) {\n",
       "            switch(feature.id) {\n",
       "                default:\n",
       "                    return {&quot;color&quot;: &quot;red&quot;};\n",
       "            }\n",
       "        }\n",
       "\n",
       "        function geo_json_e786eb850607078190d3901a86bb1a83_onEachFeature(feature, layer) {\n",
       "            layer.on({\n",
       "            });\n",
       "        };\n",
       "        var geo_json_e786eb850607078190d3901a86bb1a83 = L.geoJson(null, {\n",
       "                onEachFeature: geo_json_e786eb850607078190d3901a86bb1a83_onEachFeature,\n",
       "            \n",
       "                style: geo_json_e786eb850607078190d3901a86bb1a83_styler,\n",
       "        });\n",
       "\n",
       "        function geo_json_e786eb850607078190d3901a86bb1a83_add (data) {\n",
       "            geo_json_e786eb850607078190d3901a86bb1a83\n",
       "                .addData(data);\n",
       "        }\n",
       "            geo_json_e786eb850607078190d3901a86bb1a83_add({&quot;features&quot;: [{&quot;geometry&quot;: {&quot;coordinates&quot;: [[[-98.18090130149464, 47.408864991810596], [-96.20530399393319, 47.425907088997924], [-96.20112216963096, 46.071437147713844], [-98.13649364641323, 46.05481254835883], [-98.18090130149464, 47.408864991810596]]], &quot;type&quot;: &quot;Polygon&quot;}, &quot;id&quot;: &quot;298&quot;, &quot;properties&quot;: {&quot;FID_1&quot;: 298, &quot;h&quot;: 16, &quot;v&quot;: 4}, &quot;type&quot;: &quot;Feature&quot;}], &quot;type&quot;: &quot;FeatureCollection&quot;});\n",
       "\n",
       "        \n",
       "    \n",
       "                geo_json_e786eb850607078190d3901a86bb1a83.addTo(map_fadf54b832ecc3dd47987565858d2123);\n",
       "    \n",
       "        function geo_json_b13d63527ef6cc339a3a2a8f8c238155_styler(feature) {\n",
       "            switch(feature.id) {\n",
       "                default:\n",
       "                    return {&quot;color&quot;: &quot;yellow&quot;};\n",
       "            }\n",
       "        }\n",
       "\n",
       "        function geo_json_b13d63527ef6cc339a3a2a8f8c238155_onEachFeature(feature, layer) {\n",
       "            layer.on({\n",
       "            });\n",
       "        };\n",
       "        var geo_json_b13d63527ef6cc339a3a2a8f8c238155 = L.geoJson(null, {\n",
       "                onEachFeature: geo_json_b13d63527ef6cc339a3a2a8f8c238155_onEachFeature,\n",
       "            \n",
       "                style: geo_json_b13d63527ef6cc339a3a2a8f8c238155_styler,\n",
       "        });\n",
       "\n",
       "        function geo_json_b13d63527ef6cc339a3a2a8f8c238155_add (data) {\n",
       "            geo_json_b13d63527ef6cc339a3a2a8f8c238155\n",
       "                .addData(data);\n",
       "        }\n",
       "            geo_json_b13d63527ef6cc339a3a2a8f8c238155_add({&quot;features&quot;: [{&quot;geometry&quot;: {&quot;coordinates&quot;: [[[-97.94299685811163, 46.05771362942384], [-97.94696125290601, 46.19286745655367], [-98.14085258768681, 46.189959341859044], [-98.13649364641323, 46.05481254835883], [-97.94299685811163, 46.05771362942384]]], &quot;type&quot;: &quot;Polygon&quot;}, &quot;id&quot;: &quot;0&quot;, &quot;properties&quot;: {&quot;sX&quot;: 0, &quot;sY&quot;: 0}, &quot;type&quot;: &quot;Feature&quot;}], &quot;type&quot;: &quot;FeatureCollection&quot;});\n",
       "\n",
       "        \n",
       "    \n",
       "                geo_json_b13d63527ef6cc339a3a2a8f8c238155.addTo(map_fadf54b832ecc3dd47987565858d2123);\n",
       "    \n",
       "        function geo_json_178769195019a5e0efedb591d18d04c9_styler(feature) {\n",
       "            switch(feature.id) {\n",
       "                default:\n",
       "                    return {&quot;color&quot;: &quot;yellow&quot;};\n",
       "            }\n",
       "        }\n",
       "\n",
       "        function geo_json_178769195019a5e0efedb591d18d04c9_onEachFeature(feature, layer) {\n",
       "            layer.on({\n",
       "            });\n",
       "        };\n",
       "        var geo_json_178769195019a5e0efedb591d18d04c9 = L.geoJson(null, {\n",
       "                onEachFeature: geo_json_178769195019a5e0efedb591d18d04c9_onEachFeature,\n",
       "            \n",
       "                style: geo_json_178769195019a5e0efedb591d18d04c9_styler,\n",
       "        });\n",
       "\n",
       "        function geo_json_178769195019a5e0efedb591d18d04c9_add (data) {\n",
       "            geo_json_178769195019a5e0efedb591d18d04c9\n",
       "                .addData(data);\n",
       "        }\n",
       "            geo_json_178769195019a5e0efedb591d18d04c9_add({&quot;features&quot;: [{&quot;geometry&quot;: {&quot;coordinates&quot;: [[[-97.75306663153506, 46.1954995782916], [-97.75665124284329, 46.33072116235987], [-97.95094212188133, 46.32808262455873], [-97.94696125290601, 46.19286745655367], [-97.75306663153506, 46.1954995782916]]], &quot;type&quot;: &quot;Polygon&quot;}, &quot;id&quot;: &quot;0&quot;, &quot;properties&quot;: {&quot;sX&quot;: 1, &quot;sY&quot;: 1}, &quot;type&quot;: &quot;Feature&quot;}], &quot;type&quot;: &quot;FeatureCollection&quot;});\n",
       "\n",
       "        \n",
       "    \n",
       "                geo_json_178769195019a5e0efedb591d18d04c9.addTo(map_fadf54b832ecc3dd47987565858d2123);\n",
       "    \n",
       "        function geo_json_a73440c1c8697c7760ac47f1e2580eca_styler(feature) {\n",
       "            switch(feature.id) {\n",
       "                default:\n",
       "                    return {&quot;color&quot;: &quot;blue&quot;};\n",
       "            }\n",
       "        }\n",
       "\n",
       "        function geo_json_a73440c1c8697c7760ac47f1e2580eca_onEachFeature(feature, layer) {\n",
       "            layer.on({\n",
       "            });\n",
       "        };\n",
       "        var geo_json_a73440c1c8697c7760ac47f1e2580eca = L.geoJson(null, {\n",
       "                onEachFeature: geo_json_a73440c1c8697c7760ac47f1e2580eca_onEachFeature,\n",
       "            \n",
       "                style: geo_json_a73440c1c8697c7760ac47f1e2580eca_styler,\n",
       "        });\n",
       "\n",
       "        function geo_json_a73440c1c8697c7760ac47f1e2580eca_add (data) {\n",
       "            geo_json_a73440c1c8697c7760ac47f1e2580eca\n",
       "                .addData(data);\n",
       "        }\n",
       "            geo_json_a73440c1c8697c7760ac47f1e2580eca_add({&quot;features&quot;: [{&quot;geometry&quot;: {&quot;coordinates&quot;: [[[-97.94696125290601, 46.19286745655367], [-97.95094212188133, 46.32808262455873], [-98.14521669097603, 46.32516762562551], [-98.14083966394253, 46.18995954489821], [-97.94696125290601, 46.19286745655367]]], &quot;type&quot;: &quot;Polygon&quot;}, &quot;id&quot;: &quot;0&quot;, &quot;properties&quot;: {&quot;sX&quot;: 0, &quot;sY&quot;: 1}, &quot;type&quot;: &quot;Feature&quot;}], &quot;type&quot;: &quot;FeatureCollection&quot;});\n",
       "\n",
       "        \n",
       "    \n",
       "                geo_json_a73440c1c8697c7760ac47f1e2580eca.addTo(map_fadf54b832ecc3dd47987565858d2123);\n",
       "&lt;/script&gt;\n",
       "&lt;/html&gt;\" style=\"position:absolute;width:100%;height:100%;left:0;top:0;border:none !important;\" allowfullscreen webkitallowfullscreen mozallowfullscreen></iframe></div></div>"
      ],
      "text/plain": [
       "<folium.folium.Map at 0x7f76640ebed0>"
      ]
     },
     "execution_count": 48,
     "metadata": {},
     "output_type": "execute_result"
    }
   ],
   "source": [
    "m"
   ]
  },
  {
   "cell_type": "code",
   "execution_count": 49,
   "id": "8b269b19-f63b-4b83-8ade-61a45eeda63f",
   "metadata": {},
   "outputs": [
    {
     "name": "stdout",
     "output_type": "stream",
     "text": [
      "2564804.9997692876 -165584.99992983043\n",
      "0 15000\n"
     ]
    }
   ],
   "source": [
    "sY = 0\n",
    "sX = 1\n",
    "tile_miny = geo.bounds[1]\n",
    "tile_minx = geo.bounds[0]\n",
    "print(tile_miny, tile_minx)\n",
    "chunksz_pixels = CSZ\n",
    "crs = gdfin.crs\n",
    "my_0_1 = make_superChip_df(sY, sX, tile_miny, tile_minx, chunksz_pixels, crs)"
   ]
  },
  {
   "cell_type": "code",
   "execution_count": 50,
   "id": "305dbe12-c2fd-4082-9855-e4a9e50b0e01",
   "metadata": {},
   "outputs": [
    {
     "name": "stdout",
     "output_type": "stream",
     "text": [
      "   sY  sX                                           geometry\n",
      "0   0   1  POLYGON ((-135584.000 2564804.000, -135584.000...\n"
     ]
    }
   ],
   "source": [
    "add_df_map(m, my_0_1,'green')"
   ]
  },
  {
   "cell_type": "code",
   "execution_count": 51,
   "id": "88d2fbdf-a563-415f-9bc7-6e424ea98dac",
   "metadata": {},
   "outputs": [
    {
     "data": {
      "text/html": [
       "<div style=\"width:100%;\"><div style=\"position:relative;width:100%;height:0;padding-bottom:60%;\"><span style=\"color:#565656\">Make this Notebook Trusted to load map: File -> Trust Notebook</span><iframe srcdoc=\"&lt;!DOCTYPE html&gt;\n",
       "&lt;html&gt;\n",
       "&lt;head&gt;\n",
       "    \n",
       "    &lt;meta http-equiv=&quot;content-type&quot; content=&quot;text/html; charset=UTF-8&quot; /&gt;\n",
       "    \n",
       "        &lt;script&gt;\n",
       "            L_NO_TOUCH = false;\n",
       "            L_DISABLE_3D = false;\n",
       "        &lt;/script&gt;\n",
       "    \n",
       "    &lt;style&gt;html, body {width: 100%;height: 100%;margin: 0;padding: 0;}&lt;/style&gt;\n",
       "    &lt;style&gt;#map {position:absolute;top:0;bottom:0;right:0;left:0;}&lt;/style&gt;\n",
       "    &lt;script src=&quot;https://cdn.jsdelivr.net/npm/leaflet@1.9.3/dist/leaflet.js&quot;&gt;&lt;/script&gt;\n",
       "    &lt;script src=&quot;https://code.jquery.com/jquery-3.7.1.min.js&quot;&gt;&lt;/script&gt;\n",
       "    &lt;script src=&quot;https://cdn.jsdelivr.net/npm/bootstrap@5.2.2/dist/js/bootstrap.bundle.min.js&quot;&gt;&lt;/script&gt;\n",
       "    &lt;script src=&quot;https://cdnjs.cloudflare.com/ajax/libs/Leaflet.awesome-markers/2.0.2/leaflet.awesome-markers.js&quot;&gt;&lt;/script&gt;\n",
       "    &lt;link rel=&quot;stylesheet&quot; href=&quot;https://cdn.jsdelivr.net/npm/leaflet@1.9.3/dist/leaflet.css&quot;/&gt;\n",
       "    &lt;link rel=&quot;stylesheet&quot; href=&quot;https://cdn.jsdelivr.net/npm/bootstrap@5.2.2/dist/css/bootstrap.min.css&quot;/&gt;\n",
       "    &lt;link rel=&quot;stylesheet&quot; href=&quot;https://netdna.bootstrapcdn.com/bootstrap/3.0.0/css/bootstrap.min.css&quot;/&gt;\n",
       "    &lt;link rel=&quot;stylesheet&quot; href=&quot;https://cdn.jsdelivr.net/npm/@fortawesome/fontawesome-free@6.2.0/css/all.min.css&quot;/&gt;\n",
       "    &lt;link rel=&quot;stylesheet&quot; href=&quot;https://cdnjs.cloudflare.com/ajax/libs/Leaflet.awesome-markers/2.0.2/leaflet.awesome-markers.css&quot;/&gt;\n",
       "    &lt;link rel=&quot;stylesheet&quot; href=&quot;https://cdn.jsdelivr.net/gh/python-visualization/folium/folium/templates/leaflet.awesome.rotate.min.css&quot;/&gt;\n",
       "    \n",
       "            &lt;meta name=&quot;viewport&quot; content=&quot;width=device-width,\n",
       "                initial-scale=1.0, maximum-scale=1.0, user-scalable=no&quot; /&gt;\n",
       "            &lt;style&gt;\n",
       "                #map_fadf54b832ecc3dd47987565858d2123 {\n",
       "                    position: relative;\n",
       "                    width: 100.0%;\n",
       "                    height: 100.0%;\n",
       "                    left: 0.0%;\n",
       "                    top: 0.0%;\n",
       "                }\n",
       "                .leaflet-container { font-size: 1rem; }\n",
       "            &lt;/style&gt;\n",
       "        \n",
       "&lt;/head&gt;\n",
       "&lt;body&gt;\n",
       "    \n",
       "    \n",
       "            &lt;div class=&quot;folium-map&quot; id=&quot;map_fadf54b832ecc3dd47987565858d2123&quot; &gt;&lt;/div&gt;\n",
       "        \n",
       "&lt;/body&gt;\n",
       "&lt;script&gt;\n",
       "    \n",
       "    \n",
       "            var map_fadf54b832ecc3dd47987565858d2123 = L.map(\n",
       "                &quot;map_fadf54b832ecc3dd47987565858d2123&quot;,\n",
       "                {\n",
       "                    center: [46.05481254835883, -98.18090130149464],\n",
       "                    crs: L.CRS.EPSG3857,\n",
       "                    zoom: 12,\n",
       "                    zoomControl: true,\n",
       "                    preferCanvas: false,\n",
       "                    center: [46.05481254835883, -98.18090130149464],\n",
       "                }\n",
       "            );\n",
       "\n",
       "            \n",
       "\n",
       "        \n",
       "    \n",
       "            var tile_layer_b8962989d758deacfad1be34b99daa77 = L.tileLayer(\n",
       "                &quot;https://{s}.tile.openstreetmap.org/{z}/{x}/{y}.png&quot;,\n",
       "                {&quot;attribution&quot;: &quot;Data by \\u0026copy; \\u003ca target=\\&quot;_blank\\&quot; href=\\&quot;http://openstreetmap.org\\&quot;\\u003eOpenStreetMap\\u003c/a\\u003e, under \\u003ca target=\\&quot;_blank\\&quot; href=\\&quot;http://www.openstreetmap.org/copyright\\&quot;\\u003eODbL\\u003c/a\\u003e.&quot;, &quot;detectRetina&quot;: false, &quot;maxNativeZoom&quot;: 18, &quot;maxZoom&quot;: 18, &quot;minZoom&quot;: 0, &quot;noWrap&quot;: false, &quot;opacity&quot;: 1, &quot;subdomains&quot;: &quot;abc&quot;, &quot;tms&quot;: false}\n",
       "            );\n",
       "        \n",
       "    \n",
       "                tile_layer_b8962989d758deacfad1be34b99daa77.addTo(map_fadf54b832ecc3dd47987565858d2123);\n",
       "    \n",
       "            map_fadf54b832ecc3dd47987565858d2123.fitBounds(\n",
       "                [[46.05481254835883, -98.18090130149464], [47.425907088997924, -96.20112216963096]],\n",
       "                {}\n",
       "            );\n",
       "        \n",
       "    \n",
       "        function geo_json_e786eb850607078190d3901a86bb1a83_styler(feature) {\n",
       "            switch(feature.id) {\n",
       "                default:\n",
       "                    return {&quot;color&quot;: &quot;red&quot;};\n",
       "            }\n",
       "        }\n",
       "\n",
       "        function geo_json_e786eb850607078190d3901a86bb1a83_onEachFeature(feature, layer) {\n",
       "            layer.on({\n",
       "            });\n",
       "        };\n",
       "        var geo_json_e786eb850607078190d3901a86bb1a83 = L.geoJson(null, {\n",
       "                onEachFeature: geo_json_e786eb850607078190d3901a86bb1a83_onEachFeature,\n",
       "            \n",
       "                style: geo_json_e786eb850607078190d3901a86bb1a83_styler,\n",
       "        });\n",
       "\n",
       "        function geo_json_e786eb850607078190d3901a86bb1a83_add (data) {\n",
       "            geo_json_e786eb850607078190d3901a86bb1a83\n",
       "                .addData(data);\n",
       "        }\n",
       "            geo_json_e786eb850607078190d3901a86bb1a83_add({&quot;features&quot;: [{&quot;geometry&quot;: {&quot;coordinates&quot;: [[[-98.18090130149464, 47.408864991810596], [-96.20530399393319, 47.425907088997924], [-96.20112216963096, 46.071437147713844], [-98.13649364641323, 46.05481254835883], [-98.18090130149464, 47.408864991810596]]], &quot;type&quot;: &quot;Polygon&quot;}, &quot;id&quot;: &quot;298&quot;, &quot;properties&quot;: {&quot;FID_1&quot;: 298, &quot;h&quot;: 16, &quot;v&quot;: 4}, &quot;type&quot;: &quot;Feature&quot;}], &quot;type&quot;: &quot;FeatureCollection&quot;});\n",
       "\n",
       "        \n",
       "    \n",
       "                geo_json_e786eb850607078190d3901a86bb1a83.addTo(map_fadf54b832ecc3dd47987565858d2123);\n",
       "    \n",
       "        function geo_json_b13d63527ef6cc339a3a2a8f8c238155_styler(feature) {\n",
       "            switch(feature.id) {\n",
       "                default:\n",
       "                    return {&quot;color&quot;: &quot;yellow&quot;};\n",
       "            }\n",
       "        }\n",
       "\n",
       "        function geo_json_b13d63527ef6cc339a3a2a8f8c238155_onEachFeature(feature, layer) {\n",
       "            layer.on({\n",
       "            });\n",
       "        };\n",
       "        var geo_json_b13d63527ef6cc339a3a2a8f8c238155 = L.geoJson(null, {\n",
       "                onEachFeature: geo_json_b13d63527ef6cc339a3a2a8f8c238155_onEachFeature,\n",
       "            \n",
       "                style: geo_json_b13d63527ef6cc339a3a2a8f8c238155_styler,\n",
       "        });\n",
       "\n",
       "        function geo_json_b13d63527ef6cc339a3a2a8f8c238155_add (data) {\n",
       "            geo_json_b13d63527ef6cc339a3a2a8f8c238155\n",
       "                .addData(data);\n",
       "        }\n",
       "            geo_json_b13d63527ef6cc339a3a2a8f8c238155_add({&quot;features&quot;: [{&quot;geometry&quot;: {&quot;coordinates&quot;: [[[-97.94299685811163, 46.05771362942384], [-97.94696125290601, 46.19286745655367], [-98.14085258768681, 46.189959341859044], [-98.13649364641323, 46.05481254835883], [-97.94299685811163, 46.05771362942384]]], &quot;type&quot;: &quot;Polygon&quot;}, &quot;id&quot;: &quot;0&quot;, &quot;properties&quot;: {&quot;sX&quot;: 0, &quot;sY&quot;: 0}, &quot;type&quot;: &quot;Feature&quot;}], &quot;type&quot;: &quot;FeatureCollection&quot;});\n",
       "\n",
       "        \n",
       "    \n",
       "                geo_json_b13d63527ef6cc339a3a2a8f8c238155.addTo(map_fadf54b832ecc3dd47987565858d2123);\n",
       "    \n",
       "        function geo_json_178769195019a5e0efedb591d18d04c9_styler(feature) {\n",
       "            switch(feature.id) {\n",
       "                default:\n",
       "                    return {&quot;color&quot;: &quot;yellow&quot;};\n",
       "            }\n",
       "        }\n",
       "\n",
       "        function geo_json_178769195019a5e0efedb591d18d04c9_onEachFeature(feature, layer) {\n",
       "            layer.on({\n",
       "            });\n",
       "        };\n",
       "        var geo_json_178769195019a5e0efedb591d18d04c9 = L.geoJson(null, {\n",
       "                onEachFeature: geo_json_178769195019a5e0efedb591d18d04c9_onEachFeature,\n",
       "            \n",
       "                style: geo_json_178769195019a5e0efedb591d18d04c9_styler,\n",
       "        });\n",
       "\n",
       "        function geo_json_178769195019a5e0efedb591d18d04c9_add (data) {\n",
       "            geo_json_178769195019a5e0efedb591d18d04c9\n",
       "                .addData(data);\n",
       "        }\n",
       "            geo_json_178769195019a5e0efedb591d18d04c9_add({&quot;features&quot;: [{&quot;geometry&quot;: {&quot;coordinates&quot;: [[[-97.75306663153506, 46.1954995782916], [-97.75665124284329, 46.33072116235987], [-97.95094212188133, 46.32808262455873], [-97.94696125290601, 46.19286745655367], [-97.75306663153506, 46.1954995782916]]], &quot;type&quot;: &quot;Polygon&quot;}, &quot;id&quot;: &quot;0&quot;, &quot;properties&quot;: {&quot;sX&quot;: 1, &quot;sY&quot;: 1}, &quot;type&quot;: &quot;Feature&quot;}], &quot;type&quot;: &quot;FeatureCollection&quot;});\n",
       "\n",
       "        \n",
       "    \n",
       "                geo_json_178769195019a5e0efedb591d18d04c9.addTo(map_fadf54b832ecc3dd47987565858d2123);\n",
       "    \n",
       "        function geo_json_a73440c1c8697c7760ac47f1e2580eca_styler(feature) {\n",
       "            switch(feature.id) {\n",
       "                default:\n",
       "                    return {&quot;color&quot;: &quot;blue&quot;};\n",
       "            }\n",
       "        }\n",
       "\n",
       "        function geo_json_a73440c1c8697c7760ac47f1e2580eca_onEachFeature(feature, layer) {\n",
       "            layer.on({\n",
       "            });\n",
       "        };\n",
       "        var geo_json_a73440c1c8697c7760ac47f1e2580eca = L.geoJson(null, {\n",
       "                onEachFeature: geo_json_a73440c1c8697c7760ac47f1e2580eca_onEachFeature,\n",
       "            \n",
       "                style: geo_json_a73440c1c8697c7760ac47f1e2580eca_styler,\n",
       "        });\n",
       "\n",
       "        function geo_json_a73440c1c8697c7760ac47f1e2580eca_add (data) {\n",
       "            geo_json_a73440c1c8697c7760ac47f1e2580eca\n",
       "                .addData(data);\n",
       "        }\n",
       "            geo_json_a73440c1c8697c7760ac47f1e2580eca_add({&quot;features&quot;: [{&quot;geometry&quot;: {&quot;coordinates&quot;: [[[-97.94696125290601, 46.19286745655367], [-97.95094212188133, 46.32808262455873], [-98.14521669097603, 46.32516762562551], [-98.14083966394253, 46.18995954489821], [-97.94696125290601, 46.19286745655367]]], &quot;type&quot;: &quot;Polygon&quot;}, &quot;id&quot;: &quot;0&quot;, &quot;properties&quot;: {&quot;sX&quot;: 0, &quot;sY&quot;: 1}, &quot;type&quot;: &quot;Feature&quot;}], &quot;type&quot;: &quot;FeatureCollection&quot;});\n",
       "\n",
       "        \n",
       "    \n",
       "                geo_json_a73440c1c8697c7760ac47f1e2580eca.addTo(map_fadf54b832ecc3dd47987565858d2123);\n",
       "    \n",
       "        function geo_json_a3d689d8948393b503cddb51133a1178_styler(feature) {\n",
       "            switch(feature.id) {\n",
       "                default:\n",
       "                    return {&quot;color&quot;: &quot;green&quot;};\n",
       "            }\n",
       "        }\n",
       "\n",
       "        function geo_json_a3d689d8948393b503cddb51133a1178_onEachFeature(feature, layer) {\n",
       "            layer.on({\n",
       "            });\n",
       "        };\n",
       "        var geo_json_a3d689d8948393b503cddb51133a1178 = L.geoJson(null, {\n",
       "                onEachFeature: geo_json_a3d689d8948393b503cddb51133a1178_onEachFeature,\n",
       "            \n",
       "                style: geo_json_a3d689d8948393b503cddb51133a1178_styler,\n",
       "        });\n",
       "\n",
       "        function geo_json_a3d689d8948393b503cddb51133a1178_add (data) {\n",
       "            geo_json_a3d689d8948393b503cddb51133a1178\n",
       "                .addData(data);\n",
       "        }\n",
       "            geo_json_a3d689d8948393b503cddb51133a1178_add({&quot;features&quot;: [{&quot;geometry&quot;: {&quot;coordinates&quot;: [[[-97.74949661825538, 46.060330376635356], [-97.75306663153506, 46.1954995782916], [-97.94696125290601, 46.19286745655367], [-97.94299659440003, 46.057704622365506], [-97.74949661825538, 46.060330376635356]]], &quot;type&quot;: &quot;Polygon&quot;}, &quot;id&quot;: &quot;0&quot;, &quot;properties&quot;: {&quot;sX&quot;: 1, &quot;sY&quot;: 0}, &quot;type&quot;: &quot;Feature&quot;}], &quot;type&quot;: &quot;FeatureCollection&quot;});\n",
       "\n",
       "        \n",
       "    \n",
       "                geo_json_a3d689d8948393b503cddb51133a1178.addTo(map_fadf54b832ecc3dd47987565858d2123);\n",
       "&lt;/script&gt;\n",
       "&lt;/html&gt;\" style=\"position:absolute;width:100%;height:100%;left:0;top:0;border:none !important;\" allowfullscreen webkitallowfullscreen mozallowfullscreen></iframe></div></div>"
      ],
      "text/plain": [
       "<folium.folium.Map at 0x7f76640ebed0>"
      ]
     },
     "execution_count": 51,
     "metadata": {},
     "output_type": "execute_result"
    }
   ],
   "source": [
    "m"
   ]
  },
  {
   "cell_type": "code",
   "execution_count": 52,
   "id": "efd388f4-507a-4be4-94b3-c2bd69037a4b",
   "metadata": {},
   "outputs": [
    {
     "data": {
      "text/html": [
       "<div>\n",
       "<style scoped>\n",
       "    .dataframe tbody tr th:only-of-type {\n",
       "        vertical-align: middle;\n",
       "    }\n",
       "\n",
       "    .dataframe tbody tr th {\n",
       "        vertical-align: top;\n",
       "    }\n",
       "\n",
       "    .dataframe thead th {\n",
       "        text-align: right;\n",
       "    }\n",
       "</style>\n",
       "<table border=\"1\" class=\"dataframe\">\n",
       "  <thead>\n",
       "    <tr style=\"text-align: right;\">\n",
       "      <th></th>\n",
       "      <th>sY</th>\n",
       "      <th>sX</th>\n",
       "      <th>geometry</th>\n",
       "    </tr>\n",
       "  </thead>\n",
       "  <tbody>\n",
       "    <tr>\n",
       "      <th>0</th>\n",
       "      <td>1</td>\n",
       "      <td>0</td>\n",
       "      <td>POLYGON ((-150584.000 2579804.000, -150584.000...</td>\n",
       "    </tr>\n",
       "  </tbody>\n",
       "</table>\n",
       "</div>"
      ],
      "text/plain": [
       "   sY  sX                                           geometry\n",
       "0   1   0  POLYGON ((-150584.000 2579804.000, -150584.000..."
      ]
     },
     "execution_count": 52,
     "metadata": {},
     "output_type": "execute_result"
    }
   ],
   "source": [
    "my_1_0"
   ]
  },
  {
   "cell_type": "code",
   "execution_count": 53,
   "id": "fc57a120-e299-4f7f-a091-f56aa2b3d4d7",
   "metadata": {},
   "outputs": [
    {
     "data": {
      "text/html": [
       "<div>\n",
       "<style scoped>\n",
       "    .dataframe tbody tr th:only-of-type {\n",
       "        vertical-align: middle;\n",
       "    }\n",
       "\n",
       "    .dataframe tbody tr th {\n",
       "        vertical-align: top;\n",
       "    }\n",
       "\n",
       "    .dataframe thead th {\n",
       "        text-align: right;\n",
       "    }\n",
       "</style>\n",
       "<table border=\"1\" class=\"dataframe\">\n",
       "  <thead>\n",
       "    <tr style=\"text-align: right;\">\n",
       "      <th></th>\n",
       "      <th>minx</th>\n",
       "      <th>miny</th>\n",
       "      <th>maxx</th>\n",
       "      <th>maxy</th>\n",
       "    </tr>\n",
       "  </thead>\n",
       "  <tbody>\n",
       "    <tr>\n",
       "      <th>0</th>\n",
       "      <td>-165584.0</td>\n",
       "      <td>2579804.0</td>\n",
       "      <td>-150584.0</td>\n",
       "      <td>2594804.0</td>\n",
       "    </tr>\n",
       "  </tbody>\n",
       "</table>\n",
       "</div>"
      ],
      "text/plain": [
       "       minx       miny      maxx       maxy\n",
       "0 -165584.0  2579804.0 -150584.0  2594804.0"
      ]
     },
     "execution_count": 53,
     "metadata": {},
     "output_type": "execute_result"
    }
   ],
   "source": [
    "my_1_0.bounds"
   ]
  },
  {
   "cell_type": "code",
   "execution_count": 54,
   "id": "aaa1d132-0fee-42a3-9ef5-dc68d1bcc5f8",
   "metadata": {},
   "outputs": [
    {
     "data": {
      "text/plain": [
       "7500"
      ]
     },
     "execution_count": 54,
     "metadata": {},
     "output_type": "execute_result"
    }
   ],
   "source": [
    "250*30 "
   ]
  },
  {
   "cell_type": "code",
   "execution_count": 55,
   "id": "165de325-0f63-4171-addf-4c24b1ec7874",
   "metadata": {},
   "outputs": [
    {
     "data": {
      "text/plain": [
       "-150584.0"
      ]
     },
     "execution_count": 55,
     "metadata": {},
     "output_type": "execute_result"
    }
   ],
   "source": [
    "-158084.0 + 7500"
   ]
  },
  {
   "cell_type": "code",
   "execution_count": 56,
   "id": "e5b664d0-8cff-4a4f-95b9-f30836782ba5",
   "metadata": {},
   "outputs": [
    {
     "data": {
      "text/html": [
       "<div>\n",
       "<style scoped>\n",
       "    .dataframe tbody tr th:only-of-type {\n",
       "        vertical-align: middle;\n",
       "    }\n",
       "\n",
       "    .dataframe tbody tr th {\n",
       "        vertical-align: top;\n",
       "    }\n",
       "\n",
       "    .dataframe thead th {\n",
       "        text-align: right;\n",
       "    }\n",
       "</style>\n",
       "<table border=\"1\" class=\"dataframe\">\n",
       "  <thead>\n",
       "    <tr style=\"text-align: right;\">\n",
       "      <th></th>\n",
       "      <th>minx</th>\n",
       "      <th>miny</th>\n",
       "      <th>maxx</th>\n",
       "      <th>maxy</th>\n",
       "    </tr>\n",
       "  </thead>\n",
       "  <tbody>\n",
       "    <tr>\n",
       "      <th>0</th>\n",
       "      <td>-150584.0</td>\n",
       "      <td>2579804.0</td>\n",
       "      <td>-135584.0</td>\n",
       "      <td>2594804.0</td>\n",
       "    </tr>\n",
       "  </tbody>\n",
       "</table>\n",
       "</div>"
      ],
      "text/plain": [
       "       minx       miny      maxx       maxy\n",
       "0 -150584.0  2579804.0 -135584.0  2594804.0"
      ]
     },
     "execution_count": 56,
     "metadata": {},
     "output_type": "execute_result"
    }
   ],
   "source": [
    "my_1_1.bounds"
   ]
  },
  {
   "cell_type": "code",
   "execution_count": null,
   "id": "dfab7920-e0c8-4da0-aabc-5dea7cde607f",
   "metadata": {},
   "outputs": [],
   "source": []
  }
 ],
 "metadata": {
  "kernelspec": {
   "display_name": "Python 3 (ipykernel)",
   "language": "python",
   "name": "python3"
  },
  "language_info": {
   "codemirror_mode": {
    "name": "ipython",
    "version": 3
   },
   "file_extension": ".py",
   "mimetype": "text/x-python",
   "name": "python",
   "nbconvert_exporter": "python",
   "pygments_lexer": "ipython3",
   "version": "3.11.6"
  }
 },
 "nbformat": 4,
 "nbformat_minor": 5
}
