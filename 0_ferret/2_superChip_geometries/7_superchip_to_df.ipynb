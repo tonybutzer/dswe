{
 "cells": [
  {
   "cell_type": "markdown",
   "id": "2fd12f59-7f6e-4885-908e-4d33222e10b8",
   "metadata": {},
   "source": [
    "# df"
   ]
  },
  {
   "cell_type": "code",
   "execution_count": 1,
   "id": "8a2ae608-6033-4b31-9be7-419dcd49f65b",
   "metadata": {},
   "outputs": [],
   "source": [
    "CSZ=500"
   ]
  },
  {
   "cell_type": "code",
   "execution_count": 2,
   "id": "c80462e1-5a73-4c24-8f5f-d8aa46bf3371",
   "metadata": {},
   "outputs": [],
   "source": [
    "import geopandas as gd\n",
    "from shapely.geometry import box"
   ]
  },
  {
   "cell_type": "code",
   "execution_count": 3,
   "id": "7bfc3b60-0700-43fd-9744-d6a5acc9eb3f",
   "metadata": {},
   "outputs": [],
   "source": [
    "gdfin = gd.GeoDataFrame.from_file('AOI/conus_ard_grid.shp')"
   ]
  },
  {
   "cell_type": "code",
   "execution_count": 4,
   "id": "d83df9d4-4f10-4ac0-80cf-6322e0d597c8",
   "metadata": {},
   "outputs": [
    {
     "data": {
      "text/plain": [
       "<Projected CRS: PROJCS[\"Albers_Conic_Equal_Area\",GEOGCS[\"WGS 84\",D ...>\n",
       "Name: Albers_Conic_Equal_Area\n",
       "Axis Info [cartesian]:\n",
       "- [east]: Easting (metre)\n",
       "- [north]: Northing (metre)\n",
       "Area of Use:\n",
       "- undefined\n",
       "Coordinate Operation:\n",
       "- name: unnamed\n",
       "- method: Albers Equal Area\n",
       "Datum: World Geodetic System 1984\n",
       "- Ellipsoid: WGS 84\n",
       "- Prime Meridian: Greenwich"
      ]
     },
     "execution_count": 4,
     "metadata": {},
     "output_type": "execute_result"
    }
   ],
   "source": [
    "gdfin.crs"
   ]
  },
  {
   "cell_type": "code",
   "execution_count": 5,
   "id": "19a78c63-51e6-4c75-a2e6-bb93e1b5e1f1",
   "metadata": {},
   "outputs": [],
   "source": [
    "H=16\n",
    "V=4"
   ]
  },
  {
   "cell_type": "code",
   "execution_count": 6,
   "id": "0c11d02f-c918-4d4d-b34d-a6630d3e62f5",
   "metadata": {},
   "outputs": [],
   "source": [
    "hvgdf = gdfin.loc[(gdfin['h'] == 16) & (gdfin['v'] == 4)]"
   ]
  },
  {
   "cell_type": "code",
   "execution_count": 7,
   "id": "be4f6649-6239-4868-bd1c-073679b3e2cd",
   "metadata": {},
   "outputs": [],
   "source": [
    "geo = hvgdf['geometry'].values[0]"
   ]
  },
  {
   "cell_type": "code",
   "execution_count": 8,
   "id": "61337e7e-622d-44f0-8928-14eb2d09a510",
   "metadata": {},
   "outputs": [
    {
     "data": {
      "text/plain": [
       "shapely.geometry.polygon.Polygon"
      ]
     },
     "execution_count": 8,
     "metadata": {},
     "output_type": "execute_result"
    }
   ],
   "source": [
    "type(geo)"
   ]
  },
  {
   "cell_type": "code",
   "execution_count": 9,
   "id": "d645c6ee-de31-47be-94ce-acf5d90f7676",
   "metadata": {},
   "outputs": [
    {
     "data": {
      "text/plain": [
       "(-165584.99992983043,\n",
       " 2564804.9997692876,\n",
       " -15584.999929830432,\n",
       " 2714804.9997692876)"
      ]
     },
     "execution_count": 9,
     "metadata": {},
     "output_type": "execute_result"
    }
   ],
   "source": [
    "geo.bounds"
   ]
  },
  {
   "cell_type": "code",
   "execution_count": 10,
   "id": "bfb58883-af78-4a67-9db9-293be88a3928",
   "metadata": {},
   "outputs": [],
   "source": [
    "def make_superChip_df(h, v, sY, sX, tile_miny, tile_minx, chunksz_pixels, crs):\n",
    "    chunk_sz_meters = chunksz_pixels * 30\n",
    "    yoff = sY * chunk_sz_meters\n",
    "    xoff = sX * chunk_sz_meters\n",
    "\n",
    "    print(yoff, xoff)\n",
    "    \n",
    "    new_minx = int(tile_minx+xoff)\n",
    "    new_miny = int(tile_miny+yoff)\n",
    "\n",
    "    new_maxx = int(new_minx + chunk_sz_meters)\n",
    "    new_maxy = int(new_miny + chunk_sz_meters)\n",
    "\n",
    "    my_geometry = box(new_minx, new_miny, new_maxx, new_maxy)\n",
    "\n",
    "    my_df_list=[]\n",
    "    rec = {\n",
    "        'H': h,\n",
    "        'V': v,\n",
    "        'sY': sY,\n",
    "        'sX': sX,\n",
    "        'geometry': my_geometry\n",
    "    }\n",
    "    my_df_list.append(rec)\n",
    "    \n",
    "    gdf1 = gd.GeoDataFrame(my_df_list)\n",
    "    gdf = gdf1.set_crs(crs)\n",
    "    return gdf"
   ]
  },
  {
   "cell_type": "code",
   "execution_count": 11,
   "id": "71d37c83-e624-4344-af6b-fb518cc24955",
   "metadata": {},
   "outputs": [],
   "source": [
    "tile_minx=geo.bounds[0]\n",
    "tile_miny=geo.bounds[1]"
   ]
  },
  {
   "cell_type": "code",
   "execution_count": 12,
   "id": "13fadb17-2e2e-4c68-a722-46432e39232c",
   "metadata": {},
   "outputs": [
    {
     "name": "stdout",
     "output_type": "stream",
     "text": [
      "0 0\n",
      "15000 0\n",
      "30000 0\n",
      "45000 0\n",
      "60000 0\n",
      "75000 0\n",
      "90000 0\n",
      "105000 0\n",
      "120000 0\n",
      "135000 0\n",
      "0 15000\n",
      "15000 15000\n",
      "30000 15000\n",
      "45000 15000\n",
      "60000 15000\n",
      "75000 15000\n",
      "90000 15000\n",
      "105000 15000\n",
      "120000 15000\n",
      "135000 15000\n",
      "0 30000\n",
      "15000 30000\n",
      "30000 30000\n",
      "45000 30000\n",
      "60000 30000\n",
      "75000 30000\n",
      "90000 30000\n",
      "105000 30000\n",
      "120000 30000\n",
      "135000 30000\n",
      "0 45000\n",
      "15000 45000\n",
      "30000 45000\n",
      "45000 45000\n",
      "60000 45000\n",
      "75000 45000\n",
      "90000 45000\n",
      "105000 45000\n",
      "120000 45000\n",
      "135000 45000\n",
      "0 60000\n",
      "15000 60000\n",
      "30000 60000\n",
      "45000 60000\n",
      "60000 60000\n",
      "75000 60000\n",
      "90000 60000\n",
      "105000 60000\n",
      "120000 60000\n",
      "135000 60000\n",
      "0 75000\n",
      "15000 75000\n",
      "30000 75000\n",
      "45000 75000\n",
      "60000 75000\n",
      "75000 75000\n",
      "90000 75000\n",
      "105000 75000\n",
      "120000 75000\n",
      "135000 75000\n",
      "0 90000\n",
      "15000 90000\n",
      "30000 90000\n",
      "45000 90000\n",
      "60000 90000\n",
      "75000 90000\n",
      "90000 90000\n",
      "105000 90000\n",
      "120000 90000\n",
      "135000 90000\n",
      "0 105000\n",
      "15000 105000\n",
      "30000 105000\n",
      "45000 105000\n",
      "60000 105000\n",
      "75000 105000\n",
      "90000 105000\n",
      "105000 105000\n",
      "120000 105000\n",
      "135000 105000\n",
      "0 120000\n",
      "15000 120000\n",
      "30000 120000\n",
      "45000 120000\n",
      "60000 120000\n",
      "75000 120000\n",
      "90000 120000\n",
      "105000 120000\n",
      "120000 120000\n",
      "135000 120000\n",
      "0 135000\n",
      "15000 135000\n",
      "30000 135000\n",
      "45000 135000\n",
      "60000 135000\n",
      "75000 135000\n",
      "90000 135000\n",
      "105000 135000\n",
      "120000 135000\n",
      "135000 135000\n"
     ]
    }
   ],
   "source": [
    "my_dfs=[]\n",
    "chunksz_pixels=CSZ\n",
    "crs=hvgdf.crs\n",
    "for x in range(int(5000/CSZ)):\n",
    "    for y in range(int(5000/CSZ)):\n",
    "        # print(y,x)\n",
    "        gdfhvyx = make_superChip_df(H, V, y, x, tile_miny, tile_minx, chunksz_pixels, crs)\n",
    "        my_dfs.append(gdfhvyx)"
   ]
  },
  {
   "cell_type": "code",
   "execution_count": 13,
   "id": "5d90725e-25f2-4961-86a2-9dfefa417abb",
   "metadata": {},
   "outputs": [],
   "source": [
    "import pandas as pd\n",
    "df = pd.concat(my_dfs)"
   ]
  },
  {
   "cell_type": "code",
   "execution_count": 14,
   "id": "214723ff-79be-4a8c-bc17-db8ce9b56ccf",
   "metadata": {},
   "outputs": [],
   "source": [
    "gdf=gd.GeoDataFrame(df, geometry=df['geometry'], crs = gdfin.crs)"
   ]
  },
  {
   "cell_type": "code",
   "execution_count": 16,
   "id": "1bffd763-b7cc-44b2-b8ad-6df4fa2a68b3",
   "metadata": {},
   "outputs": [
    {
     "data": {
      "text/html": [
       "<div>\n",
       "<style scoped>\n",
       "    .dataframe tbody tr th:only-of-type {\n",
       "        vertical-align: middle;\n",
       "    }\n",
       "\n",
       "    .dataframe tbody tr th {\n",
       "        vertical-align: top;\n",
       "    }\n",
       "\n",
       "    .dataframe thead th {\n",
       "        text-align: right;\n",
       "    }\n",
       "</style>\n",
       "<table border=\"1\" class=\"dataframe\">\n",
       "  <thead>\n",
       "    <tr style=\"text-align: right;\">\n",
       "      <th></th>\n",
       "      <th>H</th>\n",
       "      <th>V</th>\n",
       "      <th>sY</th>\n",
       "      <th>sX</th>\n",
       "      <th>geometry</th>\n",
       "    </tr>\n",
       "  </thead>\n",
       "  <tbody>\n",
       "    <tr>\n",
       "      <th>0</th>\n",
       "      <td>16</td>\n",
       "      <td>4</td>\n",
       "      <td>0</td>\n",
       "      <td>0</td>\n",
       "      <td>POLYGON ((-150584.000 2564804.000, -150584.000...</td>\n",
       "    </tr>\n",
       "    <tr>\n",
       "      <th>0</th>\n",
       "      <td>16</td>\n",
       "      <td>4</td>\n",
       "      <td>1</td>\n",
       "      <td>0</td>\n",
       "      <td>POLYGON ((-150584.000 2579804.000, -150584.000...</td>\n",
       "    </tr>\n",
       "    <tr>\n",
       "      <th>0</th>\n",
       "      <td>16</td>\n",
       "      <td>4</td>\n",
       "      <td>2</td>\n",
       "      <td>0</td>\n",
       "      <td>POLYGON ((-150584.000 2594804.000, -150584.000...</td>\n",
       "    </tr>\n",
       "    <tr>\n",
       "      <th>0</th>\n",
       "      <td>16</td>\n",
       "      <td>4</td>\n",
       "      <td>3</td>\n",
       "      <td>0</td>\n",
       "      <td>POLYGON ((-150584.000 2609804.000, -150584.000...</td>\n",
       "    </tr>\n",
       "    <tr>\n",
       "      <th>0</th>\n",
       "      <td>16</td>\n",
       "      <td>4</td>\n",
       "      <td>4</td>\n",
       "      <td>0</td>\n",
       "      <td>POLYGON ((-150584.000 2624804.000, -150584.000...</td>\n",
       "    </tr>\n",
       "  </tbody>\n",
       "</table>\n",
       "</div>"
      ],
      "text/plain": [
       "    H  V  sY  sX                                           geometry\n",
       "0  16  4   0   0  POLYGON ((-150584.000 2564804.000, -150584.000...\n",
       "0  16  4   1   0  POLYGON ((-150584.000 2579804.000, -150584.000...\n",
       "0  16  4   2   0  POLYGON ((-150584.000 2594804.000, -150584.000...\n",
       "0  16  4   3   0  POLYGON ((-150584.000 2609804.000, -150584.000...\n",
       "0  16  4   4   0  POLYGON ((-150584.000 2624804.000, -150584.000..."
      ]
     },
     "execution_count": 16,
     "metadata": {},
     "output_type": "execute_result"
    }
   ],
   "source": [
    "gdf.head()"
   ]
  },
  {
   "cell_type": "code",
   "execution_count": 15,
   "id": "c09244b9-ce86-4c55-860b-a9dc2c057912",
   "metadata": {},
   "outputs": [],
   "source": [
    "import pickle\n",
    "\n",
    "# Pickle the DataFrame\n",
    "with open('my_dataframe.pkl', 'wb') as f:\n",
    "    pickle.dump(gdf, f)\n",
    "\n",
    "# # Unpickle the DataFrame\n",
    "# with open('my_dataframe.pkl', 'rb') as f:\n",
    "#     df = pickle.load(f)\n",
    "\n",
    "# # Display the DataFrame\n",
    "# print(df)\n"
   ]
  },
  {
   "cell_type": "code",
   "execution_count": null,
   "id": "39c2cf12-eaf0-4c3b-970c-846ca888822f",
   "metadata": {},
   "outputs": [],
   "source": []
  },
  {
   "cell_type": "code",
   "execution_count": null,
   "id": "5657d2ab-2f61-484d-916f-e71ec4a877da",
   "metadata": {},
   "outputs": [],
   "source": []
  }
 ],
 "metadata": {
  "kernelspec": {
   "display_name": "Python 3 (ipykernel)",
   "language": "python",
   "name": "python3"
  },
  "language_info": {
   "codemirror_mode": {
    "name": "ipython",
    "version": 3
   },
   "file_extension": ".py",
   "mimetype": "text/x-python",
   "name": "python",
   "nbconvert_exporter": "python",
   "pygments_lexer": "ipython3",
   "version": "3.11.6"
  }
 },
 "nbformat": 4,
 "nbformat_minor": 5
}
