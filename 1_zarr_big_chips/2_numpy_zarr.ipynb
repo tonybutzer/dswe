{
 "cells": [
  {
   "cell_type": "code",
   "execution_count": null,
   "id": "5cfda156-fbfe-4e8f-a071-a27529b6589f",
   "metadata": {},
   "outputs": [],
   "source": [
    "%env AWS_REQUEST_PAYER=requester"
   ]
  },
  {
   "cell_type": "code",
   "execution_count": null,
   "id": "cc7f6fda-ca36-4f85-b6d0-285b77780e08",
   "metadata": {},
   "outputs": [],
   "source": [
    "from stacLib.ard_stac_search import Astac\n",
    "import rasterio as rio\n",
    "from rasterio.windows import Window\n",
    "\n",
    "import numpy as np\n",
    "import tqdm.notebook as tq\n",
    "import zarr"
   ]
  },
  {
   "cell_type": "code",
   "execution_count": null,
   "id": "664e617d-016b-46e2-8e1a-e91e7d23f9de",
   "metadata": {},
   "outputs": [],
   "source": [
    "my_date='2020-01-01/2024-12-31'"
   ]
  },
  {
   "cell_type": "code",
   "execution_count": null,
   "id": "8d1116c1-7b02-4950-8e13-aea9c33b6901",
   "metadata": {},
   "outputs": [],
   "source": [
    "stac_config = {}\n",
    "\n",
    "stac_config['url'] = 'https://landsatlook.usgs.gov/stac-server'\n",
    "stac_config['fav_collection'] = 'landsat-c2l3-dswe'\n",
    "stac_config['description'] = 'Landsat Collection 2 ARD Tiles DSWE'\n"
   ]
  },
  {
   "cell_type": "code",
   "execution_count": null,
   "id": "db70bb1c-d92c-4a54-91d2-d6fba2779985",
   "metadata": {},
   "outputs": [],
   "source": [
    "H='21'\n",
    "V='10'\n",
    "YEAR=2021"
   ]
  },
  {
   "cell_type": "code",
   "execution_count": null,
   "id": "33776b1b-c48d-42ec-88bd-8855d332c636",
   "metadata": {},
   "outputs": [],
   "source": [
    "chunkY = 250\n",
    "chunkX = 250"
   ]
  },
  {
   "cell_type": "code",
   "execution_count": null,
   "id": "afef8df6-0a58-4c47-acff-8e878cbe9ac2",
   "metadata": {},
   "outputs": [],
   "source": [
    "_stac = Astac(stac_config)"
   ]
  },
  {
   "cell_type": "code",
   "execution_count": null,
   "id": "9a67e506-b782-4e70-8c03-ce0653314efb",
   "metadata": {},
   "outputs": [],
   "source": [
    "date_range_text = my_date\n",
    "cloud_cover_pct_max = '100'\n",
    "_assets = _stac.get_my_assets(None, H, V, date_range_text, cloud_cover_pct_max)"
   ]
  },
  {
   "cell_type": "code",
   "execution_count": null,
   "id": "c769ad13-33ed-4731-9ec2-806ed0e81497",
   "metadata": {},
   "outputs": [],
   "source": [
    "_assets[0]['properties']"
   ]
  },
  {
   "cell_type": "code",
   "execution_count": null,
   "id": "9716f48e-7f14-402f-9941-224da11e4515",
   "metadata": {},
   "outputs": [],
   "source": [
    "\n",
    "def read_tif(path: str, band: int = 1, window: Window = None):\n",
    "    return rio.open(path).read(band, window=window)\n",
    "\n",
    "def read_ls_data(item, band, window):\n",
    "    return read_tif(item['assets'][band]['alternate']['s3']['href'], window=window)"
   ]
  },
  {
   "cell_type": "code",
   "execution_count": null,
   "id": "fbc80072-9b9b-434c-a057-8629e4c9a125",
   "metadata": {},
   "outputs": [],
   "source": [
    "len(_assets)"
   ]
  },
  {
   "cell_type": "code",
   "execution_count": null,
   "id": "1dc3cda1-618d-468d-9506-f0ec6c372bd1",
   "metadata": {},
   "outputs": [],
   "source": [
    "# Initialize 3d array time Y X"
   ]
  },
  {
   "cell_type": "code",
   "execution_count": null,
   "id": "f89822cc-cfb1-4a71-ad94-a47d2d7b2a28",
   "metadata": {},
   "outputs": [],
   "source": [
    "window = Window(0, 0, chunkY, chunkX)"
   ]
  },
  {
   "cell_type": "code",
   "execution_count": null,
   "id": "482cc5ec-f09b-4709-9bdd-c1a5ac85f1ce",
   "metadata": {},
   "outputs": [],
   "source": [
    "big3d_ary = np.zeros(shape=(len(_assets), chunkY, chunkX), dtype=np.uint16)"
   ]
  },
  {
   "cell_type": "code",
   "execution_count": null,
   "id": "3825057e-a977-4471-8606-d859a0ab6aef",
   "metadata": {},
   "outputs": [],
   "source": [
    "big3d_ary.shape"
   ]
  },
  {
   "cell_type": "code",
   "execution_count": null,
   "id": "7fa218fc-77f1-4d00-a257-557882b362fa",
   "metadata": {},
   "outputs": [],
   "source": [
    "%%time\n",
    "p_bar=tq.tqdm(range(len(_assets)), position=0, leave=True)\n",
    "myband='intsm'\n",
    "for t1 in range(len(_assets)):\n",
    "    item = _assets[t1]\n",
    "    big3d_ary[t1] = read_ls_data(item, myband, window)\n",
    "    p_bar.update(1)\n",
    "    p_bar.refresh()"
   ]
  },
  {
   "cell_type": "code",
   "execution_count": null,
   "id": "0023f49f-76e0-4b30-b21f-1be5d8cc4ad4",
   "metadata": {},
   "outputs": [],
   "source": [
    "Y=0\n",
    "X=0\n",
    "Z_store = f's3://ws-out/dwse/_H{H}V{V}_Y{Y}X{X}_store.zarr'"
   ]
  },
  {
   "cell_type": "code",
   "execution_count": null,
   "id": "8067f084-7655-4a87-b861-9ad701edd57a",
   "metadata": {},
   "outputs": [],
   "source": [
    "%%time\n",
    "# Save the 3D NumPy array as a Zarr array\n",
    "zarr.save(Z_store, big3d_ary)\n",
    "\n",
    "# To load the Zarr array back into a NumPy array\n",
    "loaded_array = zarr.load(Z_store)\n",
    "\n",
    "# Verify the loaded array\n",
    "print(loaded_array.shape)"
   ]
  },
  {
   "cell_type": "code",
   "execution_count": null,
   "id": "f6c5b1d4-6b90-4572-b697-489faa3d69aa",
   "metadata": {},
   "outputs": [],
   "source": [
    "# for Y in range(20):\n",
    "#     for X in range(20):\n",
    "#         work = f'H{H}V{V}_Y{Y}X{X}'\n",
    "#         print(work)"
   ]
  },
  {
   "cell_type": "code",
   "execution_count": null,
   "id": "9924e444-49af-48f4-8b42-1544b7c612d9",
   "metadata": {},
   "outputs": [],
   "source": [
    "file_name='dancecard.txt'\n",
    "mode='w'\n",
    "f = open(file_name, mode)"
   ]
  },
  {
   "cell_type": "code",
   "execution_count": null,
   "id": "35ef5bed-7b23-4fde-b462-f1cd721987e2",
   "metadata": {},
   "outputs": [],
   "source": [
    "for Y in range(20):\n",
    "    for X in range(20):\n",
    "        work = f'H{H}V{V}_Y{Y}X{X}\\n'\n",
    "        f.write(work)\n",
    "\n",
    "f.close()"
   ]
  },
  {
   "cell_type": "code",
   "execution_count": null,
   "id": "119ad908-512a-4a22-8c99-549d4fcff960",
   "metadata": {},
   "outputs": [],
   "source": [
    "! cat dancecard.txt"
   ]
  },
  {
   "cell_type": "code",
   "execution_count": null,
   "id": "2e54ed58-c7f0-4538-be6d-3afacdeb4ac2",
   "metadata": {},
   "outputs": [],
   "source": []
  }
 ],
 "metadata": {
  "kernelspec": {
   "display_name": "Python 3 (ipykernel)",
   "language": "python",
   "name": "python3"
  },
  "language_info": {
   "codemirror_mode": {
    "name": "ipython",
    "version": 3
   },
   "file_extension": ".py",
   "mimetype": "text/x-python",
   "name": "python",
   "nbconvert_exporter": "python",
   "pygments_lexer": "ipython3",
   "version": "3.11.6"
  }
 },
 "nbformat": 4,
 "nbformat_minor": 5
}
