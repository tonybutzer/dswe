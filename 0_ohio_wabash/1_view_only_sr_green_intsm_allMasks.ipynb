{
 "cells": [
  {
   "cell_type": "code",
   "execution_count": null,
   "id": "b4be4997-e511-4d82-8701-b25c0c2d0a28",
   "metadata": {},
   "outputs": [],
   "source": [
    "%env AWS_REQUEST_PAYER=requester"
   ]
  },
  {
   "cell_type": "code",
   "execution_count": null,
   "id": "30434309-b43b-46b3-886c-c37a796e5583",
   "metadata": {},
   "outputs": [],
   "source": [
    "%matplotlib inline\n",
    "from PIL import Image\n",
    "\n",
    "import xarray\n",
    "import holoviews as hv\n",
    "import hvplot.xarray\n",
    "\n",
    "import numpy as np"
   ]
  },
  {
   "cell_type": "code",
   "execution_count": null,
   "id": "10d82d66-5e7c-456a-8c36-3c19d772f6f3",
   "metadata": {},
   "outputs": [],
   "source": [
    "green = 's3://usgs-landsat-ard/collection02/oli-tirs/2021/CU/021/010/LC08_CU_021010_20210412_20210504_02/LC08_CU_021010_20210412_20210504_02_SR_B3.TIF'"
   ]
  },
  {
   "cell_type": "code",
   "execution_count": null,
   "id": "053ec8b0-2e14-444a-b684-6093906884fd",
   "metadata": {},
   "outputs": [],
   "source": [
    "dswe = 's3://usgs-landsat-level-3/collection02/DSWE/2021/CU/021/010/LC08_CU_021010_20210412_20210504_02_DSWE/LC08_CU_021010_20210412_20210504_02_INTSM.TIF'"
   ]
  },
  {
   "cell_type": "code",
   "execution_count": null,
   "id": "c0c731f3-44e5-4652-815a-0448689eae22",
   "metadata": {},
   "outputs": [],
   "source": [
    "gimg = xarray.open_dataset(green, engine='rasterio')"
   ]
  },
  {
   "cell_type": "code",
   "execution_count": null,
   "id": "4029e5be-df7f-4898-a432-ee0c31a038fc",
   "metadata": {},
   "outputs": [],
   "source": [
    "gimg"
   ]
  },
  {
   "cell_type": "code",
   "execution_count": null,
   "id": "e04780c2-7d18-44c8-b5b5-93bfbd35d2be",
   "metadata": {},
   "outputs": [],
   "source": [
    "wimg = xarray.open_dataset(dswe, engine='rasterio')"
   ]
  },
  {
   "cell_type": "code",
   "execution_count": null,
   "id": "901f79b6-3285-4ffb-a72e-064b9e111bbb",
   "metadata": {},
   "outputs": [],
   "source": [
    "gimg.hvplot.image(rasterize=True,  x='x', y='y', width=600, height=500, cmap='greens', clim=(9000,15000)).hist()"
   ]
  },
  {
   "cell_type": "code",
   "execution_count": null,
   "id": "4b25e932-f2ba-494f-87b9-698ec7a1b29f",
   "metadata": {},
   "outputs": [],
   "source": [
    "wimg.hvplot.image(rasterize=True,  x='x', y='y', width=600, height=500, cmap='tab20',).hist()"
   ]
  },
  {
   "cell_type": "code",
   "execution_count": null,
   "id": "510acaae-6dba-48f7-bcc5-0696d4304df0",
   "metadata": {},
   "outputs": [],
   "source": [
    "dswe_inwam = 's3://usgs-landsat-level-3/collection02/DSWE/2021/CU/021/010/LC08_CU_021010_20210412_20210504_02_DSWE/LC08_CU_021010_20210412_20210504_02_INWAM.TIF'"
   ]
  },
  {
   "cell_type": "code",
   "execution_count": null,
   "id": "5aaedf63-9c88-4828-8b3b-ba027d0a2be8",
   "metadata": {},
   "outputs": [],
   "source": [
    "wamimg = xarray.open_dataset(dswe_inwam, engine='rasterio')"
   ]
  },
  {
   "cell_type": "code",
   "execution_count": null,
   "id": "c8045016-6c7a-4496-93e0-9a1fbd62cd68",
   "metadata": {},
   "outputs": [],
   "source": [
    "wamimg.hvplot.image(rasterize=True,  x='x', y='y', width=600, height=500, cmap='tab20',).hist()"
   ]
  },
  {
   "cell_type": "markdown",
   "id": "1ad9d192-f15d-44b9-b10e-79ae06e97728",
   "metadata": {},
   "source": [
    "The Interpreted layer with mask applied (INWM) has been split into two bands: Interpreted Layer with Some Masks Applied (INTSM) and Interpreted Layer with All Masks Applied (INWAM).  (See Bands table below)"
   ]
  },
  {
   "cell_type": "code",
   "execution_count": null,
   "id": "c5747cf0-018a-40e9-b2c3-f3bcec2837cc",
   "metadata": {},
   "outputs": [],
   "source": []
  }
 ],
 "metadata": {
  "kernelspec": {
   "display_name": "Python 3 (ipykernel)",
   "language": "python",
   "name": "python3"
  },
  "language_info": {
   "codemirror_mode": {
    "name": "ipython",
    "version": 3
   },
   "file_extension": ".py",
   "mimetype": "text/x-python",
   "name": "python",
   "nbconvert_exporter": "python",
   "pygments_lexer": "ipython3",
   "version": "3.11.6"
  }
 },
 "nbformat": 4,
 "nbformat_minor": 5
}
