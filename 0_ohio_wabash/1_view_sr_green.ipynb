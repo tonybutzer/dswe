{
 "cells": [
  {
   "cell_type": "code",
   "execution_count": null,
   "id": "b4be4997-e511-4d82-8701-b25c0c2d0a28",
   "metadata": {},
   "outputs": [],
   "source": [
    "%env AWS_REQUEST_PAYER=requester"
   ]
  },
  {
   "cell_type": "code",
   "execution_count": null,
   "id": "30434309-b43b-46b3-886c-c37a796e5583",
   "metadata": {},
   "outputs": [],
   "source": [
    "%matplotlib inline\n",
    "from PIL import Image\n",
    "\n",
    "import xarray\n",
    "import holoviews as hv\n",
    "import hvplot.xarray\n",
    "\n",
    "import numpy as np"
   ]
  },
  {
   "cell_type": "code",
   "execution_count": null,
   "id": "10d82d66-5e7c-456a-8c36-3c19d772f6f3",
   "metadata": {},
   "outputs": [],
   "source": [
    "green = 's3://usgs-landsat-ard/collection02/oli-tirs/2021/CU/021/010/LC08_CU_021010_20210412_20210504_02/LC08_CU_021010_20210412_20210504_02_SR_B3.TIF'"
   ]
  },
  {
   "cell_type": "code",
   "execution_count": null,
   "id": "053ec8b0-2e14-444a-b684-6093906884fd",
   "metadata": {},
   "outputs": [],
   "source": [
    "dswe = 's3://usgs-landsat-level-3/collection02/DSWE/2021/CU/021/010/LC08_CU_021010_20210412_20210504_02_DSWE/LC08_CU_021010_20210412_20210504_02_INTSM.TIF'"
   ]
  },
  {
   "cell_type": "code",
   "execution_count": null,
   "id": "c0c731f3-44e5-4652-815a-0448689eae22",
   "metadata": {},
   "outputs": [],
   "source": [
    "gimg = xarray.open_dataset(green, engine='rasterio')"
   ]
  },
  {
   "cell_type": "code",
   "execution_count": null,
   "id": "95b1141f-cd23-40a8-89de-7e18a192f2a3",
   "metadata": {},
   "outputs": [],
   "source": []
  },
  {
   "cell_type": "code",
   "execution_count": null,
   "id": "4029e5be-df7f-4898-a432-ee0c31a038fc",
   "metadata": {},
   "outputs": [],
   "source": [
    "gimg"
   ]
  },
  {
   "cell_type": "code",
   "execution_count": null,
   "id": "e04780c2-7d18-44c8-b5b5-93bfbd35d2be",
   "metadata": {},
   "outputs": [],
   "source": [
    "wimg = xarray.open_dataset(dswe, engine='rasterio')"
   ]
  },
  {
   "cell_type": "code",
   "execution_count": null,
   "id": "901f79b6-3285-4ffb-a72e-064b9e111bbb",
   "metadata": {},
   "outputs": [],
   "source": [
    "gimg.hvplot.image(rasterize=True,  x='x', y='y', width=600, height=500, cmap='greens', clim=(9000,15000)).hist()"
   ]
  },
  {
   "cell_type": "code",
   "execution_count": null,
   "id": "4b25e932-f2ba-494f-87b9-698ec7a1b29f",
   "metadata": {},
   "outputs": [],
   "source": [
    "wimg.hvplot.image(rasterize=True,  x='x', y='y', width=600, height=500, cmap='tab20',).hist()"
   ]
  },
  {
   "cell_type": "code",
   "execution_count": null,
   "id": "510acaae-6dba-48f7-bcc5-0696d4304df0",
   "metadata": {},
   "outputs": [],
   "source": [
    "dswe_inwam = 's3://usgs-landsat-level-3/collection02/DSWE/2021/CU/021/010/LC08_CU_021010_20210412_20210504_02_DSWE/LC08_CU_021010_20210412_20210504_02_INWAM.TIF'"
   ]
  },
  {
   "cell_type": "code",
   "execution_count": null,
   "id": "5aaedf63-9c88-4828-8b3b-ba027d0a2be8",
   "metadata": {},
   "outputs": [],
   "source": [
    "wamimg = xarray.open_dataset(dswe_inwam, engine='rasterio')"
   ]
  },
  {
   "cell_type": "code",
   "execution_count": null,
   "id": "c8045016-6c7a-4496-93e0-9a1fbd62cd68",
   "metadata": {},
   "outputs": [],
   "source": [
    "wamimg.hvplot.image(rasterize=True,  x='x', y='y', width=600, height=500, cmap='tab20',).hist()"
   ]
  },
  {
   "cell_type": "markdown",
   "id": "1ad9d192-f15d-44b9-b10e-79ae06e97728",
   "metadata": {},
   "source": [
    "The Interpreted layer with mask applied (INWM) has been split into two bands: Interpreted Layer with Some Masks Applied (INTSM) and Interpreted Layer with All Masks Applied (INWAM).  (See Bands table below)"
   ]
  },
  {
   "cell_type": "code",
   "execution_count": null,
   "id": "1f935d6e-f9a1-4722-bf17-f0d8f69f4d63",
   "metadata": {},
   "outputs": [],
   "source": [
    "# Create a 256 by 256 array filled with the value 10\n",
    "array_10 = np.full((250, 250), 10)\n",
    "\n",
    "# Print or use the array as needed\n",
    "print(array_10)"
   ]
  },
  {
   "cell_type": "code",
   "execution_count": null,
   "id": "a1d456d4-3a86-4718-88db-7a25e70bb168",
   "metadata": {},
   "outputs": [],
   "source": [
    "wimg['band_data'][0].shape"
   ]
  },
  {
   "cell_type": "code",
   "execution_count": null,
   "id": "2eb4b5a7-7016-45b6-885b-f6a1ba0dab2d",
   "metadata": {},
   "outputs": [],
   "source": [
    "wimg['band_data'][0].values[:250, :250] = array_10"
   ]
  },
  {
   "cell_type": "code",
   "execution_count": null,
   "id": "9e946009-4c2d-4a0a-8820-9334d1fab8dd",
   "metadata": {},
   "outputs": [],
   "source": [
    "wimg.hvplot.image(rasterize=True,  x='x', y='y', width=600, height=500, cmap='tab20',).hist()"
   ]
  },
  {
   "cell_type": "code",
   "execution_count": null,
   "id": "166d595b-25f8-49e8-a409-f4ddbb7f80aa",
   "metadata": {},
   "outputs": [],
   "source": [
    "array_20 = np.full((250, 250), 20)\n"
   ]
  },
  {
   "cell_type": "code",
   "execution_count": null,
   "id": "1c6d5a2d-c3f0-4a2f-b6b1-ca87b098610a",
   "metadata": {},
   "outputs": [],
   "source": [
    "yoff = 19 * 250\n",
    "yoff"
   ]
  },
  {
   "cell_type": "code",
   "execution_count": null,
   "id": "c477d007-65d4-4764-9968-009195654965",
   "metadata": {},
   "outputs": [],
   "source": [
    "wimg['band_data'][0].values[yoff:yoff+250, :250] = array_20"
   ]
  },
  {
   "cell_type": "code",
   "execution_count": null,
   "id": "69e21e18-20e5-4ad5-9f36-967e83513918",
   "metadata": {},
   "outputs": [],
   "source": [
    "wimg.hvplot.image(rasterize=True,  x='x', y='y', width=600, height=500, cmap='tab20',).hist()"
   ]
  },
  {
   "cell_type": "code",
   "execution_count": null,
   "id": "d5034f1e-44ae-4187-a72d-be320192d2b6",
   "metadata": {},
   "outputs": [],
   "source": [
    "array_30 = np.full((250, 250), 30)\n"
   ]
  },
  {
   "cell_type": "code",
   "execution_count": null,
   "id": "259d2f56-0801-45d5-a36a-459744cb981b",
   "metadata": {},
   "outputs": [],
   "source": [
    "xoff = 19 * 250\n",
    "xoff"
   ]
  },
  {
   "cell_type": "code",
   "execution_count": null,
   "id": "41709cff-f872-456f-805f-1d1a227b72ad",
   "metadata": {},
   "outputs": [],
   "source": [
    "wimg['band_data'][0].values[:250, xoff:xoff+250] = array_30"
   ]
  },
  {
   "cell_type": "code",
   "execution_count": null,
   "id": "c338c455-2b20-48f5-b1d4-a86cc9adf395",
   "metadata": {},
   "outputs": [],
   "source": [
    "wimg.hvplot.image(rasterize=True,  x='x', y='y', width=600, height=500, cmap='tab20',).hist()"
   ]
  },
  {
   "cell_type": "code",
   "execution_count": null,
   "id": "35eb841f-828a-49d1-a1e9-f00717bd3b7d",
   "metadata": {},
   "outputs": [],
   "source": [
    "array_40 = np.full((250, 250), 40)\n"
   ]
  },
  {
   "cell_type": "code",
   "execution_count": null,
   "id": "159ee66e-2d1b-4b0e-ad68-c9f8a3a12a64",
   "metadata": {},
   "outputs": [],
   "source": [
    "wimg['band_data'][0].values[yoff:yoff+250, xoff:xoff+250] = array_40"
   ]
  },
  {
   "cell_type": "code",
   "execution_count": null,
   "id": "064fccbf-a240-4f4c-bc06-0621069f5a91",
   "metadata": {},
   "outputs": [],
   "source": [
    "wimg.hvplot.image(rasterize=True,  x='x', y='y', width=600, height=500, cmap='tab20',).hist()"
   ]
  },
  {
   "cell_type": "code",
   "execution_count": null,
   "id": "a80ef28f-8b71-4425-8846-1cfd783fa8cb",
   "metadata": {},
   "outputs": [],
   "source": [
    "import numpy as np\n",
    "\n",
    "# Create a random 250 by 250 array with values between 1 and 10\n",
    "random_array = np.random.randint(1, 11, size=(250, 250))\n",
    "\n",
    "# Count the number of elements equal to 1\n",
    "count_of_ones = np.count_nonzero(random_array == 1)\n",
    "\n",
    "# Print the count\n",
    "print(f\"Number of elements equal to 1: {count_of_ones}\")"
   ]
  },
  {
   "cell_type": "markdown",
   "id": "c8908261-1925-407b-99ee-ea20ea470b4a",
   "metadata": {},
   "source": [
    "# this could be usd to find the subGridcell that has the most definite water"
   ]
  },
  {
   "cell_type": "code",
   "execution_count": null,
   "id": "05478a4b-d429-4b18-81b7-cef1fb752057",
   "metadata": {},
   "outputs": [],
   "source": [
    "5000/256"
   ]
  },
  {
   "cell_type": "code",
   "execution_count": null,
   "id": "866b72c8-0f40-4587-a063-056d41f2b116",
   "metadata": {},
   "outputs": [],
   "source": [
    "grid = np.full((20, 20), 1, dtype=object)\n",
    "for y in range(0,20):\n",
    "    yoff = y * 256\n",
    "    for x in range (0,20):\n",
    "        xoff = x * 256\n",
    "        print(y,x)\n",
    "        grid[y][x] = wimg['band_data'][0].values[yoff:yoff+256, xoff:xoff+256]"
   ]
  },
  {
   "cell_type": "code",
   "execution_count": null,
   "id": "f7a6410a-d189-4e24-8d4d-a5666b0d6cfd",
   "metadata": {},
   "outputs": [],
   "source": [
    "grid[0,0].shape"
   ]
  },
  {
   "cell_type": "code",
   "execution_count": null,
   "id": "74cf0905-2971-4794-9a66-49d173ebd7f8",
   "metadata": {},
   "outputs": [],
   "source": [
    "grid[19,19].shape"
   ]
  },
  {
   "cell_type": "code",
   "execution_count": null,
   "id": "af791032-1748-4040-b009-ba7100d91a04",
   "metadata": {},
   "outputs": [],
   "source": [
    "256 * 19 + 136"
   ]
  },
  {
   "cell_type": "code",
   "execution_count": null,
   "id": "16f7cc3c-9cd1-4265-905d-70d18d64fee1",
   "metadata": {},
   "outputs": [],
   "source": [
    "def count_ones(ary):\n",
    "    count_of_ones = np.count_nonzero(ary == 1)\n",
    "    return count_of_ones"
   ]
  },
  {
   "cell_type": "code",
   "execution_count": null,
   "id": "092208aa-694d-4bbc-9470-872843075e02",
   "metadata": {},
   "outputs": [],
   "source": [
    "for y in range(0,20):\n",
    "    for x in range (0,20):\n",
    "        ones = count_ones(grid[y][x])\n",
    "        print(y, x, ones)"
   ]
  },
  {
   "cell_type": "code",
   "execution_count": null,
   "id": "c5747cf0-018a-40e9-b2c3-f3bcec2837cc",
   "metadata": {},
   "outputs": [],
   "source": []
  }
 ],
 "metadata": {
  "kernelspec": {
   "display_name": "Python 3 (ipykernel)",
   "language": "python",
   "name": "python3"
  },
  "language_info": {
   "codemirror_mode": {
    "name": "ipython",
    "version": 3
   },
   "file_extension": ".py",
   "mimetype": "text/x-python",
   "name": "python",
   "nbconvert_exporter": "python",
   "pygments_lexer": "ipython3",
   "version": "3.11.6"
  }
 },
 "nbformat": 4,
 "nbformat_minor": 5
}
