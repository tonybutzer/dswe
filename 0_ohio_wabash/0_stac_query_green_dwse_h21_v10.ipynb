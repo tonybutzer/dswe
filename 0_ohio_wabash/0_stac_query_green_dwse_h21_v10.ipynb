{
 "cells": [
  {
   "cell_type": "code",
   "execution_count": 1,
   "id": "c28e4f31-dbae-4e72-95d8-5a80a8b2096a",
   "metadata": {},
   "outputs": [],
   "source": [
    "from stacLib.ard_stac_search import Astac\n"
   ]
  },
  {
   "cell_type": "code",
   "execution_count": 2,
   "id": "7ea2eb90-f48a-439a-8e19-cb8c049bbb3f",
   "metadata": {},
   "outputs": [],
   "source": [
    "my_date='2021-04-12'"
   ]
  },
  {
   "cell_type": "code",
   "execution_count": 3,
   "id": "d727b9a4-4a13-431e-817f-2c20a0584ff1",
   "metadata": {},
   "outputs": [],
   "source": [
    "\n",
    "stac_config = {}\n",
    "\n",
    "stac_config['url'] = 'https://landsatlook.usgs.gov/stac-server'\n",
    "stac_config['fav_collection'] = 'landsat-c2ard-sr'\n",
    "stac_config['description'] = 'Landsat Collection 2 ARD Tiles Surface Reflection'\n"
   ]
  },
  {
   "cell_type": "code",
   "execution_count": 4,
   "id": "6fbec1c3-da55-4c1b-ac6b-f09db9fe1869",
   "metadata": {},
   "outputs": [],
   "source": [
    "H='21'\n",
    "V='10'\n",
    "YEAR=2021\n"
   ]
  },
  {
   "cell_type": "code",
   "execution_count": 5,
   "id": "4883aa07-cb43-44af-ac72-101f472d20c0",
   "metadata": {},
   "outputs": [
    {
     "name": "stdout",
     "output_type": "stream",
     "text": [
      "https://landsatlook.usgs.gov/stac-server\n",
      "landsat-c2ard-sr\n",
      "['landsat-c2l2-sr', 'landsat-c2l2-st', 'landsat-c2ard-st', 'landsat-c2l2alb-bt', 'landsat-c2l3-fsca', 'landsat-c2ard-bt', 'landsat-c2l1', 'landsat-c2l3-ba', 'landsat-c2l2alb-st', 'landsat-c2ard-sr', 'landsat-c2l2alb-sr', 'landsat-c2l2alb-ta', 'landsat-c2l3-dswe', 'landsat-c2ard-ta']\n",
      "                    id  \\\n",
      "0      landsat-c2l2-sr   \n",
      "1      landsat-c2l2-st   \n",
      "2     landsat-c2ard-st   \n",
      "3   landsat-c2l2alb-bt   \n",
      "4    landsat-c2l3-fsca   \n",
      "5     landsat-c2ard-bt   \n",
      "6         landsat-c2l1   \n",
      "7      landsat-c2l3-ba   \n",
      "8   landsat-c2l2alb-st   \n",
      "9     landsat-c2ard-sr   \n",
      "10  landsat-c2l2alb-sr   \n",
      "11  landsat-c2l2alb-ta   \n",
      "12   landsat-c2l3-dswe   \n",
      "13    landsat-c2ard-ta   \n",
      "\n",
      "                                                                                                               title  \n",
      "0                                                  Landsat Collection 2 Level-2 UTM Surface Reflectance (SR) Product  \n",
      "1                                                  Landsat Collection 2 Level-2 UTM Surface Temperature (ST) Product  \n",
      "2                        Landsat Collection 2 Analysis Ready Data (ARD) Level-2 UTM Surface Temperature (ST) Product  \n",
      "3                          Landsat Collection 2 Level-2 Albers Top of Atmosphere Brightness Temperature (BT) Product  \n",
      "4                                           Landsat Collection 2 Level-3 Fractional Snow Covered Area (fSCA) Product  \n",
      "5   Landsat Collection 2 Analysis Ready Data (ARD) Level-2 UTM Top of Atmosphere Brightness Temperature (BT) Product  \n",
      "6                                                                               Landsat Collection 2 Level-1 Product  \n",
      "7                                                              Landsat Collection 2 Level-3 Burned Area (BA) Product  \n",
      "8                                               Landsat Collection 2 Level-2 Albers Surface Temperature (ST) Product  \n",
      "9                        Landsat Collection 2 Analysis Ready Data (ARD) Level-2 UTM Surface Reflectance (SR) Product  \n",
      "10                                              Landsat Collection 2 Level-2 Albers Surface Reflectance (SR) Product  \n",
      "11                                    Landsat Collection 2 Level-2 Albers Top of Atmosphere (TA) Reflectance Product  \n",
      "12                                          Landsat Collection 2 Level-3 Dynamic Surface Water Extent (DSWE) Product  \n",
      "13             Landsat Collection 2 Analysis Ready Data (ARD) Level-2 UTM Top of Atmosphere (TA) Reflectance Product  \n"
     ]
    }
   ],
   "source": [
    "_stac = Astac(stac_config)\n",
    "\n",
    "print(_stac.collection())\n",
    "print(_stac.collections_list())\n",
    "print(_stac.collections_df())\n"
   ]
  },
  {
   "cell_type": "code",
   "execution_count": 6,
   "id": "544bbe94-29a7-4448-9532-282bce1d2297",
   "metadata": {},
   "outputs": [
    {
     "name": "stdout",
     "output_type": "stream",
     "text": [
      "None 2021-04-12 99\n",
      "1 items found\n"
     ]
    }
   ],
   "source": [
    "date_range_text = my_date\n",
    "cloud_cover_pct_max = '99'\n",
    "_assets = _stac.get_my_assets(None, H, V, date_range_text, cloud_cover_pct_max)\n",
    "\n",
    "asset_df = _stac.fav_fields_df(_assets)\n"
   ]
  },
  {
   "cell_type": "code",
   "execution_count": 7,
   "id": "7ec5e7f9-9bc5-4dc7-9687-f79762d13319",
   "metadata": {},
   "outputs": [],
   "source": [
    "# print(asset_df.head())\n",
    "# print(asset_df.columns)\n",
    "# print(_assets[0]['properties'].keys())\n"
   ]
  },
  {
   "cell_type": "code",
   "execution_count": 8,
   "id": "0281c1b1-7938-47bc-82a4-8f6c60eda98b",
   "metadata": {},
   "outputs": [
    {
     "data": {
      "text/html": [
       "<div>\n",
       "<style scoped>\n",
       "    .dataframe tbody tr th:only-of-type {\n",
       "        vertical-align: middle;\n",
       "    }\n",
       "\n",
       "    .dataframe tbody tr th {\n",
       "        vertical-align: top;\n",
       "    }\n",
       "\n",
       "    .dataframe thead th {\n",
       "        text-align: right;\n",
       "    }\n",
       "</style>\n",
       "<table border=\"1\" class=\"dataframe\">\n",
       "  <thead>\n",
       "    <tr style=\"text-align: right;\">\n",
       "      <th></th>\n",
       "      <th>product</th>\n",
       "      <th>date</th>\n",
       "      <th>grid</th>\n",
       "      <th>h</th>\n",
       "      <th>v</th>\n",
       "      <th>cc</th>\n",
       "      <th>fill</th>\n",
       "      <th>thumbnail</th>\n",
       "      <th>reduced_resolution_browse</th>\n",
       "      <th>blue</th>\n",
       "      <th>green</th>\n",
       "      <th>red</th>\n",
       "      <th>nir08</th>\n",
       "      <th>swir16</th>\n",
       "      <th>swir22</th>\n",
       "    </tr>\n",
       "  </thead>\n",
       "  <tbody>\n",
       "    <tr>\n",
       "      <th>0</th>\n",
       "      <td>usgs-landsat-ard-collection02-sr</td>\n",
       "      <td>2021-04-12T16:29:37.286414Z</td>\n",
       "      <td>CU</td>\n",
       "      <td>21</td>\n",
       "      <td>10</td>\n",
       "      <td>0.3311</td>\n",
       "      <td>16.3515</td>\n",
       "      <td>s3://usgs-landsat-ard/collection02/oli-tirs/2021/CU/021/010/LC08_CU_021010_20210412_20210504_02/LC08_CU_021010_20210412_20210504_02_thumb_small.jpeg</td>\n",
       "      <td>s3://usgs-landsat-ard/collection02/oli-tirs/2021/CU/021/010/LC08_CU_021010_20210412_20210504_02/LC08_CU_021010_20210412_20210504_02_thumb_large.jpeg</td>\n",
       "      <td>s3://usgs-landsat-ard/collection02/oli-tirs/2021/CU/021/010/LC08_CU_021010_20210412_20210504_02/LC08_CU_021010_20210412_20210504_02_SR_B2.TIF</td>\n",
       "      <td>s3://usgs-landsat-ard/collection02/oli-tirs/2021/CU/021/010/LC08_CU_021010_20210412_20210504_02/LC08_CU_021010_20210412_20210504_02_SR_B3.TIF</td>\n",
       "      <td>s3://usgs-landsat-ard/collection02/oli-tirs/2021/CU/021/010/LC08_CU_021010_20210412_20210504_02/LC08_CU_021010_20210412_20210504_02_SR_B4.TIF</td>\n",
       "      <td>s3://usgs-landsat-ard/collection02/oli-tirs/2021/CU/021/010/LC08_CU_021010_20210412_20210504_02/LC08_CU_021010_20210412_20210504_02_SR_B5.TIF</td>\n",
       "      <td>s3://usgs-landsat-ard/collection02/oli-tirs/2021/CU/021/010/LC08_CU_021010_20210412_20210504_02/LC08_CU_021010_20210412_20210504_02_SR_B6.TIF</td>\n",
       "      <td>s3://usgs-landsat-ard/collection02/oli-tirs/2021/CU/021/010/LC08_CU_021010_20210412_20210504_02/LC08_CU_021010_20210412_20210504_02_SR_B7.TIF</td>\n",
       "    </tr>\n",
       "  </tbody>\n",
       "</table>\n",
       "</div>"
      ],
      "text/plain": [
       "                            product                         date grid   h   v  \\\n",
       "0  usgs-landsat-ard-collection02-sr  2021-04-12T16:29:37.286414Z   CU  21  10   \n",
       "\n",
       "       cc     fill  \\\n",
       "0  0.3311  16.3515   \n",
       "\n",
       "                                                                                                                                              thumbnail  \\\n",
       "0  s3://usgs-landsat-ard/collection02/oli-tirs/2021/CU/021/010/LC08_CU_021010_20210412_20210504_02/LC08_CU_021010_20210412_20210504_02_thumb_small.jpeg   \n",
       "\n",
       "                                                                                                                              reduced_resolution_browse  \\\n",
       "0  s3://usgs-landsat-ard/collection02/oli-tirs/2021/CU/021/010/LC08_CU_021010_20210412_20210504_02/LC08_CU_021010_20210412_20210504_02_thumb_large.jpeg   \n",
       "\n",
       "                                                                                                                                            blue  \\\n",
       "0  s3://usgs-landsat-ard/collection02/oli-tirs/2021/CU/021/010/LC08_CU_021010_20210412_20210504_02/LC08_CU_021010_20210412_20210504_02_SR_B2.TIF   \n",
       "\n",
       "                                                                                                                                           green  \\\n",
       "0  s3://usgs-landsat-ard/collection02/oli-tirs/2021/CU/021/010/LC08_CU_021010_20210412_20210504_02/LC08_CU_021010_20210412_20210504_02_SR_B3.TIF   \n",
       "\n",
       "                                                                                                                                             red  \\\n",
       "0  s3://usgs-landsat-ard/collection02/oli-tirs/2021/CU/021/010/LC08_CU_021010_20210412_20210504_02/LC08_CU_021010_20210412_20210504_02_SR_B4.TIF   \n",
       "\n",
       "                                                                                                                                           nir08  \\\n",
       "0  s3://usgs-landsat-ard/collection02/oli-tirs/2021/CU/021/010/LC08_CU_021010_20210412_20210504_02/LC08_CU_021010_20210412_20210504_02_SR_B5.TIF   \n",
       "\n",
       "                                                                                                                                          swir16  \\\n",
       "0  s3://usgs-landsat-ard/collection02/oli-tirs/2021/CU/021/010/LC08_CU_021010_20210412_20210504_02/LC08_CU_021010_20210412_20210504_02_SR_B6.TIF   \n",
       "\n",
       "                                                                                                                                          swir22  \n",
       "0  s3://usgs-landsat-ard/collection02/oli-tirs/2021/CU/021/010/LC08_CU_021010_20210412_20210504_02/LC08_CU_021010_20210412_20210504_02_SR_B7.TIF  "
      ]
     },
     "execution_count": 8,
     "metadata": {},
     "output_type": "execute_result"
    }
   ],
   "source": [
    "asset_df"
   ]
  },
  {
   "cell_type": "code",
   "execution_count": 9,
   "id": "ee98cbe6-79a7-48f0-bfd6-cbc152889f50",
   "metadata": {},
   "outputs": [],
   "source": [
    "my_green_url = asset_df['green'].values[0]"
   ]
  },
  {
   "cell_type": "code",
   "execution_count": 10,
   "id": "8803b7a9-e264-4790-a7c8-aa9bcf253c05",
   "metadata": {},
   "outputs": [
    {
     "data": {
      "text/plain": [
       "'s3://usgs-landsat-ard/collection02/oli-tirs/2021/CU/021/010/LC08_CU_021010_20210412_20210504_02/LC08_CU_021010_20210412_20210504_02_SR_B3.TIF'"
      ]
     },
     "execution_count": 10,
     "metadata": {},
     "output_type": "execute_result"
    }
   ],
   "source": [
    "my_green_url"
   ]
  },
  {
   "cell_type": "code",
   "execution_count": 11,
   "id": "b68ef196-42c5-405f-a0c0-38c9842e9930",
   "metadata": {},
   "outputs": [],
   "source": [
    "stac_config['fav_collection'] = 'landsat-c2l3-dswe'"
   ]
  },
  {
   "cell_type": "code",
   "execution_count": 12,
   "id": "11ff756e-81f4-49b3-b4da-953e8ada02e4",
   "metadata": {},
   "outputs": [
    {
     "name": "stdout",
     "output_type": "stream",
     "text": [
      "https://landsatlook.usgs.gov/stac-server\n"
     ]
    }
   ],
   "source": [
    "_stac = Astac(stac_config)"
   ]
  },
  {
   "cell_type": "code",
   "execution_count": 13,
   "id": "e31b314e-5600-4697-a7d2-b89d73eda53d",
   "metadata": {},
   "outputs": [
    {
     "name": "stdout",
     "output_type": "stream",
     "text": [
      "None 2021-04-12 99\n",
      "1 items found\n"
     ]
    }
   ],
   "source": [
    "_assets = _stac.get_my_assets(None, H, V, date_range_text, cloud_cover_pct_max)"
   ]
  },
  {
   "cell_type": "code",
   "execution_count": 14,
   "id": "37bed7d1-2cce-4980-b487-aed05b3df56e",
   "metadata": {},
   "outputs": [
    {
     "data": {
      "text/plain": [
       "dict_keys(['index', 'diag', 'intr', 'intsm', 'inwam', 'mask', 'shade', 'xml', 'json'])"
      ]
     },
     "execution_count": 14,
     "metadata": {},
     "output_type": "execute_result"
    }
   ],
   "source": [
    "_assets[0]['assets'].keys()"
   ]
  },
  {
   "cell_type": "code",
   "execution_count": 15,
   "id": "e74f0b5b-806b-4411-9555-66b8496b2997",
   "metadata": {},
   "outputs": [],
   "source": [
    "my_dswe_intsw_url = _assets[0]['assets']['intsm']['alternate']['s3']['href']"
   ]
  },
  {
   "cell_type": "code",
   "execution_count": 16,
   "id": "656e5191-16fb-4bb4-86ca-96b778d3df08",
   "metadata": {},
   "outputs": [
    {
     "data": {
      "text/plain": [
       "'s3://usgs-landsat-level-3/collection02/DSWE/2021/CU/021/010/LC08_CU_021010_20210412_20210504_02_DSWE/LC08_CU_021010_20210412_20210504_02_INTSM.TIF'"
      ]
     },
     "execution_count": 16,
     "metadata": {},
     "output_type": "execute_result"
    }
   ],
   "source": [
    "my_dswe_intsw_url"
   ]
  },
  {
   "cell_type": "code",
   "execution_count": null,
   "id": "158753f1-6956-46bc-ba36-3f9a6ed90afd",
   "metadata": {},
   "outputs": [],
   "source": []
  }
 ],
 "metadata": {
  "kernelspec": {
   "display_name": "Python 3 (ipykernel)",
   "language": "python",
   "name": "python3"
  },
  "language_info": {
   "codemirror_mode": {
    "name": "ipython",
    "version": 3
   },
   "file_extension": ".py",
   "mimetype": "text/x-python",
   "name": "python",
   "nbconvert_exporter": "python",
   "pygments_lexer": "ipython3",
   "version": "3.11.6"
  }
 },
 "nbformat": 4,
 "nbformat_minor": 5
}
