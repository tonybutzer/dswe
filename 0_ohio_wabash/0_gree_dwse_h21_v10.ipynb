{
 "cells": [
  {
   "cell_type": "code",
   "execution_count": null,
   "id": "c28e4f31-dbae-4e72-95d8-5a80a8b2096a",
   "metadata": {},
   "outputs": [],
   "source": [
    "from stacLib.ard_stac_search import Astac"
   ]
  },
  {
   "cell_type": "code",
   "execution_count": null,
   "id": "7ea2eb90-f48a-439a-8e19-cb8c049bbb3f",
   "metadata": {},
   "outputs": [],
   "source": [
    "my_date='2021-04-12'"
   ]
  },
  {
   "cell_type": "code",
   "execution_count": null,
   "id": "d727b9a4-4a13-431e-817f-2c20a0584ff1",
   "metadata": {},
   "outputs": [],
   "source": [
    "\n",
    "stac_config = {}\n",
    "\n",
    "stac_config['url'] = 'https://landsatlook.usgs.gov/stac-server'\n",
    "stac_config['fav_collection'] = 'landsat-c2ard-sr'\n",
    "stac_config['description'] = 'Landsat Collection 2 ARD Tiles Surface Reflection'\n"
   ]
  },
  {
   "cell_type": "code",
   "execution_count": null,
   "id": "6fbec1c3-da55-4c1b-ac6b-f09db9fe1869",
   "metadata": {},
   "outputs": [],
   "source": [
    "H='21'\n",
    "V='10'\n",
    "YEAR=2021\n"
   ]
  },
  {
   "cell_type": "code",
   "execution_count": null,
   "id": "4883aa07-cb43-44af-ac72-101f472d20c0",
   "metadata": {},
   "outputs": [],
   "source": [
    "_stac = Astac(stac_config)\n",
    "\n",
    "print(_stac.collection())\n",
    "print(_stac.collections_list())\n",
    "print(_stac.collections_df())\n"
   ]
  },
  {
   "cell_type": "code",
   "execution_count": null,
   "id": "544bbe94-29a7-4448-9532-282bce1d2297",
   "metadata": {},
   "outputs": [],
   "source": [
    "date_range_text = my_date\n",
    "cloud_cover_pct_max = '99'\n",
    "_assets = _stac.get_my_assets(None, H, V, date_range_text, cloud_cover_pct_max)\n",
    "\n",
    "asset_df = _stac.fav_fields_df(_assets)\n"
   ]
  },
  {
   "cell_type": "code",
   "execution_count": null,
   "id": "7ec5e7f9-9bc5-4dc7-9687-f79762d13319",
   "metadata": {},
   "outputs": [],
   "source": [
    "# print(asset_df.head())\n",
    "# print(asset_df.columns)\n",
    "# print(_assets[0]['properties'].keys())\n"
   ]
  },
  {
   "cell_type": "code",
   "execution_count": null,
   "id": "0281c1b1-7938-47bc-82a4-8f6c60eda98b",
   "metadata": {},
   "outputs": [],
   "source": [
    "asset_df"
   ]
  },
  {
   "cell_type": "code",
   "execution_count": null,
   "id": "ee98cbe6-79a7-48f0-bfd6-cbc152889f50",
   "metadata": {},
   "outputs": [],
   "source": [
    "my_green_url = asset_df['green'].values[0]"
   ]
  },
  {
   "cell_type": "code",
   "execution_count": null,
   "id": "8803b7a9-e264-4790-a7c8-aa9bcf253c05",
   "metadata": {},
   "outputs": [],
   "source": [
    "my_green_url"
   ]
  },
  {
   "cell_type": "code",
   "execution_count": null,
   "id": "b68ef196-42c5-405f-a0c0-38c9842e9930",
   "metadata": {},
   "outputs": [],
   "source": [
    "stac_config['fav_collection'] = 'landsat-c2l3-dswe'"
   ]
  },
  {
   "cell_type": "code",
   "execution_count": null,
   "id": "11ff756e-81f4-49b3-b4da-953e8ada02e4",
   "metadata": {},
   "outputs": [],
   "source": [
    "_stac = Astac(stac_config)"
   ]
  },
  {
   "cell_type": "code",
   "execution_count": null,
   "id": "e31b314e-5600-4697-a7d2-b89d73eda53d",
   "metadata": {},
   "outputs": [],
   "source": [
    "_assets = _stac.get_my_assets(None, H, V, date_range_text, cloud_cover_pct_max)"
   ]
  },
  {
   "cell_type": "code",
   "execution_count": null,
   "id": "37bed7d1-2cce-4980-b487-aed05b3df56e",
   "metadata": {},
   "outputs": [],
   "source": [
    "_assets[0]['assets'].keys()"
   ]
  },
  {
   "cell_type": "code",
   "execution_count": null,
   "id": "e74f0b5b-806b-4411-9555-66b8496b2997",
   "metadata": {},
   "outputs": [],
   "source": [
    "my_dswe_intsw_url = _assets[0]['assets']['intsm']['alternate']['s3']['href']"
   ]
  },
  {
   "cell_type": "code",
   "execution_count": null,
   "id": "656e5191-16fb-4bb4-86ca-96b778d3df08",
   "metadata": {},
   "outputs": [],
   "source": [
    "my_dswe_intsw_url"
   ]
  },
  {
   "cell_type": "code",
   "execution_count": null,
   "id": "158753f1-6956-46bc-ba36-3f9a6ed90afd",
   "metadata": {},
   "outputs": [],
   "source": []
  }
 ],
 "metadata": {
  "kernelspec": {
   "display_name": "Python 3 (ipykernel)",
   "language": "python",
   "name": "python3"
  },
  "language_info": {
   "codemirror_mode": {
    "name": "ipython",
    "version": 3
   },
   "file_extension": ".py",
   "mimetype": "text/x-python",
   "name": "python",
   "nbconvert_exporter": "python",
   "pygments_lexer": "ipython3",
   "version": "3.11.6"
  }
 },
 "nbformat": 4,
 "nbformat_minor": 5
}
