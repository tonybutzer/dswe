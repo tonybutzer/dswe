{
 "cells": [
  {
   "cell_type": "code",
   "execution_count": 1,
   "id": "fea1f0cc-a9a9-41b6-a85c-aa2b00bf91bc",
   "metadata": {},
   "outputs": [],
   "source": [
    "import numpy as np\n",
    "from pystac_client import Client\n",
    "import rasterio as rio\n",
    "from rasterio.windows import Window\n",
    "import boto3\n",
    "from tqdm import tqdm\n",
    "import tqdm.notebook as tq\n",
    "\n",
    "from typing import List, TypedDict, Tuple"
   ]
  },
  {
   "cell_type": "code",
   "execution_count": 2,
   "id": "9e5f0c36-1d47-4f9c-97e6-ba491af6ef5b",
   "metadata": {},
   "outputs": [
    {
     "name": "stdout",
     "output_type": "stream",
     "text": [
      "4405\n"
     ]
    }
   ],
   "source": [
    "h = 16\n",
    "v = 5\n",
    "region = 'CU'\n",
    "#bands = ['blue', 'green', 'red', 'nir08', 'swir16', 'swir22', 'qa_pixel']\n",
    "#bands = ['diag', 'intr', 'intsm', 'inwam', 'mask', 'shade']\n",
    "#bands = ['diag']\n",
    "bands = ['intsm']\n",
    "\n",
    "#cp = configparser.ConfigParser()\n",
    "#cp.read(os.path.join(os.environ['HOME'],'.aws','credentials'))\n",
    "#key = cp['default']['aws_access_key_id']\n",
    "#secret = cp['default']['aws_secret_access_key']\n",
    "\n",
    "stac = Client.open('https://landsatlook.usgs.gov/stac-server')\n",
    "\n",
    "query = stac.search(collections=['landsat-c2l3-dswe'],\n",
    "                    datetime='1980-01-01/2024-01-01',\n",
    "                    query={'landsat:grid_horizontal': {'eq': f'{h:02}'},\n",
    "                           'landsat:grid_vertical': {'eq': f'{v:02}'},\n",
    "                           'landsat:grid_region': {'eq': region},\n",
    "                           #'',\n",
    "                           #'platform': {'eq': 'LANDSAT_8'},\n",
    "                          }\n",
    "                   )\n",
    "\n",
    "stuff = query.get_all_items_as_dict()['features']\n",
    "# dates = [pd.to_datetime(r['properties']['datetime'], utc=True) for r in stuff]\n",
    "\n",
    "\n",
    "print(len(stuff))"
   ]
  },
  {
   "cell_type": "code",
   "execution_count": 3,
   "id": "4847f7d9-3c59-4999-b071-29c0dae8b1ba",
   "metadata": {},
   "outputs": [],
   "source": [
    "def session() -> rio.session.AWSSession:\n",
    "    \"\"\"\n",
    "    Generate a rasterio AWS Session for reading data\n",
    "    \"\"\"\n",
    "    return rio.session.AWSSession(boto3.Session(), requester_pays=True)\n",
    "\n",
    "def open_tif(path: str):\n",
    "    \"\"\"\n",
    "    Open a tif file\n",
    "    \"\"\"\n",
    "    with rio.Env(session(), GDAL_DISABLE_READDIR_ON_OPEN='EMPTY_DIR'):\n",
    "        return rio.open(path)\n",
    "\n",
    "def read_tif(path: str, band: int = 1, window: Window = None):\n",
    "    return open_tif(path).read(band, window=window)\n",
    "\n",
    "def read_ls_data(item, band, window):\n",
    "    return read_tif(item['assets'][band]['alternate']['s3']['href'], window=window)\n",
    "\n",
    "def read_obs_chip(item, window, bands):\n",
    "    return {b: read_ls_data(item, b, window) for b in bands}"
   ]
  },
  {
   "cell_type": "code",
   "execution_count": 4,
   "id": "1d2644f0-f490-405a-b3dc-be80983f582b",
   "metadata": {},
   "outputs": [],
   "source": [
    "in_path = stuff[0]['assets']['intsm']['alternate']['s3']['href']"
   ]
  },
  {
   "cell_type": "code",
   "execution_count": 5,
   "id": "b4b8ba22-e3cf-414e-86dd-3bf8e1983822",
   "metadata": {},
   "outputs": [],
   "source": [
    "class DataStack(TypedDict):\n",
    "    \"\"\"\n",
    "    Container for storing chip data\n",
    "    \"\"\"\n",
    "    h: int\n",
    "    v: int\n",
    "    window: Window\n",
    "    acquired: List[str]\n",
    "    data: np.ndarray\n",
    "\n",
    "def sum_squares(arrs: List[np.ndarray]) -> np.ndarray:\n",
    "    \"\"\"\n",
    "    Square and then sum all the values (element wise) in the given arrays\n",
    "    \"\"\"\n",
    "    return np.ma.sum([np.ma.power(a, 2) for a in arrs], axis=0)\n",
    "\n",
    "def difference(arr1: np.ndarray, arr2: np.ndarray) -> np.ndarray:\n",
    "    \"\"\"\n",
    "    Difference the two given arrays\n",
    "    \"\"\"\n",
    "    return arr1 - arr2\n",
    "\n",
    "def difference_absolute(arr1: np.ndarray, arr2: np.ndarray) -> np.ndarray:\n",
    "    \"\"\"\n",
    "    Calculate the absolute distance between the values in the two different arrays\n",
    "    \"\"\"\n",
    "    return np.abs(difference(arr1, arr2))\n",
    "\n",
    "def difference_median(arr: np.ndarray) -> np.ndarray:\n",
    "    \"\"\"\n",
    "    Calculate the absolute difference each value is from the median\n",
    "    \"\"\"\n",
    "    return difference_absolute(arr,\n",
    "                               np.ma.median(arr, axis=0))\n",
    "def dstack_idx(idxs: np.ndarray) -> Tuple[np.ndarray, np.ndarray, np.ndarray]:\n",
    "    \"\"\"\n",
    "    Takes 2-d index returns from numpy.argmin or numpy.argmax on a stack where axis=0 and turns it into\n",
    "    a tuple of tuples for indexing back into the 3-d array\n",
    "    \"\"\"\n",
    "    return (idxs,\n",
    "            np.repeat(np.arange(256).reshape(-1, 1), repeats=256, axis=1),\n",
    "            np.array(list(range(256)) * 256).reshape(256, 256))\n",
    "\n",
    "def distance_overall(spectral_stacks: dict) -> Tuple[np.ndarray, np.ndarray, np.ndarray]:\n",
    "    \"\"\"\n",
    "    Return the per-pixel index location for observations that come closest to the overall median value\n",
    "    \"\"\"\n",
    "    #euc_dist = np.ma.sqrt(sum_squares([difference_median(spectral_stacks[k]) for k in spectral_stacks]))\n",
    "    euc_dist = ((spectral_stacks[k]) for k in spectral_stacks)\n",
    "\n",
    "    return dstack_idx(np.ma.argmin(euc_dist, axis=0))\n",
    "\n",
    "def value_mask(arr: np.ndarray, value: int):\n",
    "    \"\"\"\n",
    "    Create a mask where the specified value exists in the given array\n",
    "    \"\"\"\n",
    "    return arr == value\n",
    "\n",
    "def bitmask(arr: np.ndarray, bit: int) -> np.ndarray:\n",
    "    \"\"\"\n",
    "    Create a boolean mask for where the bit is set in the given array\n",
    "    \"\"\"\n",
    "    bit_val = 1 << bit\n",
    "    return value_mask(arr & bit_val, bit_val)\n",
    "\n",
    "def landsat_collection2(qa_arr: np.ndarray) -> np.ndarray:\n",
    "    \"\"\"\n",
    "    Provide a default interpretation of the Landsat Collection 2 pixel quality\n",
    "    layer for masking\n",
    "\n",
    "    Reference:\n",
    "    https://www.usgs.gov/media/files/landsat-8-9-olitirs-collection-2-level-2-data-format-control-book\n",
    "    \"\"\"\n",
    "    return (bitmask(qa_arr, 0) |\n",
    "             bitmask(qa_arr, 2) |\n",
    "             bitmask(qa_arr, 3) |\n",
    "             bitmask(qa_arr, 4) |\n",
    "             bitmask(qa_arr, 5) |\n",
    "             bitmask(qa_arr, 7))\n",
    "\n",
    "def assemble_stacks(items, bands, window):\n",
    "    out = {b: np.zeros(shape=(len(items), 256, 256), dtype=np.uint16) for b in bands}\n",
    "\n",
    "    p_bar=tq.tqdm(range(len(items)), position=0, leave=True)\n",
    "    for idx, item in enumerate(items):\n",
    "        p_bar.update(1)\n",
    "        p_bar.refresh()\n",
    "        for b in bands:\n",
    "            lsd = read_ls_data(item, b, window)\n",
    "            out[b][idx][:lsd.shape[0], :lsd.shape[1]] = lsd\n",
    "    \n",
    "\n",
    "   # mask = landsat_collection2(out.pop('qa_pixel'))\n",
    "    #return {k: np.ma.masked_array(val, dtype=val.dtype, mask=mask)\n",
    "      #      for k, val in out.items()}\n",
    "    return out"
   ]
  },
  {
   "cell_type": "code",
   "execution_count": 6,
   "id": "10da833d-6b7f-4621-a9fa-c851909a8bdb",
   "metadata": {},
   "outputs": [],
   "source": [
    "def median_distance(items, bands, window):\n",
    "    data = assemble_stacks(items, bands, window)\n",
    "    \n",
    "    indxs = distance_overall(data)\n",
    "    New_median_distance_data =  {k: val[indxs] for k, val in data.items()}\n",
    "    return (data)\n",
    "    #return dstack_idx(np.ma.argmin(data, axis=0))\n",
    "    #return data"
   ]
  },
  {
   "cell_type": "code",
   "execution_count": 7,
   "id": "d681b43a-5ccc-40d2-96da-fca91ef6a5a2",
   "metadata": {},
   "outputs": [
    {
     "data": {
      "text/plain": [
       "'s3://usgs-landsat-level-3/collection02/DSWE/2023/CU/016/005/LC09_CU_016005_20231105_20231109_02_DSWE/LC09_CU_016005_20231105_20231109_02_INTSM.TIF'"
      ]
     },
     "execution_count": 7,
     "metadata": {},
     "output_type": "execute_result"
    }
   ],
   "source": [
    "in_path"
   ]
  },
  {
   "cell_type": "code",
   "execution_count": 8,
   "id": "e129e94b-be3b-44fa-8c42-5b4192c345ef",
   "metadata": {},
   "outputs": [
    {
     "data": {
      "application/vnd.jupyter.widget-view+json": {
       "model_id": "2d5da3277aa246daa1552fd8a90521c1",
       "version_major": 2,
       "version_minor": 0
      },
      "text/plain": [
       "  0%|          | 0/4405 [00:00<?, ?it/s]"
      ]
     },
     "metadata": {},
     "output_type": "display_data"
    },
    {
     "name": "stdout",
     "output_type": "stream",
     "text": [
      "CPU times: user 1min 36s, sys: 5.12 s, total: 1min 41s\n",
      "Wall time: 14min 30s\n"
     ]
    }
   ],
   "source": [
    "%%time\n",
    "window = Window(0, 0, 256, 256)\n",
    "\n",
    "data = median_distance(stuff, bands, window)"
   ]
  },
  {
   "cell_type": "code",
   "execution_count": 9,
   "id": "c12ba749-d6dc-43dd-af3a-981e984f76b2",
   "metadata": {},
   "outputs": [
    {
     "data": {
      "text/plain": [
       "dict"
      ]
     },
     "execution_count": 9,
     "metadata": {},
     "output_type": "execute_result"
    }
   ],
   "source": [
    "type(data)"
   ]
  },
  {
   "cell_type": "code",
   "execution_count": 10,
   "id": "2a85eef0-3d23-45b3-b156-3fe771a7b425",
   "metadata": {},
   "outputs": [
    {
     "data": {
      "text/plain": [
       "dict_keys(['intsm'])"
      ]
     },
     "execution_count": 10,
     "metadata": {},
     "output_type": "execute_result"
    }
   ],
   "source": [
    "data.keys()"
   ]
  },
  {
   "cell_type": "code",
   "execution_count": 11,
   "id": "9ccd240f-d4b3-40bc-9e59-91cd58b46de0",
   "metadata": {},
   "outputs": [
    {
     "data": {
      "text/plain": [
       "numpy.ndarray"
      ]
     },
     "execution_count": 11,
     "metadata": {},
     "output_type": "execute_result"
    }
   ],
   "source": [
    "type (data['intsm'])"
   ]
  },
  {
   "cell_type": "code",
   "execution_count": 12,
   "id": "fd3bd7d3-26c0-459c-9303-910bfe020f1a",
   "metadata": {},
   "outputs": [
    {
     "data": {
      "text/plain": [
       "(4405, 256, 256)"
      ]
     },
     "execution_count": 12,
     "metadata": {},
     "output_type": "execute_result"
    }
   ],
   "source": [
    "data['intsm'].shape"
   ]
  },
  {
   "cell_type": "code",
   "execution_count": 13,
   "id": "2c0cfe3a-7b3f-4a20-af97-64590a633e2d",
   "metadata": {},
   "outputs": [],
   "source": [
    "import matplotlib.pyplot as plt"
   ]
  },
  {
   "cell_type": "code",
   "execution_count": 15,
   "id": "0c69f276-a5e2-4687-9913-c7f129373110",
   "metadata": {},
   "outputs": [
    {
     "data": {
      "text/plain": [
       "<matplotlib.image.AxesImage at 0x7feaad3b0b10>"
      ]
     },
     "execution_count": 15,
     "metadata": {},
     "output_type": "execute_result"
    },
    {
     "data": {
      "image/png": "[encoded data removed]",
      "text/plain": [
       "<Figure size 640x480 with 1 Axes>"
      ]
     },
     "metadata": {},
     "output_type": "display_data"
    }
   ],
   "source": [
    "plt.imshow(data['intsm'][0], cmap='prism')"
   ]
  },
  {
   "cell_type": "code",
   "execution_count": 17,
   "id": "a07fbb2e-32cd-4a81-88d6-c394715628fb",
   "metadata": {},
   "outputs": [
    {
     "data": {
      "text/plain": [
       "255"
      ]
     },
     "execution_count": 17,
     "metadata": {},
     "output_type": "execute_result"
    }
   ],
   "source": [
    "data['intsm'][0].min()"
   ]
  },
  {
   "cell_type": "code",
   "execution_count": 18,
   "id": "893c21ed-b3fd-497b-a1ad-80f7c474c596",
   "metadata": {},
   "outputs": [
    {
     "data": {
      "text/plain": [
       "255"
      ]
     },
     "execution_count": 18,
     "metadata": {},
     "output_type": "execute_result"
    }
   ],
   "source": [
    "data['intsm'][0].max()"
   ]
  },
  {
   "cell_type": "code",
   "execution_count": 16,
   "id": "575c2119-4d6a-478e-93c0-372ad714ac03",
   "metadata": {},
   "outputs": [
    {
     "data": {
      "text/plain": [
       "(array([[0., 0., 0., ..., 0., 0., 0.],\n",
       "        [0., 0., 0., ..., 0., 0., 0.],\n",
       "        [0., 0., 0., ..., 0., 0., 0.],\n",
       "        ...,\n",
       "        [0., 0., 0., ..., 0., 0., 0.],\n",
       "        [0., 0., 0., ..., 0., 0., 0.],\n",
       "        [0., 0., 0., ..., 0., 0., 0.]]),\n",
       " array([254.5, 254.6, 254.7, 254.8, 254.9, 255. , 255.1, 255.2, 255.3,\n",
       "        255.4, 255.5]),\n",
       " <a list of 256 BarContainer objects>)"
      ]
     },
     "execution_count": 16,
     "metadata": {},
     "output_type": "execute_result"
    },
    {
     "data": {
      "image/png": "[encoded data removed]",
      "text/plain": [
       "<Figure size 640x480 with 1 Axes>"
      ]
     },
     "metadata": {},
     "output_type": "display_data"
    }
   ],
   "source": [
    "plt.hist(data['intsm'][0])b"
   ]
  },
  {
   "cell_type": "code",
   "execution_count": null,
   "id": "4f558e1e-eccd-42fd-befe-2ed25eff477a",
   "metadata": {},
   "outputs": [],
   "source": [
    "ary = data['intsm']"
   ]
  },
  {
   "cell_type": "code",
   "execution_count": null,
   "id": "6847a381-3053-475c-97cb-348d8eca0e8b",
   "metadata": {},
   "outputs": [],
   "source": [
    "ary[0:]"
   ]
  },
  {
   "cell_type": "code",
   "execution_count": null,
   "id": "43fa2307-e37a-4ffd-800d-46c596c78393",
   "metadata": {},
   "outputs": [],
   "source": [
    "plt.hist(ary[0], bins=50)"
   ]
  },
  {
   "cell_type": "code",
   "execution_count": null,
   "id": "85a2eebe-3ecf-432b-bf1a-efb41e77c56d",
   "metadata": {},
   "outputs": [],
   "source": [
    "ary[0].shape"
   ]
  },
  {
   "cell_type": "code",
   "execution_count": null,
   "id": "b3342075-7d21-45ff-86b8-dd05868b894f",
   "metadata": {},
   "outputs": [],
   "source": [
    "ary[1]"
   ]
  },
  {
   "cell_type": "code",
   "execution_count": null,
   "id": "f73664bf-c4f3-4f0c-8d18-5559e608118a",
   "metadata": {},
   "outputs": [],
   "source": [
    "ary[0]"
   ]
  },
  {
   "cell_type": "code",
   "execution_count": null,
   "id": "e134d81d-2e8b-452d-8b59-36f45154943b",
   "metadata": {},
   "outputs": [],
   "source": [
    "ary[200]"
   ]
  },
  {
   "cell_type": "code",
   "execution_count": null,
   "id": "a46c3b84-e044-4374-8f21-677e1f046f47",
   "metadata": {},
   "outputs": [],
   "source": []
  }
 ],
 "metadata": {
  "kernelspec": {
   "display_name": "Python 3 (ipykernel)",
   "language": "python",
   "name": "python3"
  },
  "language_info": {
   "codemirror_mode": {
    "name": "ipython",
    "version": 3
   },
   "file_extension": ".py",
   "mimetype": "text/x-python",
   "name": "python",
   "nbconvert_exporter": "python",
   "pygments_lexer": "ipython3",
   "version": "3.11.6"
  }
 },
 "nbformat": 4,
 "nbformat_minor": 5
}
