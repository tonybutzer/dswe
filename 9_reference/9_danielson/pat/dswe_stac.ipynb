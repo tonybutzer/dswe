{
 "cells": [
  {
   "cell_type": "code",
   "execution_count": 1,
   "id": "a50f4285-e8ab-4f2e-8682-868bdb7106de",
   "metadata": {},
   "outputs": [],
   "source": [
    "from stacLib.ard_stac_search import Astac\n",
    "import rasterio as rio\n",
    "from rasterio.windows import Window\n",
    "\n",
    "import sys\n",
    "import os\n",
    "import numpy as np\n",
    "import random\n",
    "#import tqdm.notebook as tq\n",
    "import tqdm as tq\n",
    "import zarr\n",
    "\n",
    "os.environ['AWS_REQUEST_PAYER']='requester'"
   ]
  },
  {
   "cell_type": "code",
   "execution_count": 2,
   "id": "2f67bb7b-c1fe-4281-9bc6-ada8cec22b6d",
   "metadata": {},
   "outputs": [],
   "source": [
    "bfn = 's3://usgs-landsat-level-3/collection02/DSWE/2021/CU/021/010/LC08_CU_021010_20210412_20210504_02_DSWE/LC08_CU_021010_20210412_20210504_02_INTSM.TIF'"
   ]
  },
  {
   "cell_type": "markdown",
   "id": "59ce9b3b-9a06-408b-a22f-01dda54242ea",
   "metadata": {},
   "source": [
    "data\\landsat_level_3_products\\DSWE\\h16v04\\2021\\LC08_CU_016004_20210927_20211004_02_DIAG.tif'"
   ]
  },
  {
   "cell_type": "code",
   "execution_count": 3,
   "id": "d0dba687-0cb8-4b2c-aa38-90ac2373a4e1",
   "metadata": {},
   "outputs": [],
   "source": [
    "bfn = 's3://usgs-landsat-level-3/collection02/DSWE/2021/CU/021/010/LC08_CU_021010_20210412_20210504_02_DSWE/LC08_CU_016004_20210927_20211004_02_DIAG.tif'"
   ]
  },
  {
   "cell_type": "code",
   "execution_count": 4,
   "id": "921b2c8a-4673-4c81-b853-a0b2268932cc",
   "metadata": {},
   "outputs": [],
   "source": [
    "from stacLib.ard_stac_search import Astac"
   ]
  },
  {
   "cell_type": "code",
   "execution_count": 5,
   "id": "b9135e59-2a18-48bd-a176-34ddce7f50b6",
   "metadata": {},
   "outputs": [],
   "source": [
    "my_date='2021-04-12'"
   ]
  },
  {
   "cell_type": "code",
   "execution_count": 6,
   "id": "330f84e7-ef30-4528-bc82-042c876658c7",
   "metadata": {},
   "outputs": [],
   "source": [
    "H='21'\n",
    "V='10'"
   ]
  },
  {
   "cell_type": "code",
   "execution_count": 7,
   "id": "67255ff8-4ba0-482b-81ff-d6261113a675",
   "metadata": {},
   "outputs": [],
   "source": [
    "stac_config = {}\n",
    "\n",
    "stac_config['url'] = 'https://landsatlook.usgs.gov/stac-server'\n",
    "stac_config['fav_collection'] = 'landsat-c2l3-dswe'\n",
    "stac_config['description'] = 'not important'"
   ]
  },
  {
   "cell_type": "code",
   "execution_count": 8,
   "id": "1f35f4aa-5428-4dd1-81bb-7e01b61633b7",
   "metadata": {},
   "outputs": [
    {
     "name": "stdout",
     "output_type": "stream",
     "text": [
      "https://landsatlook.usgs.gov/stac-server\n"
     ]
    }
   ],
   "source": [
    "_stac = Astac(stac_config)\n"
   ]
  },
  {
   "cell_type": "code",
   "execution_count": 9,
   "id": "965a0d2b-c052-45b8-951a-694a6cd2e510",
   "metadata": {},
   "outputs": [
    {
     "name": "stdout",
     "output_type": "stream",
     "text": [
      "None 2021-04-12 99\n"
     ]
    },
    {
     "name": "stderr",
     "output_type": "stream",
     "text": [
      "/data/mambaforge/envs/water/lib/python3.11/site-packages/pystac_client/item_search.py:865: FutureWarning: get_all_items_as_dict() is deprecated, use item_collection_as_dict() instead.\n",
      "  warnings.warn(\n"
     ]
    },
    {
     "name": "stdout",
     "output_type": "stream",
     "text": [
      "1 items found\n"
     ]
    }
   ],
   "source": [
    "date_range_text = my_date\n",
    "cloud_cover_pct_max = '99'\n",
    "_assets = _stac.get_my_assets(None, H, V, date_range_text, cloud_cover_pct_max)\n",
    "\n",
    "asset_df = _stac.fav_fields_df(_assets)"
   ]
  },
  {
   "cell_type": "code",
   "execution_count": 10,
   "id": "c87d5d2e-7d8a-450f-9fd3-a4d2f89db6c1",
   "metadata": {},
   "outputs": [
    {
     "data": {
      "text/plain": [
       "dict_keys(['index', 'diag', 'intr', 'intsm', 'inwam', 'mask', 'shade', 'xml', 'json'])"
      ]
     },
     "execution_count": 10,
     "metadata": {},
     "output_type": "execute_result"
    }
   ],
   "source": [
    "_assets[0]['assets'].keys()"
   ]
  },
  {
   "cell_type": "code",
   "execution_count": 11,
   "id": "36db8f3d-665d-4083-bf4c-195359e59be6",
   "metadata": {},
   "outputs": [],
   "source": [
    "my_dswe_intsw_url = _assets[0]['assets']['intsm']['alternate']['s3']['href']"
   ]
  },
  {
   "cell_type": "code",
   "execution_count": 12,
   "id": "3e56b8e1-feef-4a6d-8883-7b03f4976415",
   "metadata": {},
   "outputs": [
    {
     "data": {
      "text/plain": [
       "'s3://usgs-landsat-level-3/collection02/DSWE/2021/CU/021/010/LC08_CU_021010_20210412_20210504_02_DSWE/LC08_CU_021010_20210412_20210504_02_INTSM.TIF'"
      ]
     },
     "execution_count": 12,
     "metadata": {},
     "output_type": "execute_result"
    }
   ],
   "source": [
    "my_dswe_intsw_url"
   ]
  },
  {
   "cell_type": "code",
   "execution_count": 13,
   "id": "00487186-70ad-4ea9-8858-3daccf99ce8b",
   "metadata": {},
   "outputs": [],
   "source": [
    "my_dswe_diag_url = _assets[0]['assets']['diag']['alternate']['s3']['href']"
   ]
  },
  {
   "cell_type": "code",
   "execution_count": 14,
   "id": "9fa79d0b-3ac4-45b3-a4b6-b9a94f77f5c0",
   "metadata": {},
   "outputs": [
    {
     "name": "stdout",
     "output_type": "stream",
     "text": [
      "1\n"
     ]
    }
   ],
   "source": [
    "with rio.open(my_dswe_diag_url ) as dswe:\n",
    "    dswe_data = dswe.read(1)\n",
    "    dswe.profile\n",
    "    print(dswe.count)"
   ]
  },
  {
   "cell_type": "code",
   "execution_count": 31,
   "id": "0c8484d4-5a92-42ae-bd7e-7cc951809bf8",
   "metadata": {},
   "outputs": [
    {
     "data": {
      "text/plain": [
       "array([[-9999, -9999, -9999, ...,     0,     0,     0],\n",
       "       [-9999, -9999, -9999, ...,     0,     0,     0],\n",
       "       [-9999, -9999, -9999, ...,     0,     0,     0],\n",
       "       ...,\n",
       "       [-9999, -9999, -9999, ...,     0,     0,     0],\n",
       "       [-9999, -9999, -9999, ...,     0,     0,     0],\n",
       "       [-9999, -9999, -9999, ...,     0,     0,     0]], dtype=int16)"
      ]
     },
     "execution_count": 31,
     "metadata": {},
     "output_type": "execute_result"
    }
   ],
   "source": [
    "dswe_data"
   ]
  },
  {
   "cell_type": "code",
   "execution_count": 33,
   "id": "58e9677e-dc64-4199-8694-f8276c55501d",
   "metadata": {},
   "outputs": [
    {
     "data": {
      "text/plain": [
       "(5000, 5000)"
      ]
     },
     "execution_count": 33,
     "metadata": {},
     "output_type": "execute_result"
    }
   ],
   "source": [
    "dswe_data.shape"
   ]
  },
  {
   "cell_type": "code",
   "execution_count": 15,
   "id": "e0cd14ba-f8ca-4da7-92a3-03c531f18d88",
   "metadata": {},
   "outputs": [],
   "source": [
    "values = np.unique(dswe_data)"
   ]
  },
  {
   "cell_type": "code",
   "execution_count": 16,
   "id": "dd0dab20-8380-4c76-8d09-faeb37b568be",
   "metadata": {},
   "outputs": [
    {
     "data": {
      "text/plain": [
       "(26,)"
      ]
     },
     "execution_count": 16,
     "metadata": {},
     "output_type": "execute_result"
    }
   ],
   "source": [
    "values.shape"
   ]
  },
  {
   "cell_type": "code",
   "execution_count": 17,
   "id": "e5ff7f45-ef0c-4d04-aa0d-648f917860a3",
   "metadata": {},
   "outputs": [],
   "source": [
    "out_data = {}"
   ]
  },
  {
   "cell_type": "code",
   "execution_count": 18,
   "id": "c5eeef1a-ff18-437e-8fcc-280df340931d",
   "metadata": {},
   "outputs": [],
   "source": [
    "out_data = np.zeros_like(values, dtype=np.uint8)"
   ]
  },
  {
   "cell_type": "code",
   "execution_count": 19,
   "id": "dcb12bbd-9435-4538-96fc-d57e27588091",
   "metadata": {},
   "outputs": [
    {
     "data": {
      "text/plain": [
       "array([0, 0, 0, 0, 0, 0, 0, 0, 0, 0, 0, 0, 0, 0, 0, 0, 0, 0, 0, 0, 0, 0,\n",
       "       0, 0, 0, 0], dtype=uint8)"
      ]
     },
     "execution_count": 19,
     "metadata": {},
     "output_type": "execute_result"
    }
   ],
   "source": [
    "out_data"
   ]
  },
  {
   "cell_type": "code",
   "execution_count": 20,
   "id": "1ba45250-fd23-46b9-ae89-8d1530265611",
   "metadata": {},
   "outputs": [
    {
     "data": {
      "text/plain": [
       "(26,)"
      ]
     },
     "execution_count": 20,
     "metadata": {},
     "output_type": "execute_result"
    }
   ],
   "source": [
    "out_data.shape"
   ]
  },
  {
   "cell_type": "code",
   "execution_count": 21,
   "id": "9bb2833c-1c07-4dbc-85f1-89328e1c5cd4",
   "metadata": {},
   "outputs": [],
   "source": [
    "# confident water\n",
    "out_data[np.where((values == 1111) | (values == 10111) | (values == 11011) | (values == 11101) | (values == 11110) | (values == 11111))] = 1\n",
    "\n",
    "out_data[np.where((values == 111) | (values == 1011) | (values == 1101) | (values == 1110) | (values == 10011) | (values == 10101) | (values == 10110) | (values == 11001) | (values == 11010) | (values == 11100))] = 2\n",
    "\n",
    "out_data[np.where(values == 11000)] = 3\n",
    "\n",
    "out_data[np.where((values == 11) | (values == 101) | (values == 101) | (values == 110) | (values == 1001) | (values == 1010) | (values == 1100) | (values == 10000) | (values == 10001) | (values == 10010) | (values == 10100))] = 4\n",
    "\n"
   ]
  },
  {
   "cell_type": "code",
   "execution_count": 22,
   "id": "22177027-2cd9-423a-bbd8-fb6ca6d0d282",
   "metadata": {},
   "outputs": [
    {
     "data": {
      "text/plain": [
       "array([0, 0, 0, 0, 4, 0, 4, 2, 4, 2, 1, 4, 4, 4, 2, 4, 2, 1, 3, 2, 2, 1,\n",
       "       2, 1, 1, 1], dtype=uint8)"
      ]
     },
     "execution_count": 22,
     "metadata": {},
     "output_type": "execute_result"
    }
   ],
   "source": [
    "out_data"
   ]
  },
  {
   "cell_type": "code",
   "execution_count": 23,
   "id": "e57c5cb3-c5e0-46ce-95dd-23cd0e2ba75a",
   "metadata": {},
   "outputs": [],
   "source": [
    "check = np.unique(out_data)"
   ]
  },
  {
   "cell_type": "code",
   "execution_count": 24,
   "id": "c47d0928-b8f9-48e4-9bb8-05a284054cf7",
   "metadata": {},
   "outputs": [
    {
     "data": {
      "text/plain": [
       "(5,)"
      ]
     },
     "execution_count": 24,
     "metadata": {},
     "output_type": "execute_result"
    }
   ],
   "source": [
    "check.shape"
   ]
  },
  {
   "cell_type": "code",
   "execution_count": 25,
   "id": "fa23f7db-7eb1-4760-8556-46a387a0824a",
   "metadata": {},
   "outputs": [
    {
     "data": {
      "text/plain": [
       "array([0, 1, 2, 3, 4], dtype=uint8)"
      ]
     },
     "execution_count": 25,
     "metadata": {},
     "output_type": "execute_result"
    }
   ],
   "source": [
    "check"
   ]
  },
  {
   "cell_type": "code",
   "execution_count": 26,
   "id": "8e635405-a3e5-4a43-bcf3-532ea9d4abf7",
   "metadata": {},
   "outputs": [],
   "source": [
    "out_data = np.where(check == -9999, 0, check)"
   ]
  },
  {
   "cell_type": "code",
   "execution_count": 27,
   "id": "1d006eee-7b8d-4b04-8191-d793cfba8024",
   "metadata": {},
   "outputs": [],
   "source": [
    "# shape array with 1 rows and5 columns\n",
    "array2 = check.reshape(1, 5)"
   ]
  },
  {
   "cell_type": "code",
   "execution_count": 28,
   "id": "e546873e-c83a-4763-9ceb-ff6849a7a1f7",
   "metadata": {},
   "outputs": [],
   "source": [
    "# Register GDAL format drivers and configuration options with a\n",
    "# context manager.\n",
    "with rio.Env():\n",
    "\n",
    "    # Write an array as a raster band to a new 8-bit file. For\n",
    "    # the new file's profile, we start with the profile of the source\n",
    "    profile = dswe.profile\n",
    "    \n",
    "\n",
    "    # And then change the band count to 1, set the\n",
    "    # dtype to uint8, and specify LZW compression.\n",
    "    profile.update(\n",
    "        dtype=rio.uint8,\n",
    "        count=1,\n",
    "        nodata=0,\n",
    "        compress='lzw')\n",
    "\n",
    "    with rio.open('example.tif', 'w', **profile) as dst:\n",
    "        dst.write(array2.astype(rio.uint8), 1)\n",
    "\n",
    "# At the end of the ``with rasterio.Env()`` block, context\n",
    "# manager exits and all drivers are de-registered."
   ]
  },
  {
   "cell_type": "code",
   "execution_count": 29,
   "id": "b168c17b-3fc5-468a-8ff0-db71a84d37c0",
   "metadata": {},
   "outputs": [
    {
     "name": "stdout",
     "output_type": "stream",
     "text": [
      "Driver: GTiff/GeoTIFF\n",
      "Files: example.tif\n",
      "Size is 5000, 5000\n",
      "Coordinate System is:\n",
      "PROJCRS[\"Albers\",\n",
      "    BASEGEOGCRS[\"WGS 84\",\n",
      "        DATUM[\"World Geodetic System 1984\",\n",
      "            ELLIPSOID[\"WGS 84\",6378137,298.257223563,\n",
      "                LENGTHUNIT[\"metre\",1]]],\n",
      "        PRIMEM[\"Greenwich\",0,\n",
      "            ANGLEUNIT[\"degree\",0.0174532925199433]],\n",
      "        ID[\"EPSG\",4326]],\n",
      "    CONVERSION[\"Albers Equal Area\",\n",
      "        METHOD[\"Albers Equal Area\",\n",
      "            ID[\"EPSG\",9822]],\n",
      "        PARAMETER[\"Latitude of false origin\",23,\n",
      "            ANGLEUNIT[\"degree\",0.0174532925199433],\n",
      "            ID[\"EPSG\",8821]],\n",
      "        PARAMETER[\"Longitude of false origin\",-96,\n",
      "            ANGLEUNIT[\"degree\",0.0174532925199433],\n",
      "            ID[\"EPSG\",8822]],\n",
      "        PARAMETER[\"Latitude of 1st standard parallel\",29.5,\n",
      "            ANGLEUNIT[\"degree\",0.0174532925199433],\n",
      "            ID[\"EPSG\",8823]],\n",
      "        PARAMETER[\"Latitude of 2nd standard parallel\",45.5,\n",
      "            ANGLEUNIT[\"degree\",0.0174532925199433],\n",
      "            ID[\"EPSG\",8824]],\n",
      "        PARAMETER[\"Easting at false origin\",0,\n",
      "            LENGTHUNIT[\"metre\",1],\n",
      "            ID[\"EPSG\",8826]],\n",
      "        PARAMETER[\"Northing at false origin\",0,\n",
      "            LENGTHUNIT[\"metre\",1],\n",
      "            ID[\"EPSG\",8827]]],\n",
      "    CS[Cartesian,2],\n",
      "        AXIS[\"easting\",east,\n",
      "            ORDER[1],\n",
      "            LENGTHUNIT[\"metre\",1,\n",
      "                ID[\"EPSG\",9001]]],\n",
      "        AXIS[\"northing\",north,\n",
      "            ORDER[2],\n",
      "            LENGTHUNIT[\"metre\",1,\n",
      "                ID[\"EPSG\",9001]]]]\n",
      "Data axis to CRS axis mapping: 1,2\n",
      "Origin = (584415.000000000000000,1814805.000000000000000)\n",
      "Pixel Size = (30.000000000000000,-30.000000000000000)\n",
      "Metadata:\n",
      "  AREA_OR_POINT=Area\n",
      "Image Structure Metadata:\n",
      "  COMPRESSION=LZW\n",
      "  INTERLEAVE=BAND\n",
      "Corner Coordinates:\n",
      "Upper Left  (  584415.000, 1814805.000) ( 89d10' 1.54\"W, 39d10' 6.29\"N)\n",
      "Lower Left  (  584415.000, 1664805.000) ( 89d17'26.53\"W, 37d50' 0.71\"N)\n",
      "Upper Right (  734415.000, 1814805.000) ( 87d25'18.70\"W, 39d 3'36.05\"N)\n",
      "Lower Right (  734415.000, 1664805.000) ( 87d34'36.26\"W, 37d43'37.50\"N)\n",
      "Center      (  659415.000, 1739805.000) ( 88d21'50.76\"W, 38d27' 1.15\"N)\n",
      "Band 1 Block=256x256 Type=Byte, ColorInterp=Gray\n",
      "  NoData Value=0\n"
     ]
    }
   ],
   "source": [
    "! gdalinfo example.tif"
   ]
  },
  {
   "cell_type": "code",
   "execution_count": 35,
   "id": "09099d03-6c47-439b-a687-b61d211704b0",
   "metadata": {},
   "outputs": [
    {
     "name": "stdout",
     "output_type": "stream",
     "text": [
      "1\n"
     ]
    }
   ],
   "source": [
    "with rio.open('example.tif') as example:\n",
    "    example_data = example.read(1)\n",
    "    print(example.count)"
   ]
  },
  {
   "cell_type": "code",
   "execution_count": 36,
   "id": "e6e861c4-b392-475c-a5b1-88d92ed51a51",
   "metadata": {},
   "outputs": [
    {
     "data": {
      "text/plain": [
       "(5000, 5000)"
      ]
     },
     "execution_count": 36,
     "metadata": {},
     "output_type": "execute_result"
    }
   ],
   "source": [
    "example_data.shape"
   ]
  },
  {
   "cell_type": "code",
   "execution_count": 37,
   "id": "73b7ed01-5934-42e1-ac48-184e7514e647",
   "metadata": {},
   "outputs": [
    {
     "data": {
      "text/plain": [
       "array([[0, 0, 0, ..., 4, 4, 4],\n",
       "       [0, 0, 0, ..., 4, 4, 4],\n",
       "       [0, 0, 0, ..., 4, 4, 4],\n",
       "       ...,\n",
       "       [0, 0, 0, ..., 4, 4, 4],\n",
       "       [0, 0, 0, ..., 4, 4, 4],\n",
       "       [0, 0, 0, ..., 4, 4, 4]], dtype=uint8)"
      ]
     },
     "execution_count": 37,
     "metadata": {},
     "output_type": "execute_result"
    }
   ],
   "source": [
    "example_data"
   ]
  },
  {
   "cell_type": "code",
   "execution_count": 38,
   "id": "524eb6fe-3976-4abe-a8ef-12ff219a0242",
   "metadata": {},
   "outputs": [],
   "source": [
    "import numpy as np\n",
    "\n",
    "# Your original array of shape (1, 5)\n",
    "original_array = array2\n",
    "\n",
    "# Replicate the original array to create a (5000, 5000) array\n",
    "larger_array = np.tile(original_array, (5000, 5000 // 5))\n",
    "\n",
    "# If the size is not an exact multiple of 5, you may need to adjust the shape\n",
    "larger_array = larger_array[:, :5000]\n",
    "\n",
    "# Now, larger_array is a (5000, 5000) numpy array with the original_array values repeated\n"
   ]
  },
  {
   "cell_type": "code",
   "execution_count": 40,
   "id": "bfa51c00-5007-47c6-8bb8-00e874210592",
   "metadata": {},
   "outputs": [],
   "source": [
    "# Register GDAL format drivers and configuration options with a\n",
    "# context manager.\n",
    "with rio.Env():\n",
    "\n",
    "    # Write an array as a raster band to a new 8-bit file. For\n",
    "    # the new file's profile, we start with the profile of the source\n",
    "    profile = dswe.profile\n",
    "    \n",
    "\n",
    "    # And then change the band count to 1, set the\n",
    "    # dtype to uint8, and specify LZW compression.\n",
    "    profile.update(\n",
    "        dtype=rio.uint8,\n",
    "        count=1,\n",
    "        nodata=0,\n",
    "        compress='lzw')\n",
    "\n",
    "    with rio.open('larger.tif', 'w', **profile) as dst:\n",
    "        dst.write(larger_array.astype(rio.uint8), 1)\n",
    "\n",
    "# At the end of the ``with rasterio.Env()`` block, context\n",
    "# manager exits and all drivers are de-registered."
   ]
  },
  {
   "cell_type": "code",
   "execution_count": 41,
   "id": "fac409c5-d938-4344-998d-0733fb1cd47e",
   "metadata": {},
   "outputs": [
    {
     "name": "stdout",
     "output_type": "stream",
     "text": [
      "1\n"
     ]
    }
   ],
   "source": [
    "with rio.open('larger.tif') as example:\n",
    "    example_data = example.read(1)\n",
    "    print(example.count)"
   ]
  },
  {
   "cell_type": "code",
   "execution_count": 42,
   "id": "26c4f0e6-3060-436f-ac80-47c68e136550",
   "metadata": {},
   "outputs": [
    {
     "data": {
      "text/plain": [
       "array([[0, 1, 2, ..., 2, 3, 4],\n",
       "       [0, 1, 2, ..., 2, 3, 4],\n",
       "       [0, 1, 2, ..., 2, 3, 4],\n",
       "       ...,\n",
       "       [0, 1, 2, ..., 2, 3, 4],\n",
       "       [0, 1, 2, ..., 2, 3, 4],\n",
       "       [0, 1, 2, ..., 2, 3, 4]], dtype=uint8)"
      ]
     },
     "execution_count": 42,
     "metadata": {},
     "output_type": "execute_result"
    }
   ],
   "source": [
    "example_data"
   ]
  },
  {
   "cell_type": "code",
   "execution_count": 43,
   "id": "ab2a8573-e0de-456c-8d7d-e191e5fe56ba",
   "metadata": {},
   "outputs": [
    {
     "name": "stdout",
     "output_type": "stream",
     "text": [
      "Driver: GTiff/GeoTIFF\n",
      "Files: larger.tif\n",
      "Size is 5000, 5000\n",
      "Coordinate System is:\n",
      "PROJCRS[\"Albers\",\n",
      "    BASEGEOGCRS[\"WGS 84\",\n",
      "        DATUM[\"World Geodetic System 1984\",\n",
      "            ELLIPSOID[\"WGS 84\",6378137,298.257223563,\n",
      "                LENGTHUNIT[\"metre\",1]]],\n",
      "        PRIMEM[\"Greenwich\",0,\n",
      "            ANGLEUNIT[\"degree\",0.0174532925199433]],\n",
      "        ID[\"EPSG\",4326]],\n",
      "    CONVERSION[\"Albers Equal Area\",\n",
      "        METHOD[\"Albers Equal Area\",\n",
      "            ID[\"EPSG\",9822]],\n",
      "        PARAMETER[\"Latitude of false origin\",23,\n",
      "            ANGLEUNIT[\"degree\",0.0174532925199433],\n",
      "            ID[\"EPSG\",8821]],\n",
      "        PARAMETER[\"Longitude of false origin\",-96,\n",
      "            ANGLEUNIT[\"degree\",0.0174532925199433],\n",
      "            ID[\"EPSG\",8822]],\n",
      "        PARAMETER[\"Latitude of 1st standard parallel\",29.5,\n",
      "            ANGLEUNIT[\"degree\",0.0174532925199433],\n",
      "            ID[\"EPSG\",8823]],\n",
      "        PARAMETER[\"Latitude of 2nd standard parallel\",45.5,\n",
      "            ANGLEUNIT[\"degree\",0.0174532925199433],\n",
      "            ID[\"EPSG\",8824]],\n",
      "        PARAMETER[\"Easting at false origin\",0,\n",
      "            LENGTHUNIT[\"metre\",1],\n",
      "            ID[\"EPSG\",8826]],\n",
      "        PARAMETER[\"Northing at false origin\",0,\n",
      "            LENGTHUNIT[\"metre\",1],\n",
      "            ID[\"EPSG\",8827]]],\n",
      "    CS[Cartesian,2],\n",
      "        AXIS[\"easting\",east,\n",
      "            ORDER[1],\n",
      "            LENGTHUNIT[\"metre\",1,\n",
      "                ID[\"EPSG\",9001]]],\n",
      "        AXIS[\"northing\",north,\n",
      "            ORDER[2],\n",
      "            LENGTHUNIT[\"metre\",1,\n",
      "                ID[\"EPSG\",9001]]]]\n",
      "Data axis to CRS axis mapping: 1,2\n",
      "Origin = (584415.000000000000000,1814805.000000000000000)\n",
      "Pixel Size = (30.000000000000000,-30.000000000000000)\n",
      "Metadata:\n",
      "  AREA_OR_POINT=Area\n",
      "Image Structure Metadata:\n",
      "  COMPRESSION=LZW\n",
      "  INTERLEAVE=BAND\n",
      "Corner Coordinates:\n",
      "Upper Left  (  584415.000, 1814805.000) ( 89d10' 1.54\"W, 39d10' 6.29\"N)\n",
      "Lower Left  (  584415.000, 1664805.000) ( 89d17'26.53\"W, 37d50' 0.71\"N)\n",
      "Upper Right (  734415.000, 1814805.000) ( 87d25'18.70\"W, 39d 3'36.05\"N)\n",
      "Lower Right (  734415.000, 1664805.000) ( 87d34'36.26\"W, 37d43'37.50\"N)\n",
      "Center      (  659415.000, 1739805.000) ( 88d21'50.76\"W, 38d27' 1.15\"N)\n",
      "Band 1 Block=256x256 Type=Byte, ColorInterp=Gray\n",
      "  NoData Value=0\n"
     ]
    }
   ],
   "source": [
    "!gdalinfo larger.tif"
   ]
  },
  {
   "cell_type": "code",
   "execution_count": null,
   "id": "d16d36c0-e916-451d-a44e-b615a8cac62f",
   "metadata": {},
   "outputs": [],
   "source": []
  }
 ],
 "metadata": {
  "kernelspec": {
   "display_name": "Python 3 (ipykernel)",
   "language": "python",
   "name": "python3"
  },
  "language_info": {
   "codemirror_mode": {
    "name": "ipython",
    "version": 3
   },
   "file_extension": ".py",
   "mimetype": "text/x-python",
   "name": "python",
   "nbconvert_exporter": "python",
   "pygments_lexer": "ipython3",
   "version": "3.11.6"
  }
 },
 "nbformat": 4,
 "nbformat_minor": 5
}
