{
 "cells": [
  {
   "cell_type": "code",
   "execution_count": 1,
   "id": "5cfda156-fbfe-4e8f-a071-a27529b6589f",
   "metadata": {},
   "outputs": [
    {
     "name": "stdout",
     "output_type": "stream",
     "text": [
      "env: AWS_REQUEST_PAYER=requester\n"
     ]
    }
   ],
   "source": [
    "%env AWS_REQUEST_PAYER=requester"
   ]
  },
  {
   "cell_type": "code",
   "execution_count": 2,
   "id": "cc7f6fda-ca36-4f85-b6d0-285b77780e08",
   "metadata": {},
   "outputs": [],
   "source": [
    "from stacLib.ard_stac_search import Astac\n",
    "import rasterio as rio\n",
    "from rasterio.windows import Window\n",
    "\n",
    "import numpy as np\n",
    "import tqdm.notebook as tq\n",
    "import zarr"
   ]
  },
  {
   "cell_type": "code",
   "execution_count": 3,
   "id": "664e617d-016b-46e2-8e1a-e91e7d23f9de",
   "metadata": {},
   "outputs": [],
   "source": [
    "my_date='2020-01-01/2024-12-31'"
   ]
  },
  {
   "cell_type": "code",
   "execution_count": 4,
   "id": "8d1116c1-7b02-4950-8e13-aea9c33b6901",
   "metadata": {},
   "outputs": [],
   "source": [
    "stac_config = {}\n",
    "\n",
    "stac_config['url'] = 'https://landsatlook.usgs.gov/stac-server'\n",
    "stac_config['fav_collection'] = 'landsat-c2l3-dswe'\n",
    "stac_config['description'] = 'Landsat Collection 2 ARD Tiles DSWE'\n"
   ]
  },
  {
   "cell_type": "code",
   "execution_count": 5,
   "id": "db70bb1c-d92c-4a54-91d2-d6fba2779985",
   "metadata": {},
   "outputs": [],
   "source": [
    "H='21'\n",
    "V='10'\n",
    "YEAR=2021"
   ]
  },
  {
   "cell_type": "code",
   "execution_count": 6,
   "id": "afef8df6-0a58-4c47-acff-8e878cbe9ac2",
   "metadata": {},
   "outputs": [
    {
     "name": "stdout",
     "output_type": "stream",
     "text": [
      "https://landsatlook.usgs.gov/stac-server\n"
     ]
    }
   ],
   "source": [
    "_stac = Astac(stac_config)"
   ]
  },
  {
   "cell_type": "code",
   "execution_count": 7,
   "id": "9a67e506-b782-4e70-8c03-ce0653314efb",
   "metadata": {},
   "outputs": [
    {
     "name": "stdout",
     "output_type": "stream",
     "text": [
      "None 2020-01-01/2024-12-31 100\n",
      "440 items found\n"
     ]
    }
   ],
   "source": [
    "date_range_text = my_date\n",
    "cloud_cover_pct_max = '100'\n",
    "_assets = _stac.get_my_assets(None, H, V, date_range_text, cloud_cover_pct_max)"
   ]
  },
  {
   "cell_type": "code",
   "execution_count": 8,
   "id": "c769ad13-33ed-4731-9ec2-806ed0e81497",
   "metadata": {},
   "outputs": [
    {
     "data": {
      "text/plain": [
       "{'start_datetime': '2023-10-26T16:36:06.7757460Z',\n",
       " 'end_datetime': '2023-10-26T16:36:30.6582900Z',\n",
       " 'datetime': '2023-10-26T16:36:18.717018Z',\n",
       " 'platform': 'LANDSAT_9',\n",
       " 'instruments': ['OLI', 'TIRS'],\n",
       " 'landsat:grid_horizontal': '21',\n",
       " 'landsat:grid_vertical': '10',\n",
       " 'landsat:grid_region': 'CU',\n",
       " 'landsat:scene_count': 2,\n",
       " 'eo:cloud_cover': 93.1232,\n",
       " 'landsat:cloud_shadow_cover': 5.4688,\n",
       " 'landsat:snow_ice_cover': 0.0006,\n",
       " 'landsat:fill': 45.423,\n",
       " 'proj:epsg': None,\n",
       " 'proj:shape': [5000, 5000],\n",
       " 'proj:transform': [30, 0, 584415, 0, -30, 1814805],\n",
       " 'created': '2023-10-30T14:11:01.126Z',\n",
       " 'updated': '2023-10-30T14:11:01.126Z'}"
      ]
     },
     "execution_count": 8,
     "metadata": {},
     "output_type": "execute_result"
    }
   ],
   "source": [
    "_assets[0]['properties']"
   ]
  },
  {
   "cell_type": "code",
   "execution_count": 9,
   "id": "9716f48e-7f14-402f-9941-224da11e4515",
   "metadata": {},
   "outputs": [],
   "source": [
    "\n",
    "def read_tif(path: str, band: int = 1, window: Window = None):\n",
    "    return rio.open(path).read(band, window=window)\n",
    "\n",
    "def read_ls_data(item, band, window):\n",
    "    return read_tif(item['assets'][band]['alternate']['s3']['href'], window=window)"
   ]
  },
  {
   "cell_type": "code",
   "execution_count": 10,
   "id": "fbc80072-9b9b-434c-a057-8629e4c9a125",
   "metadata": {},
   "outputs": [
    {
     "data": {
      "text/plain": [
       "440"
      ]
     },
     "execution_count": 10,
     "metadata": {},
     "output_type": "execute_result"
    }
   ],
   "source": [
    "len(_assets)"
   ]
  },
  {
   "cell_type": "code",
   "execution_count": 11,
   "id": "1dc3cda1-618d-468d-9506-f0ec6c372bd1",
   "metadata": {},
   "outputs": [],
   "source": [
    "# Initialize 3d array time Y X"
   ]
  },
  {
   "cell_type": "code",
   "execution_count": 12,
   "id": "f89822cc-cfb1-4a71-ad94-a47d2d7b2a28",
   "metadata": {},
   "outputs": [],
   "source": [
    "window = Window(0, 0, 256, 256)"
   ]
  },
  {
   "cell_type": "code",
   "execution_count": 13,
   "id": "482cc5ec-f09b-4709-9bdd-c1a5ac85f1ce",
   "metadata": {},
   "outputs": [],
   "source": [
    "big3d_ary = np.zeros(shape=(len(_assets), 256, 256), dtype=np.uint16)"
   ]
  },
  {
   "cell_type": "code",
   "execution_count": 15,
   "id": "3825057e-a977-4471-8606-d859a0ab6aef",
   "metadata": {},
   "outputs": [
    {
     "data": {
      "text/plain": [
       "(440, 256, 256)"
      ]
     },
     "execution_count": 15,
     "metadata": {},
     "output_type": "execute_result"
    }
   ],
   "source": [
    "big3d_ary.shape"
   ]
  },
  {
   "cell_type": "code",
   "execution_count": 16,
   "id": "7fa218fc-77f1-4d00-a257-557882b362fa",
   "metadata": {},
   "outputs": [
    {
     "data": {
      "application/vnd.jupyter.widget-view+json": {
       "model_id": "461e36ed78894e25893277311d481c45",
       "version_major": 2,
       "version_minor": 0
      },
      "text/plain": [
       "  0%|          | 0/440 [00:00<?, ?it/s]"
      ]
     },
     "metadata": {},
     "output_type": "display_data"
    },
    {
     "name": "stdout",
     "output_type": "stream",
     "text": [
      "CPU times: user 11 s, sys: 763 ms, total: 11.8 s\n",
      "Wall time: 1min 44s\n"
     ]
    }
   ],
   "source": [
    "%%time\n",
    "p_bar=tq.tqdm(range(len(_assets)), position=0, leave=True)\n",
    "myband='intsm'\n",
    "for t1 in range(len(_assets)):\n",
    "    item = _assets[t1]\n",
    "    big3d_ary[t1] = read_ls_data(item, myband, window)\n",
    "    p_bar.update(1)\n",
    "    p_bar.refresh()"
   ]
  },
  {
   "cell_type": "code",
   "execution_count": 17,
   "id": "0023f49f-76e0-4b30-b21f-1be5d8cc4ad4",
   "metadata": {},
   "outputs": [],
   "source": [
    "Y=0\n",
    "X=0\n",
    "Z_store = f's3://eccoe-scratch/dwse/{H}{V}_{Y}{X}.zarr_store'"
   ]
  },
  {
   "cell_type": "code",
   "execution_count": 18,
   "id": "8067f084-7655-4a87-b861-9ad701edd57a",
   "metadata": {},
   "outputs": [
    {
     "name": "stdout",
     "output_type": "stream",
     "text": [
      "(440, 256, 256)\n",
      "CPU times: user 878 ms, sys: 97.2 ms, total: 975 ms\n",
      "Wall time: 1.51 s\n"
     ]
    }
   ],
   "source": [
    "%%time\n",
    "# Save the 3D NumPy array as a Zarr array\n",
    "zarr.save(Z_store, big3d_ary)\n",
    "\n",
    "# To load the Zarr array back into a NumPy array\n",
    "loaded_array = zarr.load(Z_store)\n",
    "\n",
    "# Verify the loaded array\n",
    "print(loaded_array.shape)"
   ]
  },
  {
   "cell_type": "code",
   "execution_count": null,
   "id": "f6c5b1d4-6b90-4572-b697-489faa3d69aa",
   "metadata": {},
   "outputs": [],
   "source": []
  }
 ],
 "metadata": {
  "kernelspec": {
   "display_name": "Python 3 (ipykernel)",
   "language": "python",
   "name": "python3"
  },
  "language_info": {
   "codemirror_mode": {
    "name": "ipython",
    "version": 3
   },
   "file_extension": ".py",
   "mimetype": "text/x-python",
   "name": "python",
   "nbconvert_exporter": "python",
   "pygments_lexer": "ipython3",
   "version": "3.11.6"
  }
 },
 "nbformat": 4,
 "nbformat_minor": 5
}
